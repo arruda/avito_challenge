{
 "cells": [
  {
   "cell_type": "markdown",
   "metadata": {},
   "source": [
    "# Avito: O que é? "
   ]
  },
  {
   "cell_type": "code",
   "execution_count": null,
   "metadata": {},
   "outputs": [],
   "source": []
  },
  {
   "cell_type": "markdown",
   "metadata": {},
   "source": [
    "# Importando libs"
   ]
  },
  {
   "cell_type": "code",
   "execution_count": 3,
   "metadata": {},
   "outputs": [],
   "source": [
    "%matplotlib inline  \n",
    "import numpy as np\n",
    "import pandas as pd\n",
    "import scipy as sp\n",
    "\n",
    "from sklearn.model_selection import train_test_split\n",
    "from sklearn.metrics import mean_squared_error"
   ]
  },
  {
   "cell_type": "markdown",
   "metadata": {},
   "source": [
    "# Carregando o dataset"
   ]
  },
  {
   "cell_type": "code",
   "execution_count": 4,
   "metadata": {},
   "outputs": [],
   "source": [
    "df_simple = pd.read_csv('train.csv.zip', compression='zip')"
   ]
  },
  {
   "cell_type": "markdown",
   "metadata": {},
   "source": [
    "## Tratamento dos dados"
   ]
  },
  {
   "cell_type": "code",
   "execution_count": 5,
   "metadata": {},
   "outputs": [],
   "source": [
    "# transformando descrições nulas em str vazias\n",
    "df_simple['description'] = df_simple['description'].replace(np.nan, '', regex=True)\n"
   ]
  },
  {
   "cell_type": "code",
   "execution_count": 6,
   "metadata": {},
   "outputs": [],
   "source": [
    "\n",
    "# trocando para que colunas com valores em russo sejam substituidas por valores de 0-N\n",
    "# acho q isso vai facilitar na hora de acessar essas colunas\n",
    "# ao inves de tentar pegar pelos diferentes valores de cada uma\n",
    "def convert_columns_with_russian_values_to_numbers(df, cols):\n",
    "    transform_dict = {}\n",
    "    for col in cols:\n",
    "        cats = pd.Categorical(df[col]).categories\n",
    "        d = {}\n",
    "        for i, cat in enumerate(cats):\n",
    "            d[cat] = f'{i}'\n",
    "        transform_dict[col] = d\n",
    "    inverse_transform_dict = {}\n",
    "    for col, d in transform_dict.items():\n",
    "        inverse_transform_dict[col] = {v:k for k, v in d.items()}\n",
    "        \n",
    "    return df.replace(transform_dict), inverse_transform_dict\n",
    "# Aplica essa função para category_name e region\n",
    "df, inverse_transform_dict = convert_columns_with_russian_values_to_numbers(df_simple, ['category_name', 'region'])\n",
    "\n",
    "# transforma user_type e category_name em diferentes colunas com representações one-hot delas\n",
    "df = pd.get_dummies(df, columns=['user_type','category_name', ])\n"
   ]
  },
  {
   "cell_type": "code",
   "execution_count": 7,
   "metadata": {},
   "outputs": [],
   "source": [
    "# add deal_prob_class (low, average ou high)\n",
    "\n",
    "def convert_deal_probability_to_class(value):\n",
    "    classes = [\n",
    "\n",
    "    ]\n",
    "    if value * 100 <= (100 / 3 * 1):\n",
    "        return 'low'\n",
    "    elif value * 100 <= (100 / 3 * 2):\n",
    "        return 'average'\n",
    "    else:\n",
    "        return 'high'\n",
    "\n",
    "df['deal_prob_class'] = df['deal_probability'].apply(convert_deal_probability_to_class)"
   ]
  },
  {
   "cell_type": "markdown",
   "metadata": {},
   "source": [
    "## Train-test split (com amostra)"
   ]
  },
  {
   "cell_type": "code",
   "execution_count": 8,
   "metadata": {},
   "outputs": [],
   "source": [
    "# train_frac == 0.34 ~= 510000 ~= total de exemplos no test_csv.zip\n",
    "def get_train_test_samples(df, seed, train_frac=0.34): \n",
    "    train_dfs = []\n",
    "    test_dfs = []\n",
    "    for klass in ['low', 'average', 'high']:\n",
    "        klass_df = df[df['deal_prob_class'] == klass]\n",
    "        klass_train, klass_test = train_test_split(klass_df,  test_size=(1-train_frac), random_state=seed)\n",
    "        train_dfs.append(klass_train)\n",
    "        test_dfs.append(klass_test)\n",
    "        \n",
    "    train_df = pd.concat(train_dfs, ignore_index=True)\n",
    "    test_df = pd.concat(test_dfs, ignore_index=True)\n",
    "    return train_df, test_df\n",
    "\n",
    "seed = np.random.RandomState(seed=123654)\n",
    "train_df, test_df = get_train_test_samples(df, seed, train_frac=0.34)"
   ]
  },
  {
   "cell_type": "code",
   "execution_count": 9,
   "metadata": {},
   "outputs": [
    {
     "data": {
      "text/plain": [
       "511163"
      ]
     },
     "execution_count": 9,
     "metadata": {},
     "output_type": "execute_result"
    },
    {
     "data": {
      "image/png": "[encoded data removed]",
      "text/plain": [
       "<Figure size 432x288 with 1 Axes>"
      ]
     },
     "metadata": {},
     "output_type": "display_data"
    }
   ],
   "source": [
    "train_df.hist('deal_probability')\n",
    "train_df.shape[0]"
   ]
  },
  {
   "cell_type": "markdown",
   "metadata": {},
   "source": [
    "Comparando com o original:"
   ]
  },
  {
   "cell_type": "code",
   "execution_count": 12,
   "metadata": {},
   "outputs": [
    {
     "data": {
      "text/plain": [
       "array([[<matplotlib.axes._subplots.AxesSubplot object at 0x7fcabb7079e8>]],\n",
       "      dtype=object)"
      ]
     },
     "execution_count": 12,
     "metadata": {},
     "output_type": "execute_result"
    },
    {
     "data": {
      "image/png": "[encoded data removed]",
      "text/plain": [
       "<Figure size 432x288 with 1 Axes>"
      ]
     },
     "metadata": {},
     "output_type": "display_data"
    }
   ],
   "source": [
    "df.hist(column='deal_probability')"
   ]
  },
  {
   "cell_type": "markdown",
   "metadata": {},
   "source": [
    "## Sobre os dados"
   ]
  },
  {
   "cell_type": "markdown",
   "metadata": {},
   "source": [
    "* title\n",
    "* description\n",
    "* user_type\n",
    "* price\n",
    "* category_name\n",
    "* item_seq_number\n",
    "* region\n",
    "* deal_probability\n"
   ]
  },
  {
   "cell_type": "markdown",
   "metadata": {},
   "source": [
    "Uma olhada nos dados:"
   ]
  },
  {
   "cell_type": "code",
   "execution_count": 4,
   "metadata": {
    "scrolled": true
   },
   "outputs": [
    {
     "data": {
      "text/html": [
       "<div>\n",
       "<style scoped>\n",
       "    .dataframe tbody tr th:only-of-type {\n",
       "        vertical-align: middle;\n",
       "    }\n",
       "\n",
       "    .dataframe tbody tr th {\n",
       "        vertical-align: top;\n",
       "    }\n",
       "\n",
       "    .dataframe thead th {\n",
       "        text-align: right;\n",
       "    }\n",
       "</style>\n",
       "<table border=\"1\" class=\"dataframe\">\n",
       "  <thead>\n",
       "    <tr style=\"text-align: right;\">\n",
       "      <th></th>\n",
       "      <th>item_id</th>\n",
       "      <th>user_id</th>\n",
       "      <th>region</th>\n",
       "      <th>city</th>\n",
       "      <th>parent_category_name</th>\n",
       "      <th>category_name</th>\n",
       "      <th>param_1</th>\n",
       "      <th>param_2</th>\n",
       "      <th>param_3</th>\n",
       "      <th>title</th>\n",
       "      <th>description</th>\n",
       "      <th>price</th>\n",
       "      <th>item_seq_number</th>\n",
       "      <th>activation_date</th>\n",
       "      <th>user_type</th>\n",
       "      <th>image</th>\n",
       "      <th>image_top_1</th>\n",
       "      <th>deal_probability</th>\n",
       "    </tr>\n",
       "  </thead>\n",
       "  <tbody>\n",
       "    <tr>\n",
       "      <th>0</th>\n",
       "      <td>b912c3c6a6ad</td>\n",
       "      <td>e00f8ff2eaf9</td>\n",
       "      <td>Свердловская область</td>\n",
       "      <td>Екатеринбург</td>\n",
       "      <td>Личные вещи</td>\n",
       "      <td>Товары для детей и игрушки</td>\n",
       "      <td>Постельные принадлежности</td>\n",
       "      <td>NaN</td>\n",
       "      <td>NaN</td>\n",
       "      <td>Кокоби(кокон для сна)</td>\n",
       "      <td>Кокон для сна малыша,пользовались меньше месяц...</td>\n",
       "      <td>400.0</td>\n",
       "      <td>2</td>\n",
       "      <td>2017-03-28</td>\n",
       "      <td>Private</td>\n",
       "      <td>d10c7e016e03247a3bf2d13348fe959fe6f436c1caf64c...</td>\n",
       "      <td>1008.0</td>\n",
       "      <td>0.12789</td>\n",
       "    </tr>\n",
       "    <tr>\n",
       "      <th>1</th>\n",
       "      <td>2dac0150717d</td>\n",
       "      <td>39aeb48f0017</td>\n",
       "      <td>Самарская область</td>\n",
       "      <td>Самара</td>\n",
       "      <td>Для дома и дачи</td>\n",
       "      <td>Мебель и интерьер</td>\n",
       "      <td>Другое</td>\n",
       "      <td>NaN</td>\n",
       "      <td>NaN</td>\n",
       "      <td>Стойка для Одежды</td>\n",
       "      <td>Стойка для одежды, под вешалки. С бутика.</td>\n",
       "      <td>3000.0</td>\n",
       "      <td>19</td>\n",
       "      <td>2017-03-26</td>\n",
       "      <td>Private</td>\n",
       "      <td>79c9392cc51a9c81c6eb91eceb8e552171db39d7142700...</td>\n",
       "      <td>692.0</td>\n",
       "      <td>0.00000</td>\n",
       "    </tr>\n",
       "    <tr>\n",
       "      <th>2</th>\n",
       "      <td>ba83aefab5dc</td>\n",
       "      <td>91e2f88dd6e3</td>\n",
       "      <td>Ростовская область</td>\n",
       "      <td>Ростов-на-Дону</td>\n",
       "      <td>Бытовая электроника</td>\n",
       "      <td>Аудио и видео</td>\n",
       "      <td>Видео, DVD и Blu-ray плееры</td>\n",
       "      <td>NaN</td>\n",
       "      <td>NaN</td>\n",
       "      <td>Philips bluray</td>\n",
       "      <td>В хорошем состоянии, домашний кинотеатр с blu ...</td>\n",
       "      <td>4000.0</td>\n",
       "      <td>9</td>\n",
       "      <td>2017-03-20</td>\n",
       "      <td>Private</td>\n",
       "      <td>b7f250ee3f39e1fedd77c141f273703f4a9be59db4b48a...</td>\n",
       "      <td>3032.0</td>\n",
       "      <td>0.43177</td>\n",
       "    </tr>\n",
       "    <tr>\n",
       "      <th>3</th>\n",
       "      <td>02996f1dd2ea</td>\n",
       "      <td>bf5cccea572d</td>\n",
       "      <td>Татарстан</td>\n",
       "      <td>Набережные Челны</td>\n",
       "      <td>Личные вещи</td>\n",
       "      <td>Товары для детей и игрушки</td>\n",
       "      <td>Автомобильные кресла</td>\n",
       "      <td>NaN</td>\n",
       "      <td>NaN</td>\n",
       "      <td>Автокресло</td>\n",
       "      <td>Продам кресло от0-25кг</td>\n",
       "      <td>2200.0</td>\n",
       "      <td>286</td>\n",
       "      <td>2017-03-25</td>\n",
       "      <td>Company</td>\n",
       "      <td>e6ef97e0725637ea84e3d203e82dadb43ed3cc0a1c8413...</td>\n",
       "      <td>796.0</td>\n",
       "      <td>0.80323</td>\n",
       "    </tr>\n",
       "    <tr>\n",
       "      <th>4</th>\n",
       "      <td>7c90be56d2ab</td>\n",
       "      <td>ef50846afc0b</td>\n",
       "      <td>Волгоградская область</td>\n",
       "      <td>Волгоград</td>\n",
       "      <td>Транспорт</td>\n",
       "      <td>Автомобили</td>\n",
       "      <td>С пробегом</td>\n",
       "      <td>ВАЗ (LADA)</td>\n",
       "      <td>2110</td>\n",
       "      <td>ВАЗ 2110, 2003</td>\n",
       "      <td>Все вопросы по телефону.</td>\n",
       "      <td>40000.0</td>\n",
       "      <td>3</td>\n",
       "      <td>2017-03-16</td>\n",
       "      <td>Private</td>\n",
       "      <td>54a687a3a0fc1d68aed99bdaaf551c5c70b761b16fd0a2...</td>\n",
       "      <td>2264.0</td>\n",
       "      <td>0.20797</td>\n",
       "    </tr>\n",
       "  </tbody>\n",
       "</table>\n",
       "</div>"
      ],
      "text/plain": [
       "        item_id       user_id                 region              city  \\\n",
       "0  b912c3c6a6ad  e00f8ff2eaf9   Свердловская область      Екатеринбург   \n",
       "1  2dac0150717d  39aeb48f0017      Самарская область            Самара   \n",
       "2  ba83aefab5dc  91e2f88dd6e3     Ростовская область    Ростов-на-Дону   \n",
       "3  02996f1dd2ea  bf5cccea572d              Татарстан  Набережные Челны   \n",
       "4  7c90be56d2ab  ef50846afc0b  Волгоградская область         Волгоград   \n",
       "\n",
       "  parent_category_name               category_name  \\\n",
       "0          Личные вещи  Товары для детей и игрушки   \n",
       "1      Для дома и дачи           Мебель и интерьер   \n",
       "2  Бытовая электроника               Аудио и видео   \n",
       "3          Личные вещи  Товары для детей и игрушки   \n",
       "4            Транспорт                  Автомобили   \n",
       "\n",
       "                       param_1     param_2 param_3                  title  \\\n",
       "0    Постельные принадлежности         NaN     NaN  Кокоби(кокон для сна)   \n",
       "1                       Другое         NaN     NaN      Стойка для Одежды   \n",
       "2  Видео, DVD и Blu-ray плееры         NaN     NaN         Philips bluray   \n",
       "3         Автомобильные кресла         NaN     NaN             Автокресло   \n",
       "4                   С пробегом  ВАЗ (LADA)    2110         ВАЗ 2110, 2003   \n",
       "\n",
       "                                         description    price  \\\n",
       "0  Кокон для сна малыша,пользовались меньше месяц...    400.0   \n",
       "1          Стойка для одежды, под вешалки. С бутика.   3000.0   \n",
       "2  В хорошем состоянии, домашний кинотеатр с blu ...   4000.0   \n",
       "3                             Продам кресло от0-25кг   2200.0   \n",
       "4                           Все вопросы по телефону.  40000.0   \n",
       "\n",
       "   item_seq_number activation_date user_type  \\\n",
       "0                2      2017-03-28   Private   \n",
       "1               19      2017-03-26   Private   \n",
       "2                9      2017-03-20   Private   \n",
       "3              286      2017-03-25   Company   \n",
       "4                3      2017-03-16   Private   \n",
       "\n",
       "                                               image  image_top_1  \\\n",
       "0  d10c7e016e03247a3bf2d13348fe959fe6f436c1caf64c...       1008.0   \n",
       "1  79c9392cc51a9c81c6eb91eceb8e552171db39d7142700...        692.0   \n",
       "2  b7f250ee3f39e1fedd77c141f273703f4a9be59db4b48a...       3032.0   \n",
       "3  e6ef97e0725637ea84e3d203e82dadb43ed3cc0a1c8413...        796.0   \n",
       "4  54a687a3a0fc1d68aed99bdaaf551c5c70b761b16fd0a2...       2264.0   \n",
       "\n",
       "   deal_probability  \n",
       "0           0.12789  \n",
       "1           0.00000  \n",
       "2           0.43177  \n",
       "3           0.80323  \n",
       "4           0.20797  "
      ]
     },
     "execution_count": 4,
     "metadata": {},
     "output_type": "execute_result"
    }
   ],
   "source": [
    "df.head(5)"
   ]
  },
  {
   "cell_type": "markdown",
   "metadata": {},
   "source": [
    "Agrupando pelas categorias"
   ]
  },
  {
   "cell_type": "code",
   "execution_count": 8,
   "metadata": {},
   "outputs": [
    {
     "data": {
      "text/html": [
       "<div>\n",
       "<style scoped>\n",
       "    .dataframe tbody tr th:only-of-type {\n",
       "        vertical-align: middle;\n",
       "    }\n",
       "\n",
       "    .dataframe tbody tr th {\n",
       "        vertical-align: top;\n",
       "    }\n",
       "\n",
       "    .dataframe thead th {\n",
       "        text-align: right;\n",
       "    }\n",
       "</style>\n",
       "<table border=\"1\" class=\"dataframe\">\n",
       "  <thead>\n",
       "    <tr style=\"text-align: right;\">\n",
       "      <th></th>\n",
       "      <th>item_id</th>\n",
       "      <th>user_id</th>\n",
       "      <th>region</th>\n",
       "      <th>city</th>\n",
       "      <th>parent_category_name</th>\n",
       "      <th>param_1</th>\n",
       "      <th>param_2</th>\n",
       "      <th>param_3</th>\n",
       "      <th>title</th>\n",
       "      <th>description</th>\n",
       "      <th>price</th>\n",
       "      <th>item_seq_number</th>\n",
       "      <th>activation_date</th>\n",
       "      <th>user_type</th>\n",
       "      <th>image</th>\n",
       "      <th>image_top_1</th>\n",
       "      <th>deal_probability</th>\n",
       "    </tr>\n",
       "    <tr>\n",
       "      <th>category_name</th>\n",
       "      <th></th>\n",
       "      <th></th>\n",
       "      <th></th>\n",
       "      <th></th>\n",
       "      <th></th>\n",
       "      <th></th>\n",
       "      <th></th>\n",
       "      <th></th>\n",
       "      <th></th>\n",
       "      <th></th>\n",
       "      <th></th>\n",
       "      <th></th>\n",
       "      <th></th>\n",
       "      <th></th>\n",
       "      <th></th>\n",
       "      <th></th>\n",
       "      <th></th>\n",
       "    </tr>\n",
       "  </thead>\n",
       "  <tbody>\n",
       "    <tr>\n",
       "      <th>Автомобили</th>\n",
       "      <td>62494</td>\n",
       "      <td>62494</td>\n",
       "      <td>62494</td>\n",
       "      <td>62494</td>\n",
       "      <td>62494</td>\n",
       "      <td>62055</td>\n",
       "      <td>62055</td>\n",
       "      <td>61937</td>\n",
       "      <td>62494</td>\n",
       "      <td>62494</td>\n",
       "      <td>61287</td>\n",
       "      <td>62494</td>\n",
       "      <td>62494</td>\n",
       "      <td>62494</td>\n",
       "      <td>58949</td>\n",
       "      <td>58949</td>\n",
       "      <td>62494</td>\n",
       "    </tr>\n",
       "    <tr>\n",
       "      <th>Аквариум</th>\n",
       "      <td>4840</td>\n",
       "      <td>4840</td>\n",
       "      <td>4840</td>\n",
       "      <td>4840</td>\n",
       "      <td>4840</td>\n",
       "      <td>0</td>\n",
       "      <td>0</td>\n",
       "      <td>0</td>\n",
       "      <td>4840</td>\n",
       "      <td>4504</td>\n",
       "      <td>4302</td>\n",
       "      <td>4840</td>\n",
       "      <td>4840</td>\n",
       "      <td>4840</td>\n",
       "      <td>4519</td>\n",
       "      <td>4519</td>\n",
       "      <td>4840</td>\n",
       "    </tr>\n",
       "    <tr>\n",
       "      <th>Аудио и видео</th>\n",
       "      <td>27036</td>\n",
       "      <td>27036</td>\n",
       "      <td>27036</td>\n",
       "      <td>27036</td>\n",
       "      <td>27036</td>\n",
       "      <td>26857</td>\n",
       "      <td>0</td>\n",
       "      <td>0</td>\n",
       "      <td>27036</td>\n",
       "      <td>24880</td>\n",
       "      <td>26186</td>\n",
       "      <td>27036</td>\n",
       "      <td>27036</td>\n",
       "      <td>27036</td>\n",
       "      <td>25893</td>\n",
       "      <td>25893</td>\n",
       "      <td>27036</td>\n",
       "    </tr>\n",
       "  </tbody>\n",
       "</table>\n",
       "</div>"
      ],
      "text/plain": [
       "               item_id  user_id  region   city  parent_category_name  param_1  \\\n",
       "category_name                                                                   \n",
       "Автомобили       62494    62494   62494  62494                 62494    62055   \n",
       "Аквариум          4840     4840    4840   4840                  4840        0   \n",
       "Аудио и видео    27036    27036   27036  27036                 27036    26857   \n",
       "\n",
       "               param_2  param_3  title  description  price  item_seq_number  \\\n",
       "category_name                                                                 \n",
       "Автомобили       62055    61937  62494        62494  61287            62494   \n",
       "Аквариум             0        0   4840         4504   4302             4840   \n",
       "Аудио и видео        0        0  27036        24880  26186            27036   \n",
       "\n",
       "               activation_date  user_type  image  image_top_1  \\\n",
       "category_name                                                   \n",
       "Автомобили               62494      62494  58949        58949   \n",
       "Аквариум                  4840       4840   4519         4519   \n",
       "Аудио и видео            27036      27036  25893        25893   \n",
       "\n",
       "               deal_probability  \n",
       "category_name                    \n",
       "Автомобили                62494  \n",
       "Аквариум                   4840  \n",
       "Аудио и видео             27036  "
      ]
     },
     "execution_count": 8,
     "metadata": {},
     "output_type": "execute_result"
    }
   ],
   "source": [
    "group_category = df_simple.groupby('category_name')\n",
    "group_category.count().head(3)"
   ]
  },
  {
   "cell_type": "markdown",
   "metadata": {},
   "source": [
    "Conferindo comportamento de items com preço 0\n",
    "grande parte é proximo de 0\n",
    "E alguns tmb são muito vendidos (vi que tem muitas coisas de troca, ou adoção de animal abandonado por exemplo)"
   ]
  },
  {
   "cell_type": "code",
   "execution_count": 6,
   "metadata": {},
   "outputs": [
    {
     "name": "stdout",
     "output_type": "stream",
     "text": [
      "(2369, 18)\n",
      "(2277, 18)\n"
     ]
    },
    {
     "data": {
      "text/plain": [
       "array([[<matplotlib.axes._subplots.AxesSubplot object at 0x7f931a501588>]],\n",
       "      dtype=object)"
      ]
     },
     "execution_count": 6,
     "metadata": {},
     "output_type": "execute_result"
    },
    {
     "data": {
      "image/png": "[encoded data removed]",
      "text/plain": [
       "<Figure size 432x288 with 1 Axes>"
      ]
     },
     "metadata": {},
     "output_type": "display_data"
    }
   ],
   "source": [
    "free_price = df[(df['price'] == 0)]\n",
    "print(free_price[(free_price['deal_probability'] < 0.25)].shape)\n",
    "print(free_price[(free_price['deal_probability'] >= 0.25)].shape)\n",
    "free_price.hist(column='deal_probability')"
   ]
  },
  {
   "cell_type": "markdown",
   "metadata": {},
   "source": [
    "## Visualizando a distribuiçã das probabilidades de venda"
   ]
  },
  {
   "cell_type": "code",
   "execution_count": 10,
   "metadata": {},
   "outputs": [
    {
     "data": {
      "text/plain": [
       "array([[<matplotlib.axes._subplots.AxesSubplot object at 0x7f44380074a8>]],\n",
       "      dtype=object)"
      ]
     },
     "execution_count": 10,
     "metadata": {},
     "output_type": "execute_result"
    },
    {
     "data": {
      "image/png": "[encoded data removed]",
      "text/plain": [
       "<Figure size 432x288 with 1 Axes>"
      ]
     },
     "metadata": {},
     "output_type": "display_data"
    }
   ],
   "source": [
    "df.hist(column='deal_probability')"
   ]
  },
  {
   "cell_type": "markdown",
   "metadata": {},
   "source": [
    "# Testando montar um bag of words"
   ]
  },
  {
   "cell_type": "code",
   "execution_count": 13,
   "metadata": {},
   "outputs": [
    {
     "name": "stdout",
     "output_type": "stream",
     "text": [
      "[nltk_data] Downloading package stopwords to /home/arruda/nltk_data...\n",
      "[nltk_data]   Package stopwords is already up-to-date!\n"
     ]
    }
   ],
   "source": [
    "from sklearn.feature_extraction.text import CountVectorizer\n",
    "import nltk\n",
    "from nltk.corpus import stopwords\n",
    "\n",
    "nltk.download('stopwords')\n",
    "\n",
    "def prepare_vectorizer_and_col(df, col_name):\n",
    "    vectorizer = CountVectorizer(lowercase=True, stop_words=stopwords.words('russian'))\n",
    "    corpus = df[col_name]\n",
    "    col_vectorized = vectorizer.fit_transform(corpus)\n",
    "    return col_vectorized, vectorizer\n",
    "\n",
    "    \n",
    "\n"
   ]
  },
  {
   "cell_type": "code",
   "execution_count": null,
   "metadata": {},
   "outputs": [],
   "source": [
    "description_vectorized, vectorizer_description = prepare_vectorizer_and_col(df, 'description')"
   ]
  },
  {
   "cell_type": "code",
   "execution_count": 15,
   "metadata": {},
   "outputs": [],
   "source": [
    "from sklearn.naive_bayes import MultinomialNB\n",
    "\n",
    "def get_multinomial_NB(X, y):\n",
    "    classifier = MultinomialNB()\n",
    "    classifier.fit(X, y)\n",
    "    return classifier\n"
   ]
  },
  {
   "cell_type": "code",
   "execution_count": 16,
   "metadata": {},
   "outputs": [],
   "source": [
    "model_description_multinomial_nb = get_multinomial_NB(description_vectorized, df['deal_prob_class'])"
   ]
  },
  {
   "cell_type": "markdown",
   "metadata": {},
   "source": [
    "## testando modelo LinearRegression"
   ]
  },
  {
   "cell_type": "code",
   "execution_count": 24,
   "metadata": {},
   "outputs": [
    {
     "data": {
      "text/plain": [
       "LinearRegression(copy_X=True, fit_intercept=True, n_jobs=1, normalize=False)"
      ]
     },
     "execution_count": 24,
     "metadata": {},
     "output_type": "execute_result"
    }
   ],
   "source": [
    "from sklearn.linear_model import LinearRegression\n",
    "\n",
    "# clf.(description_vectorized, df['deal_probability'])\n",
    "linear_regression = LinearRegression()\n",
    "linear_regression.fit(description_vectorized, df['deal_probability'])\n",
    "# clf.predict()\n"
   ]
  },
  {
   "cell_type": "code",
   "execution_count": 24,
   "metadata": {},
   "outputs": [],
   "source": [
    "import pickle\n",
    "def save_description_linear_regression_model(pkl_filename, model):\n",
    "    with open(pkl_filename, 'wb') as f:\n",
    "        pickle.dump(model, f)\n",
    "def load_description_linear_regression_model(pkl_filename):\n",
    "    with open(pkl_filename, 'rb') as f:\n",
    "        pickle_model = pickle.load(f)\n",
    "        return pickle_model"
   ]
  },
  {
   "cell_type": "code",
   "execution_count": 37,
   "metadata": {},
   "outputs": [],
   "source": [
    "save_description_linear_regression_model('description_countvec_lreg_model.pkl', linear_regression)\n",
    "description_countvec_lreg_model = load_description_linear_regression_model('description_countvec_lreg_model.pkl')"
   ]
  },
  {
   "cell_type": "code",
   "execution_count": null,
   "metadata": {},
   "outputs": [],
   "source": [
    "testv = description_countvec_lreg_model.coef_ == linear_regression.coef_"
   ]
  },
  {
   "cell_type": "markdown",
   "metadata": {},
   "source": [
    "### Testando o modelo em cima do proprio dataset de treino:"
   ]
  },
  {
   "cell_type": "code",
   "execution_count": 53,
   "metadata": {},
   "outputs": [
    {
     "data": {
      "text/plain": [
       "0.0396135274399414"
      ]
     },
     "execution_count": 53,
     "metadata": {},
     "output_type": "execute_result"
    }
   ],
   "source": [
    "from sklearn.metrics import mean_squared_error\n",
    "#Bobinho, testando em cima do proprio treino, e ainda assim ficou bem ruim\n",
    "desc_countvec_lreg_predict = description_countvec_lreg_model.predict(description_vectorized)\n",
    "\n",
    "mean_squared_error(df['deal_probability'], desc_countvec_lreg_predict)"
   ]
  },
  {
   "cell_type": "markdown",
   "metadata": {},
   "source": [
    "## Testando usando linear regression + o predict do modelo anterior"
   ]
  },
  {
   "cell_type": "markdown",
   "metadata": {},
   "source": [
    "primeiro add essa predict do modelo anterior no dataset"
   ]
  },
  {
   "cell_type": "code",
   "execution_count": 57,
   "metadata": {},
   "outputs": [],
   "source": [
    "df['desc_countvec_lreg_predict'] = desc_countvec_lreg_predict"
   ]
  },
  {
   "cell_type": "markdown",
   "metadata": {},
   "source": [
    "Agora usar isso e 'user_type, price, category_name, item_seq_number, region' pra \n",
    " fazer uma nova linear regression (só preciso normalizar primeiro e arrumar as colunas que são classes)"
   ]
  },
  {
   "cell_type": "markdown",
   "metadata": {},
   "source": [
    "# Tudo de novo, mas usando train dataset"
   ]
  },
  {
   "cell_type": "code",
   "execution_count": 14,
   "metadata": {},
   "outputs": [
    {
     "name": "stdout",
     "output_type": "stream",
     "text": [
      "[nltk_data] Downloading package stopwords to /home/arruda/nltk_data...\n",
      "[nltk_data]   Package stopwords is already up-to-date!\n"
     ]
    }
   ],
   "source": [
    "from rake_nltk import Rake\n",
    "\n",
    "def return_description_reduced(df):\n",
    "    # Uses stopwords for russian from NLTK, and all puntuation characters.\n",
    "    r = Rake(language='russian')\n",
    "    \n",
    "    total = df['description'].shape[0]\n",
    "    \n",
    "    verbose_step_size = int(total/10)\n",
    "    description_reduced = []\n",
    "    for i, description in enumerate(df['description']):\n",
    "        r.extract_keywords_from_text(description)\n",
    "        phrases_and_scores = r.get_ranked_phrases_with_scores()    \n",
    "        mean_score = np.mean([x[0] for x in phrases_and_scores])\n",
    "\n",
    "        highest_phrases = [x[1] for x in phrases_and_scores if x[0] >= mean_score]\n",
    "        reduced_description = ' '.join(highest_phrases)\n",
    "        description_reduced.append(reduced_description)\n",
    "        \n",
    "        \n",
    "        if i % verbose_step_size == 0:\n",
    "            print(f'{int(i/total*100)}') \n",
    "        \n",
    "    return description_reduced\n",
    "\n"
   ]
  },
  {
   "cell_type": "code",
   "execution_count": null,
   "metadata": {},
   "outputs": [],
   "source": [
    "from sklearn.feature_extraction.text import CountVectorizer\n",
    "import nltk\n",
    "from nltk.corpus import stopwords\n",
    "\n",
    "nltk.download('stopwords')\n",
    "\n",
    "def prepare_vectorizer_and_col(df, col_name):\n",
    "    vectorizer = CountVectorizer(lowercase=True, stop_words=stopwords.words('russian'))\n",
    "    corpus = df[col_name]\n",
    "    col_vectorized = vectorizer.fit_transform(corpus)\n",
    "    return col_vectorized, vectorizer\n"
   ]
  },
  {
   "cell_type": "code",
   "execution_count": 11,
   "metadata": {},
   "outputs": [
    {
     "name": "stdout",
     "output_type": "stream",
     "text": [
      "0.0\n"
     ]
    },
    {
     "name": "stderr",
     "output_type": "stream",
     "text": [
      "/home/arruda/.virtualenvs/icd_final-cXF_SA4B/lib/python3.6/site-packages/numpy/core/fromnumeric.py:2957: RuntimeWarning: Mean of empty slice.\n",
      "  out=out, **kwargs)\n",
      "/home/arruda/.virtualenvs/icd_final-cXF_SA4B/lib/python3.6/site-packages/numpy/core/_methods.py:80: RuntimeWarning: invalid value encountered in double_scalars\n",
      "  ret = ret.dtype.type(ret / rcount)\n"
     ]
    },
    {
     "name": "stdout",
     "output_type": "stream",
     "text": [
      "0.09999941310306106\n",
      "0.1999988262061221\n",
      "0.2999982393091832\n",
      "0.3999976524122442\n",
      "0.4999970655153053\n",
      "0.5999964786183664\n",
      "0.6999958917214274\n",
      "0.7999953048244884\n",
      "0.8999947179275495\n",
      "0.9999941310306106\n"
     ]
    }
   ],
   "source": [
    "train_df['description_reduced'] = return_description_reduced(train_df)"
   ]
  },
  {
   "cell_type": "code",
   "execution_count": 15,
   "metadata": {},
   "outputs": [],
   "source": [
    "description_vectorized, vectorizer_description = prepare_vectorizer_and_col(train_df, 'description_reduced')"
   ]
  },
  {
   "cell_type": "code",
   "execution_count": 16,
   "metadata": {
    "scrolled": true
   },
   "outputs": [
    {
     "name": "stdout",
     "output_type": "stream",
     "text": [
      "0.0\n"
     ]
    },
    {
     "name": "stderr",
     "output_type": "stream",
     "text": [
      "/home/arruda/.virtualenvs/icd_final-cXF_SA4B/lib/python3.6/site-packages/numpy/core/fromnumeric.py:2957: RuntimeWarning: Mean of empty slice.\n",
      "  out=out, **kwargs)\n",
      "/home/arruda/.virtualenvs/icd_final-cXF_SA4B/lib/python3.6/site-packages/numpy/core/_methods.py:80: RuntimeWarning: invalid value encountered in double_scalars\n",
      "  ret = ret.dtype.type(ret / rcount)\n"
     ]
    },
    {
     "name": "stdout",
     "output_type": "stream",
     "text": [
      "0.09999989922006408\n",
      "0.19999979844012816\n",
      "0.29999969766019224\n",
      "0.3999995968802563\n",
      "0.4999994961003204\n",
      "0.5999993953203845\n",
      "0.6999992945404485\n",
      "0.7999991937605127\n",
      "0.8999990929805767\n",
      "0.9999989922006408\n"
     ]
    }
   ],
   "source": [
    "test_df['description_reduced'] = return_description_reduced(test_df)"
   ]
  },
  {
   "cell_type": "code",
   "execution_count": 18,
   "metadata": {},
   "outputs": [],
   "source": [
    "description_vectorized_test = vectorizer_description.transform(test_df['description_reduced'])"
   ]
  },
  {
   "cell_type": "markdown",
   "metadata": {},
   "source": [
    "## testando BayesianRidge"
   ]
  },
  {
   "cell_type": "code",
   "execution_count": 18,
   "metadata": {
    "scrolled": true
   },
   "outputs": [
    {
     "data": {
      "text/plain": [
       "(16000, 237385)"
      ]
     },
     "execution_count": 18,
     "metadata": {},
     "output_type": "execute_result"
    }
   ],
   "source": [
    "sample_indexes = np.random.choice(description_vectorized.shape[0], size=16000)\n",
    "description_vectorized_small_sample = description_vectorized[sample_indexes].toarray()\n",
    "description_vectorized_small_sample.shape"
   ]
  },
  {
   "cell_type": "markdown",
   "metadata": {},
   "source": [
    "Precisa de uma matriz densa, e nao uma sparse."
   ]
  },
  {
   "cell_type": "code",
   "execution_count": 43,
   "metadata": {},
   "outputs": [],
   "source": [
    "# from sklearn.linear_model import BayesianRidge\n",
    "# clf = BayesianRidge()\n",
    "# clf.fit(description_vectorized, df['deal_probability'])\n",
    "# # clf.predict()\n"
   ]
  },
  {
   "cell_type": "markdown",
   "metadata": {},
   "source": [
    "**Inviavel, não tem memoria que dê jeito**"
   ]
  },
  {
   "cell_type": "markdown",
   "metadata": {},
   "source": [
    "## Regressão linear"
   ]
  },
  {
   "cell_type": "code",
   "execution_count": 18,
   "metadata": {},
   "outputs": [
    {
     "data": {
      "text/plain": [
       "LinearRegression(copy_X=True, fit_intercept=True, n_jobs=4, normalize=False)"
      ]
     },
     "execution_count": 18,
     "metadata": {},
     "output_type": "execute_result"
    }
   ],
   "source": [
    "from sklearn.linear_model import LinearRegression\n",
    "\n",
    "try:\n",
    "    desc_red_countvec_lreg_model = load_description_linear_regression_model(\n",
    "        'description_reduced_countvec_lreg_model.pkl')\n",
    "except:\n",
    "    desc_red_countvec_lreg_model = LinearRegression(n_jobs=4)\n",
    "    desc_red_countvec_lreg_model.fit(description_vectorized, train_df['deal_probability'])\n"
   ]
  },
  {
   "cell_type": "code",
   "execution_count": 22,
   "metadata": {},
   "outputs": [],
   "source": [
    "save_description_linear_regression_model(\n",
    "    pkl_filename='description_reduced_countvec_lreg_model.pkl', \n",
    "    model=desc_red_countvec_lreg_model\n",
    ")"
   ]
  },
  {
   "cell_type": "code",
   "execution_count": 89,
   "metadata": {},
   "outputs": [
    {
     "name": "stdout",
     "output_type": "stream",
     "text": [
      "0.08696623321357727\n",
      "0.08882529653938122\n"
     ]
    }
   ],
   "source": [
    "print(mean_squared_error(test_df['deal_probability'], np.zeros(y_predic.shape)))\n",
    "print(mean_squared_error(test_df['deal_probability'], y_treated))"
   ]
  },
  {
   "cell_type": "code",
   "execution_count": 90,
   "metadata": {},
   "outputs": [],
   "source": [
    "prediction_test_df = pd.DataFrame(\n",
    "    {'deal_probability': y_treated}, \n",
    "    index=test_df['item_id'])"
   ]
  },
  {
   "cell_type": "code",
   "execution_count": 91,
   "metadata": {
    "scrolled": true
   },
   "outputs": [
    {
     "data": {
      "text/plain": [
       "<matplotlib.axes._subplots.AxesSubplot at 0x7fb396058160>"
      ]
     },
     "execution_count": 91,
     "metadata": {},
     "output_type": "execute_result"
    },
    {
     "data": {
      "image/png": "[encoded data removed]",
      "text/plain": [
       "<Figure size 432x288 with 1 Axes>"
      ]
     },
     "metadata": {},
     "output_type": "display_data"
    }
   ],
   "source": [
    "prediction_test_df['deal_probability'].hist()"
   ]
  },
  {
   "cell_type": "markdown",
   "metadata": {},
   "source": [
    "## Using SVR"
   ]
  },
  {
   "cell_type": "code",
   "execution_count": 20,
   "metadata": {},
   "outputs": [],
   "source": [
    "from sklearn.svm import SVR\n"
   ]
  },
  {
   "cell_type": "code",
   "execution_count": 22,
   "metadata": {},
   "outputs": [],
   "source": [
    "try:\n",
    "    description_reduced_countvec_svr_model = load_description_linear_regression_model(\n",
    "        'description_reduced_countvec_svr_model.pkl')\n",
    "except:\n",
    "    description_reduced_countvec_svr_model = SVR(kernel='poly', verbose=True, cache_size=16000)     \n",
    "    description_reduced_countvec_svr_model.fit(description_vectorized, train_df['deal_probability'])\n"
   ]
  },
  {
   "cell_type": "code",
   "execution_count": 29,
   "metadata": {},
   "outputs": [],
   "source": [
    "save_description_linear_regression_model(\n",
    "    pkl_filename='description_reduced_countvec_svr_model.pkl', \n",
    "    model=description_reduced_countvec_svr_model\n",
    ")"
   ]
  },
  {
   "cell_type": "code",
   "execution_count": 27,
   "metadata": {},
   "outputs": [],
   "source": [
    "y_predic = description_reduced_countvec_svr_model.predict(description_vectorized_test)\n",
    "def limit_value(value):\n",
    "    if value > 1:\n",
    "        value = 1\n",
    "    elif value < 0:\n",
    "        value = 0\n",
    "    return value\n",
    "y_treated = np.array(list(map(limit_value, y_predic)))"
   ]
  },
  {
   "cell_type": "code",
   "execution_count": 28,
   "metadata": {},
   "outputs": [
    {
     "name": "stdout",
     "output_type": "stream",
     "text": [
      "0.08696623321357727\n",
      "0.06911413911149261\n"
     ]
    }
   ],
   "source": [
    "print(mean_squared_error(test_df['deal_probability'], np.zeros(y_predic.shape)))\n",
    "print(mean_squared_error(test_df['deal_probability'], y_treated))"
   ]
  },
  {
   "cell_type": "markdown",
   "metadata": {},
   "source": [
    "# Running on test.csv for submission"
   ]
  },
  {
   "cell_type": "code",
   "execution_count": 32,
   "metadata": {},
   "outputs": [],
   "source": [
    "submission_df = pd.read_csv('test.csv.zip', compression='zip')\n",
    "submission_df['description'] = submission_df['description'].replace(np.nan, '', regex=True)"
   ]
  },
  {
   "cell_type": "code",
   "execution_count": 33,
   "metadata": {},
   "outputs": [
    {
     "name": "stdout",
     "output_type": "stream",
     "text": [
      "0.0\n"
     ]
    },
    {
     "name": "stderr",
     "output_type": "stream",
     "text": [
      "/home/arruda/.virtualenvs/icd_final-cXF_SA4B/lib/python3.6/site-packages/numpy/core/fromnumeric.py:2957: RuntimeWarning: Mean of empty slice.\n",
      "  out=out, **kwargs)\n",
      "/home/arruda/.virtualenvs/icd_final-cXF_SA4B/lib/python3.6/site-packages/numpy/core/_methods.py:80: RuntimeWarning: invalid value encountered in double_scalars\n",
      "  ret = ret.dtype.type(ret / rcount)\n"
     ]
    },
    {
     "name": "stdout",
     "output_type": "stream",
     "text": [
      "0.09999842655348341\n",
      "0.19999685310696683\n",
      "0.29999527966045025\n",
      "0.39999370621393365\n",
      "0.49999213276741705\n",
      "0.5999905593209005\n",
      "0.6999889858743839\n",
      "0.7999874124278673\n",
      "0.8999858389813508\n",
      "0.9999842655348341\n"
     ]
    }
   ],
   "source": [
    "submission_df['description_reduced'] = return_description_reduced(submission_df)"
   ]
  },
  {
   "cell_type": "code",
   "execution_count": 34,
   "metadata": {},
   "outputs": [],
   "source": [
    "description_vectorized_submission = vectorizer_description.transform(submission_df['description_reduced'])"
   ]
  },
  {
   "cell_type": "markdown",
   "metadata": {},
   "source": [
    "### linear regression"
   ]
  },
  {
   "cell_type": "code",
   "execution_count": 46,
   "metadata": {},
   "outputs": [],
   "source": [
    "y_predic = desc_red_countvec_lreg_model.predict(description_vectorized_submission)"
   ]
  },
  {
   "cell_type": "markdown",
   "metadata": {},
   "source": [
    "### svr"
   ]
  },
  {
   "cell_type": "code",
   "execution_count": 35,
   "metadata": {},
   "outputs": [],
   "source": [
    "y_predic = description_reduced_countvec_svr_model.predict(description_vectorized_submission)"
   ]
  },
  {
   "cell_type": "markdown",
   "metadata": {},
   "source": [
    "### post-processing"
   ]
  },
  {
   "cell_type": "code",
   "execution_count": 53,
   "metadata": {},
   "outputs": [],
   "source": [
    "min_y_predic = min(y_predic)\n",
    "max_y_predic = max(y_predic)\n",
    "\n",
    "y_predic_normalized = (y_predic-min_y_predic)/(max_y_predic-min_y_predic)"
   ]
  },
  {
   "cell_type": "code",
   "execution_count": 36,
   "metadata": {},
   "outputs": [],
   "source": [
    "def limit_value(value):\n",
    "    if value > 1:\n",
    "        value = 1\n",
    "    elif value < 0:\n",
    "        value = 0\n",
    "    return value\n",
    "y_treated = np.array(list(map(limit_value, y_predic)))\n"
   ]
  },
  {
   "cell_type": "code",
   "execution_count": 40,
   "metadata": {},
   "outputs": [],
   "source": [
    "submission_prediction_df = pd.DataFrame(\n",
    "    {'deal_probability': y_predic}, \n",
    "    index=submission_df['item_id'])"
   ]
  },
  {
   "cell_type": "code",
   "execution_count": 41,
   "metadata": {},
   "outputs": [
    {
     "data": {
      "text/html": [
       "<div>\n",
       "<style scoped>\n",
       "    .dataframe tbody tr th:only-of-type {\n",
       "        vertical-align: middle;\n",
       "    }\n",
       "\n",
       "    .dataframe tbody tr th {\n",
       "        vertical-align: top;\n",
       "    }\n",
       "\n",
       "    .dataframe thead th {\n",
       "        text-align: right;\n",
       "    }\n",
       "</style>\n",
       "<table border=\"1\" class=\"dataframe\">\n",
       "  <thead>\n",
       "    <tr style=\"text-align: right;\">\n",
       "      <th></th>\n",
       "      <th>deal_probability</th>\n",
       "    </tr>\n",
       "    <tr>\n",
       "      <th>item_id</th>\n",
       "      <th></th>\n",
       "    </tr>\n",
       "  </thead>\n",
       "  <tbody>\n",
       "    <tr>\n",
       "      <th>6544e41a8817</th>\n",
       "      <td>0.100465</td>\n",
       "    </tr>\n",
       "    <tr>\n",
       "      <th>65b9484d670f</th>\n",
       "      <td>0.100465</td>\n",
       "    </tr>\n",
       "    <tr>\n",
       "      <th>8bab230b2ecd</th>\n",
       "      <td>0.100465</td>\n",
       "    </tr>\n",
       "    <tr>\n",
       "      <th>8e348601fefc</th>\n",
       "      <td>0.100465</td>\n",
       "    </tr>\n",
       "    <tr>\n",
       "      <th>8bd2fe400b89</th>\n",
       "      <td>0.100465</td>\n",
       "    </tr>\n",
       "  </tbody>\n",
       "</table>\n",
       "</div>"
      ],
      "text/plain": [
       "              deal_probability\n",
       "item_id                       \n",
       "6544e41a8817          0.100465\n",
       "65b9484d670f          0.100465\n",
       "8bab230b2ecd          0.100465\n",
       "8e348601fefc          0.100465\n",
       "8bd2fe400b89          0.100465"
      ]
     },
     "execution_count": 41,
     "metadata": {},
     "output_type": "execute_result"
    }
   ],
   "source": [
    "submission_prediction_df.head()"
   ]
  },
  {
   "cell_type": "code",
   "execution_count": 42,
   "metadata": {},
   "outputs": [
    {
     "data": {
      "text/plain": [
       "<matplotlib.axes._subplots.AxesSubplot at 0x7f75f7850978>"
      ]
     },
     "execution_count": 42,
     "metadata": {},
     "output_type": "execute_result"
    },
    {
     "data": {
      "image/png": "[encoded data removed]",
      "text/plain": [
       "<Figure size 432x288 with 1 Axes>"
      ]
     },
     "metadata": {},
     "output_type": "display_data"
    }
   ],
   "source": [
    "submission_prediction_df['deal_probability'].hist()"
   ]
  },
  {
   "cell_type": "code",
   "execution_count": 43,
   "metadata": {},
   "outputs": [
    {
     "data": {
      "text/plain": [
       "count    5.084380e+05\n",
       "mean     1.004648e-01\n",
       "std      1.544080e-09\n",
       "min      1.004648e-01\n",
       "25%      1.004648e-01\n",
       "50%      1.004648e-01\n",
       "75%      1.004648e-01\n",
       "max      1.004654e-01\n",
       "Name: deal_probability, dtype: float64"
      ]
     },
     "execution_count": 43,
     "metadata": {},
     "output_type": "execute_result"
    }
   ],
   "source": [
    "submission_prediction_df['deal_probability'].describe()"
   ]
  },
  {
   "cell_type": "code",
   "execution_count": 44,
   "metadata": {},
   "outputs": [],
   "source": [
    "submission_prediction_df.to_csv('submission_svr.csv')"
   ]
  },
  {
   "cell_type": "code",
   "execution_count": null,
   "metadata": {},
   "outputs": [],
   "source": []
  }
 ],
 "metadata": {
  "kernelspec": {
   "display_name": "Python 3",
   "language": "python",
   "name": "python3"
  },
  "language_info": {
   "codemirror_mode": {
    "name": "ipython",
    "version": 3
   },
   "file_extension": ".py",
   "mimetype": "text/x-python",
   "name": "python",
   "nbconvert_exporter": "python",
   "pygments_lexer": "ipython3",
   "version": "3.6.5"
  }
 },
 "nbformat": 4,
 "nbformat_minor": 2
}
