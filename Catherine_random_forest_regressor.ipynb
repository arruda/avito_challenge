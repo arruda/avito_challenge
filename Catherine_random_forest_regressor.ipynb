{
 "cells": [
  {
   "cell_type": "markdown",
   "metadata": {},
   "source": [
    "# Avito Demand Prediction Challenge\n",
    "\n"
    "## Importando módulos e Bibliotecas\n",
    "\n",
    "Será importado os módulos e bibliotecas que serão necessários para a leitura do arquivo, para o processamento dos dados, a aplicação de métodos e classificadores, cálculos necessários para avaliação e criação de gráficos representativos do problema."
   ]
  },
  {
   "cell_type": "code",
   "execution_count": 21,
   "metadata": {},
   "outputs": [],
   "source": [
    "import numpy as np\n",
    "import pandas as pd\n",
    "from sklearn.preprocessing import LabelEncoder\n",
    "from sklearn.model_selection import train_test_split\n",
    "import matplotlib.pyplot as plt\n",
    "from sklearn.ensemble import RandomForestRegressor"
   ]
  },
  {
   "cell_type": "markdown",
   "metadata": {},
   "source": [
    "## Entendendo os Dados\n",
    "\n",
    "Iremos carregar e ler o arquivo de treinamento e o arquivo de teste que está disponível com o nome de train.csv e test.csv respectivamente, será utilizado o DataFrame do Pandas, que é uma biblioteca para auxiliar na análise de dados tabulares bidimensionais."
   ]
  },
  {
   "cell_type": "code",
   "execution_count": 2,
   "metadata": {},
   "outputs": [],
   "source": [
    "# Dataset de Treinamento\n",
    "dataset_train = pd.read_csv('train.csv')\n",
    "\n",
    "# Dataset de Teste\n",
    "dataset_test = pd.read_csv('test.csv')"
   ]
  },
  {
   "cell_type": "markdown",
   "metadata": {},
   "source": [
    "Para se ter conhecimento do dimensionamento dos datasets podemos utilizar o dataset.shape para saber a quantidade de dados presentes no dataset e o total de colunas"
   ]
  },
  {
   "cell_type": "code",
   "execution_count": 3,
   "metadata": {},
   "outputs": [
    {
     "name": "stdout",
     "output_type": "stream",
     "text": [
      "Dimensionamento do Dataset de Treinamento:  (1503424, 18)\n",
      "Dimensionamento do Dataset de Teste:  (508438, 17)\n"
     ]
    }
   ],
   "source": [
    "print('Dimensionamento do Dataset de Treinamento: ', dataset_train.shape)\n",
    "print('Dimensionamento do Dataset de Teste: ', dataset_test.shape)"
   ]
  },
  {
   "cell_type": "markdown",
   "metadata": {},
   "source": [
    "Com o arquivo de treinamento e de teste carregado, para se entender os dados será utilizado uma função head() do Pandas para exibir as 3 primeiras linhas dos arquivos."
   ]
  },
  {
   "cell_type": "code",
   "execution_count": 4,
   "metadata": {},
   "outputs": [
    {
     "data": {
      "text/html": [
       "<div>\n",
       "<table border=\"1\" class=\"dataframe\">\n",
       "  <thead>\n",
       "    <tr style=\"text-align: right;\">\n",
       "      <th></th>\n",
       "      <th>item_id</th>\n",
       "      <th>user_id</th>\n",
       "      <th>region</th>\n",
       "      <th>city</th>\n",
       "      <th>parent_category_name</th>\n",
       "      <th>category_name</th>\n",
       "      <th>param_1</th>\n",
       "      <th>param_2</th>\n",
       "      <th>param_3</th>\n",
       "      <th>title</th>\n",
       "      <th>description</th>\n",
       "      <th>price</th>\n",
       "      <th>item_seq_number</th>\n",
       "      <th>activation_date</th>\n",
       "      <th>user_type</th>\n",
       "      <th>image</th>\n",
       "      <th>image_top_1</th>\n",
       "      <th>deal_probability</th>\n",
       "    </tr>\n",
       "  </thead>\n",
       "  <tbody>\n",
       "    <tr>\n",
       "      <th>0</th>\n",
       "      <td>b912c3c6a6ad</td>\n",
       "      <td>e00f8ff2eaf9</td>\n",
       "      <td>Свердловская область</td>\n",
       "      <td>Екатеринбург</td>\n",
       "      <td>Личные вещи</td>\n",
       "      <td>Товары для детей и игрушки</td>\n",
       "      <td>Постельные принадлежности</td>\n",
       "      <td>NaN</td>\n",
       "      <td>NaN</td>\n",
       "      <td>Кокоби(кокон для сна)</td>\n",
       "      <td>Кокон для сна малыша,пользовались меньше месяц...</td>\n",
       "      <td>400</td>\n",
       "      <td>2</td>\n",
       "      <td>2017-03-28</td>\n",
       "      <td>Private</td>\n",
       "      <td>d10c7e016e03247a3bf2d13348fe959fe6f436c1caf64c...</td>\n",
       "      <td>1008</td>\n",
       "      <td>0.12789</td>\n",
       "    </tr>\n",
       "    <tr>\n",
       "      <th>1</th>\n",
       "      <td>2dac0150717d</td>\n",
       "      <td>39aeb48f0017</td>\n",
       "      <td>Самарская область</td>\n",
       "      <td>Самара</td>\n",
       "      <td>Для дома и дачи</td>\n",
       "      <td>Мебель и интерьер</td>\n",
       "      <td>Другое</td>\n",
       "      <td>NaN</td>\n",
       "      <td>NaN</td>\n",
       "      <td>Стойка для Одежды</td>\n",
       "      <td>Стойка для одежды, под вешалки. С бутика.</td>\n",
       "      <td>3000</td>\n",
       "      <td>19</td>\n",
       "      <td>2017-03-26</td>\n",
       "      <td>Private</td>\n",
       "      <td>79c9392cc51a9c81c6eb91eceb8e552171db39d7142700...</td>\n",
       "      <td>692</td>\n",
       "      <td>0.00000</td>\n",
       "    </tr>\n",
       "    <tr>\n",
       "      <th>2</th>\n",
       "      <td>ba83aefab5dc</td>\n",
       "      <td>91e2f88dd6e3</td>\n",
       "      <td>Ростовская область</td>\n",
       "      <td>Ростов-на-Дону</td>\n",
       "      <td>Бытовая электроника</td>\n",
       "      <td>Аудио и видео</td>\n",
       "      <td>Видео, DVD и Blu-ray плееры</td>\n",
       "      <td>NaN</td>\n",
       "      <td>NaN</td>\n",
       "      <td>Philips bluray</td>\n",
       "      <td>В хорошем состоянии, домашний кинотеатр с blu ...</td>\n",
       "      <td>4000</td>\n",
       "      <td>9</td>\n",
       "      <td>2017-03-20</td>\n",
       "      <td>Private</td>\n",
       "      <td>b7f250ee3f39e1fedd77c141f273703f4a9be59db4b48a...</td>\n",
       "      <td>3032</td>\n",
       "      <td>0.43177</td>\n",
       "    </tr>\n",
       "  </tbody>\n",
       "</table>\n",
       "</div>"
      ],
      "text/plain": [
       "        item_id       user_id                region            city  \\\n",
       "0  b912c3c6a6ad  e00f8ff2eaf9  Свердловская область    Екатеринбург   \n",
       "1  2dac0150717d  39aeb48f0017     Самарская область          Самара   \n",
       "2  ba83aefab5dc  91e2f88dd6e3    Ростовская область  Ростов-на-Дону   \n",
       "\n",
       "  parent_category_name               category_name  \\\n",
       "0          Личные вещи  Товары для детей и игрушки   \n",
       "1      Для дома и дачи           Мебель и интерьер   \n",
       "2  Бытовая электроника               Аудио и видео   \n",
       "\n",
       "                       param_1 param_2 param_3                  title  \\\n",
       "0    Постельные принадлежности     NaN     NaN  Кокоби(кокон для сна)   \n",
       "1                       Другое     NaN     NaN      Стойка для Одежды   \n",
       "2  Видео, DVD и Blu-ray плееры     NaN     NaN         Philips bluray   \n",
       "\n",
       "                                         description  price  item_seq_number  \\\n",
       "0  Кокон для сна малыша,пользовались меньше месяц...    400                2   \n",
       "1          Стойка для одежды, под вешалки. С бутика.   3000               19   \n",
       "2  В хорошем состоянии, домашний кинотеатр с blu ...   4000                9   \n",
       "\n",
       "  activation_date user_type  \\\n",
       "0      2017-03-28   Private   \n",
       "1      2017-03-26   Private   \n",
       "2      2017-03-20   Private   \n",
       "\n",
       "                                               image  image_top_1  \\\n",
       "0  d10c7e016e03247a3bf2d13348fe959fe6f436c1caf64c...         1008   \n",
       "1  79c9392cc51a9c81c6eb91eceb8e552171db39d7142700...          692   \n",
       "2  b7f250ee3f39e1fedd77c141f273703f4a9be59db4b48a...         3032   \n",
       "\n",
       "   deal_probability  \n",
       "0           0.12789  \n",
       "1           0.00000  \n",
       "2           0.43177  "
      ]
     },
     "execution_count": 4,
     "metadata": {},
     "output_type": "execute_result"
    }
   ],
   "source": [
    "# Treinamento\n",
    "dataset_train.head(3)"
   ]
  },
  {
   "cell_type": "code",
   "execution_count": 5,
   "metadata": {},
   "outputs": [
    {
     "data": {
      "text/html": [
       "<div>\n",
       "<table border=\"1\" class=\"dataframe\">\n",
       "  <thead>\n",
       "    <tr style=\"text-align: right;\">\n",
       "      <th></th>\n",
       "      <th>item_id</th>\n",
       "      <th>user_id</th>\n",
       "      <th>region</th>\n",
       "      <th>city</th>\n",
       "      <th>parent_category_name</th>\n",
       "      <th>category_name</th>\n",
       "      <th>param_1</th>\n",
       "      <th>param_2</th>\n",
       "      <th>param_3</th>\n",
       "      <th>title</th>\n",
       "      <th>description</th>\n",
       "      <th>price</th>\n",
       "      <th>item_seq_number</th>\n",
       "      <th>activation_date</th>\n",
       "      <th>user_type</th>\n",
       "      <th>image</th>\n",
       "      <th>image_top_1</th>\n",
       "    </tr>\n",
       "  </thead>\n",
       "  <tbody>\n",
       "    <tr>\n",
       "      <th>0</th>\n",
       "      <td>6544e41a8817</td>\n",
       "      <td>dbe73ad6e4b5</td>\n",
       "      <td>Волгоградская область</td>\n",
       "      <td>Волгоград</td>\n",
       "      <td>Личные вещи</td>\n",
       "      <td>Детская одежда и обувь</td>\n",
       "      <td>Для мальчиков</td>\n",
       "      <td>Обувь</td>\n",
       "      <td>25</td>\n",
       "      <td>Отдам бесплатно</td>\n",
       "      <td>На ангарском</td>\n",
       "      <td>NaN</td>\n",
       "      <td>66</td>\n",
       "      <td>2017-04-18</td>\n",
       "      <td>Private</td>\n",
       "      <td>a8b57acb5ab304f9c331ac7a074219aed4d349d8aef386...</td>\n",
       "      <td>2020</td>\n",
       "    </tr>\n",
       "    <tr>\n",
       "      <th>1</th>\n",
       "      <td>65b9484d670f</td>\n",
       "      <td>2e11806abe57</td>\n",
       "      <td>Свердловская область</td>\n",
       "      <td>Нижняя Тура</td>\n",
       "      <td>Хобби и отдых</td>\n",
       "      <td>Велосипеды</td>\n",
       "      <td>Дорожные</td>\n",
       "      <td>NaN</td>\n",
       "      <td>NaN</td>\n",
       "      <td>Продам велосипед</td>\n",
       "      <td>Продам велосипед KAMA  F200,в нормальном состо...</td>\n",
       "      <td>3000</td>\n",
       "      <td>4</td>\n",
       "      <td>2017-04-16</td>\n",
       "      <td>Private</td>\n",
       "      <td>NaN</td>\n",
       "      <td>NaN</td>\n",
       "    </tr>\n",
       "    <tr>\n",
       "      <th>2</th>\n",
       "      <td>8bab230b2ecd</td>\n",
       "      <td>0b850bbebb10</td>\n",
       "      <td>Новосибирская область</td>\n",
       "      <td>Бердск</td>\n",
       "      <td>Бытовая электроника</td>\n",
       "      <td>Аудио и видео</td>\n",
       "      <td>Телевизоры и проекторы</td>\n",
       "      <td>NaN</td>\n",
       "      <td>NaN</td>\n",
       "      <td>BBK</td>\n",
       "      <td>Продам новый телевизор BBK  32 диагональ смарт...</td>\n",
       "      <td>15000</td>\n",
       "      <td>15</td>\n",
       "      <td>2017-04-17</td>\n",
       "      <td>Private</td>\n",
       "      <td>8c361112cb049745ef2d1b0ae73594fc5c107286b0c942...</td>\n",
       "      <td>2960</td>\n",
       "    </tr>\n",
       "  </tbody>\n",
       "</table>\n",
       "</div>"
      ],
      "text/plain": [
       "        item_id       user_id                 region         city  \\\n",
       "0  6544e41a8817  dbe73ad6e4b5  Волгоградская область    Волгоград   \n",
       "1  65b9484d670f  2e11806abe57   Свердловская область  Нижняя Тура   \n",
       "2  8bab230b2ecd  0b850bbebb10  Новосибирская область       Бердск   \n",
       "\n",
       "  parent_category_name           category_name                 param_1  \\\n",
       "0          Личные вещи  Детская одежда и обувь           Для мальчиков   \n",
       "1        Хобби и отдых              Велосипеды                Дорожные   \n",
       "2  Бытовая электроника           Аудио и видео  Телевизоры и проекторы   \n",
       "\n",
       "  param_2 param_3             title  \\\n",
       "0   Обувь      25   Отдам бесплатно   \n",
       "1     NaN     NaN  Продам велосипед   \n",
       "2     NaN     NaN               BBK   \n",
       "\n",
       "                                         description  price  item_seq_number  \\\n",
       "0                                       На ангарском    NaN               66   \n",
       "1  Продам велосипед KAMA  F200,в нормальном состо...   3000                4   \n",
       "2  Продам новый телевизор BBK  32 диагональ смарт...  15000               15   \n",
       "\n",
       "  activation_date user_type  \\\n",
       "0      2017-04-18   Private   \n",
       "1      2017-04-16   Private   \n",
       "2      2017-04-17   Private   \n",
       "\n",
       "                                               image  image_top_1  \n",
       "0  a8b57acb5ab304f9c331ac7a074219aed4d349d8aef386...         2020  \n",
       "1                                                NaN          NaN  \n",
       "2  8c361112cb049745ef2d1b0ae73594fc5c107286b0c942...         2960  "
      ]
     },
     "execution_count": 5,
     "metadata": {},
     "output_type": "execute_result"
    }
   ],
   "source": [
    "# Teste\n",
    "dataset_test.head(3)"
   ]
  },
  {
   "cell_type": "markdown",
   "metadata": {},
   "source": [
    "Podemos saber quais são as colunas do arquivo através da função keys()."
   ]
  },
  {
   "cell_type": "code",
   "execution_count": 6,
   "metadata": {},
   "outputs": [
    {
     "data": {
      "text/plain": [
       "Index(['item_id', 'user_id', 'region', 'city', 'parent_category_name',\n",
       "       'category_name', 'param_1', 'param_2', 'param_3', 'title',\n",
       "       'description', 'price', 'item_seq_number', 'activation_date',\n",
       "       'user_type', 'image', 'image_top_1', 'deal_probability'],\n",
       "      dtype='object')"
      ]
     },
     "execution_count": 6,
     "metadata": {},
     "output_type": "execute_result"
    }
   ],
   "source": [
    "# Treinamento\n",
    "dataset_train.keys()"
   ]
  },
  {
   "cell_type": "code",
   "execution_count": 7,
   "metadata": {},
   "outputs": [
    {
     "data": {
      "text/plain": [
       "Index(['item_id', 'user_id', 'region', 'city', 'parent_category_name',\n",
       "       'category_name', 'param_1', 'param_2', 'param_3', 'title',\n",
       "       'description', 'price', 'item_seq_number', 'activation_date',\n",
       "       'user_type', 'image', 'image_top_1'],\n",
       "      dtype='object')"
      ]
     },
     "execution_count": 7,
     "metadata": {},
     "output_type": "execute_result"
    }
   ],
   "source": [
    "# Teste\n",
    "dataset_test.keys()"
   ]
  },
  {
   "cell_type": "markdown",
   "metadata": {},
   "source": [
    "Pode-se notar que ele está dividido em 18 colunas:\n",
    "\n",
    "* item_id: Contém a String de código de cada item à venda.\n",
    "* user_id: Contém a String de código de cada usuário.\n",
    "* region: De qual região da Rússia o usuário faz parte.\n",
    "* city: De qual cidade da Rússia o usuário faz parte.\n",
    "* parent_category_name: Nome da categoria que o produto faz parte.\n",
    "* category_name: Nome da sub-categoria que o produto faz parte.\n",
    "* param_1: Tipo do produto.\n",
    "* param_2: Tipo do produto.\n",
    "* param_3: Tipo do produto.\n",
    "* title: Título do produto à venda.\n",
    "* description: Descrição do produto à venda.\n",
    "* price: Preço do produto.\n",
    "* item_seq_number: Número de sequência do produto.\n",
    "* activation_date: Data de divulgação do produto.\n",
    "* user_type: Tipo de usuário (se é pessoal ou empresarial).\n",
    "* image: Imagem.\n",
    "* image_top_1: Tamanho da Imagem.\n",
    "* deal_probability: Probabilidade de venda do produto.\n",
    "\n",
    "Abaixo será mostrado o resumo estatístico dos dados de treinamento e de teste com suas médias, medianas, desvio padrão, valor mínimo e máximo e seus quartis."
   ]
  },
  {
   "cell_type": "code",
   "execution_count": 8,
   "metadata": {},
   "outputs": [
    {
     "data": {
      "text/html": [
       "<div>\n",
       "<table border=\"1\" class=\"dataframe\">\n",
       "  <thead>\n",
       "    <tr style=\"text-align: right;\">\n",
       "      <th></th>\n",
       "      <th>price</th>\n",
       "      <th>item_seq_number</th>\n",
       "      <th>image_top_1</th>\n",
       "      <th>deal_probability</th>\n",
       "    </tr>\n",
       "  </thead>\n",
       "  <tbody>\n",
       "    <tr>\n",
       "      <th>count</th>\n",
       "      <td>1.418062e+06</td>\n",
       "      <td>1503424.000000</td>\n",
       "      <td>1390836.000000</td>\n",
       "      <td>1503424.000000</td>\n",
       "    </tr>\n",
       "    <tr>\n",
       "      <th>mean</th>\n",
       "      <td>3.167081e+05</td>\n",
       "      <td>743.673987</td>\n",
       "      <td>1241.932119</td>\n",
       "      <td>0.139131</td>\n",
       "    </tr>\n",
       "    <tr>\n",
       "      <th>std</th>\n",
       "      <td>6.689154e+07</td>\n",
       "      <td>5572.522427</td>\n",
       "      <td>970.464104</td>\n",
       "      <td>0.260079</td>\n",
       "    </tr>\n",
       "    <tr>\n",
       "      <th>min</th>\n",
       "      <td>0.000000e+00</td>\n",
       "      <td>1.000000</td>\n",
       "      <td>0.000000</td>\n",
       "      <td>0.000000</td>\n",
       "    </tr>\n",
       "    <tr>\n",
       "      <th>25%</th>\n",
       "      <td>5.000000e+02</td>\n",
       "      <td>9.000000</td>\n",
       "      <td>425.000000</td>\n",
       "      <td>0.000000</td>\n",
       "    </tr>\n",
       "    <tr>\n",
       "      <th>50%</th>\n",
       "      <td>1.300000e+03</td>\n",
       "      <td>29.000000</td>\n",
       "      <td>1057.000000</td>\n",
       "      <td>0.000000</td>\n",
       "    </tr>\n",
       "    <tr>\n",
       "      <th>75%</th>\n",
       "      <td>7.000000e+03</td>\n",
       "      <td>88.000000</td>\n",
       "      <td>2217.000000</td>\n",
       "      <td>0.150870</td>\n",
       "    </tr>\n",
       "    <tr>\n",
       "      <th>max</th>\n",
       "      <td>7.950101e+10</td>\n",
       "      <td>204429.000000</td>\n",
       "      <td>3066.000000</td>\n",
       "      <td>1.000000</td>\n",
       "    </tr>\n",
       "  </tbody>\n",
       "</table>\n",
       "</div>"
      ],
      "text/plain": [
       "              price  item_seq_number     image_top_1  deal_probability\n",
       "count  1.418062e+06   1503424.000000  1390836.000000    1503424.000000\n",
       "mean   3.167081e+05       743.673987     1241.932119          0.139131\n",
       "std    6.689154e+07      5572.522427      970.464104          0.260079\n",
       "min    0.000000e+00         1.000000        0.000000          0.000000\n",
       "25%    5.000000e+02         9.000000      425.000000          0.000000\n",
       "50%    1.300000e+03        29.000000     1057.000000          0.000000\n",
       "75%    7.000000e+03        88.000000     2217.000000          0.150870\n",
       "max    7.950101e+10    204429.000000     3066.000000          1.000000"
      ]
     },
     "execution_count": 8,
     "metadata": {},
     "output_type": "execute_result"
    }
   ],
   "source": [
    "dataset_train.describe()"
   ]
  },
  {
   "cell_type": "code",
   "execution_count": 9,
   "metadata": {},
   "outputs": [
    {
     "data": {
      "text/html": [
       "<div>\n",
       "<table border=\"1\" class=\"dataframe\">\n",
       "  <thead>\n",
       "    <tr style=\"text-align: right;\">\n",
       "      <th></th>\n",
       "      <th>price</th>\n",
       "      <th>item_seq_number</th>\n",
       "      <th>image_top_1</th>\n",
       "    </tr>\n",
       "  </thead>\n",
       "  <tbody>\n",
       "    <tr>\n",
       "      <th>count</th>\n",
       "      <td>4.778530e+05</td>\n",
       "      <td>508438.000000</td>\n",
       "      <td>465829.000000</td>\n",
       "    </tr>\n",
       "    <tr>\n",
       "      <th>mean</th>\n",
       "      <td>2.798189e+05</td>\n",
       "      <td>825.132150</td>\n",
       "      <td>1297.959228</td>\n",
       "    </tr>\n",
       "    <tr>\n",
       "      <th>std</th>\n",
       "      <td>5.364218e+06</td>\n",
       "      <td>5646.868618</td>\n",
       "      <td>961.065300</td>\n",
       "    </tr>\n",
       "    <tr>\n",
       "      <th>min</th>\n",
       "      <td>0.000000e+00</td>\n",
       "      <td>1.000000</td>\n",
       "      <td>0.000000</td>\n",
       "    </tr>\n",
       "    <tr>\n",
       "      <th>25%</th>\n",
       "      <td>5.000000e+02</td>\n",
       "      <td>8.000000</td>\n",
       "      <td>467.000000</td>\n",
       "    </tr>\n",
       "    <tr>\n",
       "      <th>50%</th>\n",
       "      <td>1.500000e+03</td>\n",
       "      <td>30.000000</td>\n",
       "      <td>1132.000000</td>\n",
       "    </tr>\n",
       "    <tr>\n",
       "      <th>75%</th>\n",
       "      <td>8.600000e+03</td>\n",
       "      <td>94.000000</td>\n",
       "      <td>2218.000000</td>\n",
       "    </tr>\n",
       "    <tr>\n",
       "      <th>max</th>\n",
       "      <td>3.000060e+09</td>\n",
       "      <td>205064.000000</td>\n",
       "      <td>3066.000000</td>\n",
       "    </tr>\n",
       "  </tbody>\n",
       "</table>\n",
       "</div>"
      ],
      "text/plain": [
       "              price  item_seq_number    image_top_1\n",
       "count  4.778530e+05    508438.000000  465829.000000\n",
       "mean   2.798189e+05       825.132150    1297.959228\n",
       "std    5.364218e+06      5646.868618     961.065300\n",
       "min    0.000000e+00         1.000000       0.000000\n",
       "25%    5.000000e+02         8.000000     467.000000\n",
       "50%    1.500000e+03        30.000000    1132.000000\n",
       "75%    8.600000e+03        94.000000    2218.000000\n",
       "max    3.000060e+09    205064.000000    3066.000000"
      ]
     },
     "execution_count": 9,
     "metadata": {},
     "output_type": "execute_result"
    }
   ],
   "source": [
    "dataset_test.describe()"
   ]
  },
  {
   "cell_type": "markdown",
   "metadata": {},
   "source": [
    "Abaixo é possível ter uma visualização da distribuição das probabilidades de venda através do histograma:"
   ]
  },
  {
   "cell_type": "code",
   "execution_count": 10,
   "metadata": {},
   "outputs": [
    {
     "data": {
      "image/png": "iVBORw0KGgoAAAANSUhEUgAAAZUAAAEACAYAAAB78OvLAAAABHNCSVQICAgIfAhkiAAAAAlwSFlzAAALEgAACxIB0t1+/AAAFc1JREFUeJzt3X2spnWd3/H3Z8CRrcvhyTDEGZ5WGEGaU8pGoLEPZ33iYSOwaaTQbkGdNLbiutXsRrCJMCHNLiZWlli1thMEWZ0ipoW6VGbNeLYYRYcqwfIgY1Rkxs4YgYFItoaHb/+4f4M3J2dmDuf85lxzDu9Xcudc1/e+rt/vd1859/0519N9UlVIktTDiqEHIElaPgwVSVI3hookqRtDRZLUjaEiSerGUJEkdbPPUEmyIcnOJPeP1T6e5KEk9yX5SpKJseeuSrK1Pf+Osfq5SR5O8kiSj4zVT0hyT6t/KcnBrb4yycbW1reTHLevPiRJw5rLnsqNwDkzapuA06rqdGArcBVAkjcCFwOnAucBn87ICuBTrZ3TgEuTnNLaug74RFWtBXYB61p9HfBEVZ0MXA98fG99vNwXLknqb5+hUlXfBJ6cUft6Vb3QZu8B1rTpC4CNVfVcVf2UUeCc2R5bq+rRqnoW2Ahc2NZ5C/CVNn0TcFGbvrDNA9zWlttbH5KkgfU4p/Je4M42vRp4bOy57a02s74NWJ3kKODJsYDa1pZ9SVtV9TzwVJIj99KHJGlgCwqVJP8OeLaqvrSQZjovJ0kayMHzXTHJu4Hz+c1hKRjtNRw7Nr+m1QIcN7NeVY8nOTzJira3snv58bZ+nuQgYKKqnkiypz5mG6NfbCZJ81BV8/pDfq57KmFsTyHJucCfAhdU1a/HlrsDuKRduXUicBLwXWALcFKS45OsBC4Bbm/rbAbe1aYvH6vf0eZpz2/eRx+zqiofVVx99dWDj+FAebgt3BZui70/FmKfeypJvghMAUcl+RlwNfBRYCXw1+3Cq3uq6v1V9WCSW4EHgWeB99dohM8n+QCjq8ZWABuq6uHWxZXAxiTXAt8HNrT6BuALSbYCjzMKIvbShyRpYPsMlar657OUb9zL8n8G/Nks9a8Bb5il/hPgrFnqv2Z06fCc+5AkDcs76l8hpqamhh7CAcNt8Rtui99wW/SR5XzkKIlHxiTpZUpC7ecT9ZIk7ZOhIknqxlCRJHVjqEiSujFUJEndGCqSpG4MFUlSN4aKJKkbQ0WS1I2hIknqxlCRJHVjqEiSujFUJEndGCqSpG4MFUlSN4aKJKkbQ0WS1I2hIknqxlCRJHVjqEiSujl46AHsb0ceeeyg/R966KFs2TLN0UcfPeg4JGkxLPtQefLJbw3a/7PPvp0dO3YYKpJeEZZ9qMCweyorVqwctH9JWkyeU5EkdWOoSJK6MVQkSd3sM1SSbEiyM8n9Y7UjkmxK8sMkdyU5bOy5G5JsTXJfktPH6pcneaStc9lY/Ywk97fnrl9IH5KkYc1lT+VG4JwZtSuBr1fVG4DNwFUASc4DXl9VJwPvAz7b6kcAHwPeBJwFXD0WEp8B1lXVWmBtknPm04ckaXj7DJWq+ibw5IzyhcBNbfqmNr+7fnNb7zvAYUlWMQqlTVX1VFXtAjYB5yY5Bji0qra09W8GLppnH5Kkgc33nMrRVbUToKp2ALs/1FcDj40tt63VZta3j9W3zbI8wKo59rF9bB1J0oB6naivPdTTqf299SFJOkDM9+bHnUlWVdXOdgjrF62+nZfebbim1bYDUzPq39jL8gA7XmYfe3DN2PTUjGFIkqanp5menu7S1lxDJbx0r+MO4N3Ade3n7WP1K4D/muRsYFcLhbuAf99Ozq8A3g5cWVW7kjyV5ExgC3AZcMN8+tjz0K+Z40uUpFemqakppqamXpxfv379vNvaZ6gk+SKjP++PSvIz4Grgz4EvJ3kv8ChwMUBV3Znk/CQ/Ap4B3tPqTya5FriX0WGs9e2EPYwC4vPAIcCdVfW1Vr8OuHWufUiShpeq5XuqIkkNfSpmYmKSu+++hcnJyUHHIUlzlYSqmtc5ce+olyR1Y6hIkroxVCRJ3RgqkqRuDBVJUjeGiiSpG0NFktSNoSJJ6sZQkSR1Y6hIkroxVCRJ3RgqkqRuDBVJUjeGiiSpG0NFktSNoSJJ6sZQkSR1Y6hIkroxVCRJ3RgqkqRuDBVJUjeGiiSpG0NFktSNoSJJ6sZQkSR1Y6hIkroxVCRJ3RgqkqRuDBVJUjcLCpUkH0ryf5Lcn+Qvk6xMckKSe5I8kuRLSQ5uy65MsjHJ1iTfTnLcWDtXtfpDSd4xVj83ycOtrY+M1WftQ5I0rHmHSpLXAX8EnFFVk8DBwKXAdcAnqmotsAtY11ZZBzxRVScD1wMfb+28EbgYOBU4D/h0RlYAnwLOAU4DLk1ySmtrT31Ikga00MNfBwGvaXsKvwX8HPg94Cvt+ZuAi9r0hW0e4DbgLW36AmBjVT1XVT8FtgJntsfWqnq0qp4FNrY2aOuO9/EHC3wdkqQO5h0qVfVz4BPAz4DtwFPA94BdVfVCW2wbsLpNrwYea+s+DzyV5MjxerO91WbWtwGrkxwFPDmjj9fN93VIkvqZ97mIJIcz2nM4nlGgfBk49+U0Md++X96614xNT7WHJGm36elppqenu7S1kBPcbwN+XFVPACT5b8CbgcOTrGh7EmsY7XnQfh4L/DzJQcBEVT2RZHd9t93rBDhuZr2qHk+ypz5mcc0CXqIkLX9TU1NMTU29OL9+/fp5t7WQcyo/A85OckiSAG8FHgC+AbyrLXM5cHubvqPN057fPFa/pF0ddiJwEvBdYAtwUpLjk6wELhlra/Me+pAkDWjeeypV9d0ktwHfB55tPz8H3AlsTHJtq21oq2wAvpBkK/A4o5Cgqh5McivwYGvn/VVVwPNJPgBsYhR+G6rq4dbWlXvoQ5I0oIw+v5enJAXDvr6JiUnuvvsWJicnBx2HJM1VEqpqXue9vaNektSNoSJJ6sZQkSR1Y6hIkroxVCRJ3RgqkqRuDBVJUjeGiiSpG0NFktSNoSJJ6sZQkSR1Y6hIkroxVCRJ3RgqkqRuDBVJUjeGiiSpG0NFktSNoSJJ6sZQkSR1Y6hIkroxVCRJ3RgqkqRuDBVJUjeGiiSpG0NFktSNoSJJ6sZQkSR1Y6hIkrpZUKgkOSzJl5M8lOSBJGclOSLJpiQ/THJXksPGlr8hydYk9yU5fax+eZJH2jqXjdXPSHJ/e+76sfoe+5AkDWeheyp/AdxZVacCfw94GLgS+HpVvQHYDFwFkOQ84PVVdTLwPuCzrX4E8DHgTcBZwNVjIfEZYF1VrQXWJjmn1WftQ5I0rHmHSpIJ4B9V1Y0AVfVcVT0FXAjc1Ba7qc3Tft7clv0OcFiSVcA5wKaqeqqqdgGbgHOTHAMcWlVb2vo3AxeNtTXex+66JGlAC9lTORH4ZZIbk3wvyeeS/B1gVVXtBKiqHcCqtvxq4LGx9be12sz69rH6tlmWZ5Y+jl7A65AkdXLwAtc9A7iiqu5N8klGh6VqxnIz53fLAvqeaU99ANeMTU+1hyRpt+npaaanp7u0tZBQ2QY8VlX3tvmvMAqVnUlWVdXOdgjrF+357cCxY+uvabXtvPSTfg3wjb0sD7BjD33M4pqX/cIk6ZVkamqKqampF+fXr18/77bmffirHX56LMnaVnor8ABwB/DuVns3cHubvgO4DCDJ2cCu1sZdwNvblWRHAG8H7mqHtZ5KcmaStHXH29rdx+VjdUnSgBaypwLwQeAvk7wK+DHwHuAg4NYk7wUeBS4GqKo7k5yf5EfAM21ZqurJJNcC9zI6jLW+nbAHuAL4PHAIo6vMvtbq183WhyRpWKnay+mIJS5J7fV0yyKYmJjk7rtvYXJyctBxSNJcJaGq5nXe2zvqJUndGCqSpG4MFUlSN4aKJKkbQ0WS1I2hIknqxlCRJHVjqEiSujFUJEndGCqSpG4MFUlSN4aKJKkbQ0WS1I2hIknqxlCRJHVjqEiSujFUJEndGCqSpG4MFUlSN4aKJKkbQ0WS1I2hIknqxlCRJHVjqEiSujFUJEndGCqSpG4MFUlSN4aKJKmbBYdKkhVJvpfkjjZ/QpJ7kjyS5EtJDm71lUk2Jtma5NtJjhtr46pWfyjJO8bq5yZ5uLX1kbH6rH1IkobVY0/lj4EHx+avAz5RVWuBXcC6Vl8HPFFVJwPXAx8HSPJG4GLgVOA84NMZWQF8CjgHOA24NMkp++hDkjSgBYVKkjXA+cB/GSu/BfhKm74JuKhNX9jmAW5rywFcAGysqueq6qfAVuDM9thaVY9W1bPAxtbGbH38wUJehySpj4XuqXwS+FOgAJIcBTxZVS+057cBq9v0auAxgKp6HngqyZHj9WZ7q82sbwNW76GP1y3wdUiSOpj3uYgkvw/srKr7kkyNPzXXJubb98tb95qx6an2kCTtNj09zfT0dJe2FnKC+83ABUnOB34LOBT4C+CwJCvansQaRnsetJ/HAj9PchAwUVVPJNld3233OgGOm1mvqseTHL6HPmZxzQJeoiQtf1NTU0xNTb04v379+nm3Ne/DX1X10ao6rqp+B7gE2FxVfwh8A3hXW+xy4PY2fUebpz2/eax+Sbs67ETgJOC7wBbgpCTHJ1nZ+tjd1uY99CFJGtD+uE/lSuDDSR4BjgQ2tPoG4LVJtgL/ti1HVT0I3MroCrI7gffXyPPAB4BNwAOMTuY/vI8+JEkDSlUNPYb9Jkm1awgGMzExyd1338Lk5OSg45CkuUpCVc3rvLd31EuSujFUJEndGCqSpG4MFUlSN4aKJKkbQ0WS1I2hIknqxlCRJHVjqEiSujFUJEndGCqSpG4MFUlSN4aKJKkbQ0WS1I2hIknqxlCRJHVjqEiSujFUJEndGCqSpG4MFUlSN4aKJKkbQ0WS1I2hIknqxlCRJHVjqEiSujFUJEndGCqSpG4MFUlSN/MOlSRrkmxO8kCSHyT5YKsfkWRTkh8muSvJYWPr3JBka5L7kpw+Vr88ySNtncvG6mckub89d/1YfY99SJKGs5A9leeAD1fVacA/AK5IcgpwJfD1qnoDsBm4CiDJecDrq+pk4H3AZ1v9COBjwJuAs4Crx0LiM8C6qloLrE1yTqvP2ockaVjzDpWq2lFV97XpXwEPAWuAC4Gb2mI3tXnaz5vb8t8BDkuyCjgH2FRVT1XVLmATcG6SY4BDq2pLW/9m4KKxtsb72F2XJA2oyzmVJCcApwP3AKuqaieMggdY1RZbDTw2ttq2VptZ3z5W3zbL8szSx9E9XockaWEWHCpJfhu4DfjjtsdSMxaZOf/iqgvtew59SJIW0cELWTnJwYwC5QtVdXsr70yyqqp2tkNYv2j17cCxY6uvabXtwNSM+jf2sjzAjj30MYtrxqanZnQlSZqenmZ6erpLW6ma/x/5SW4GfllVHx6rXQc8UVXXJbkSOLyqrkxyPnBFVf1+krOB66vq7Hai/l7gDEZ7TvcCv1tVu5LcA3wQ2AL8FXBDVX1tRh8fAY6oqitnGV8NvRMzMTHJ3XffwuTk5KDjkKS5SkJVzeto0rz3VJK8GfgXwA+SfJ/Rp/dHgeuAW5O8F3gUuBigqu5Mcn6SHwHPAO9p9SeTXMsoTApY307YA1wBfB44BLizqr7W6rP2IUka1oL2VA507qlI0su3kD0V76iXJHVjqEiSujFUJEndGCqSpG4MFUlSN4aKJKkbQ0WS1I2hIknqxlCRJHVjqEiSujFUJEnd+N1f+9nExCSvetUTPP749n0vvB+tWnU8O3b8dNAxSFoaBvmWYs3dKFCGDbedO3v+TzRJmp2HvyRJ3RgqkqRuDBVJUjeGiiSpG0PlFePVJBn8ccwxJwy9IaRZHXPMCYO/P5bDe8RLiveziYlJnn76Bww9DsgBMAaAsJx/57R0Jb5HXhyB/05YknQg8D4VSYM75pgT2Lnz0aGHoQ4MFUmDGwXK0IeevEG4Bw9/SZK6MVQkSd0YKpKkbjynokX26nbp5nD8xmZp/zFUtMh+zdAnZP3GZmn/8fCXJKmbJR0qSc5N8nCSR5J8ZOjxSNIr3ZINlSQrgE8B5wCnAZcmOWXYUWlpeNXg3+90oHzH0/T09NBD0DKzlM+pnAlsrapHAZJsBC4EHh50VFoCnmXo8zoAO3ceMvhFC695zWH86le7Bh2DlpelHCqrgcfG5rcxChppiRj+ooVnnvGihQPP8FdILsRSDpU5mZh456D9/+3f/mTQ/qW9O2hJf4AtT8P/sbGQr6xZyqGyHThubH5Nq73E009/ddEGtHcHwhv3QBgDHBjjOBDGAAfOOA4EB8K2OBDGAAfOOF6+Jfv/VJIcBPwQeCvwf4HvApdW1UODDkySXsGW7J5KVT2f5APAJkZXsW0wUCRpWEt2T0WSdOBZsvepjNvXTZBJVibZmGRrkm8nOW62dpaDOWyLDyV5IMl9Sf46ybFDjHMxzPXm2CT/NMkLSc5YzPEtprlsiyQXt9+NHyS5ZbHHuFjm8B45NsnmJN9r75Pzhhjn/pZkQ5KdSe7fyzI3tM/N+5KcPqeGq2pJPxgF44+A44FXAfcBp8xY5t8An27T/wzYOPS4B9wW/wQ4pE3/61fytmjL/TbwN8C3gDOGHveAvxcnAf8bmGjzrx163ANui/8EvK9Nnwr8ZOhx76dt8Q+B04H79/D8ecBftemzgHvm0u5y2FN58SbIqnoW2H0T5LgLgZva9G2MTu4vR/vcFlX1N1X1/9rsPYzu91mO5vJ7AXAt8OeMruNcruayLf4V8B+r6mmAqvrlIo9xscxlW7wATLTpw5nlqtLloKq+CTy5l0UuBG5uy34HOCzJqn21uxxCZbabIGd+UL64TFU9D+xKcuTiDG9RzWVbjFsH/M/9OqLh7HNbJPn7wJqqWq7bYLe5/F6sBd6Q5JtJvpXknEUb3eKay7ZYD/zLJI8BXwX+aJHGdqCZua22M4c/Qpfs1V8LtHQvAu8kyR8Cv8vocNgrTkZ3/P0H4PLx8kDDORAczOgQ2D9mdP/X/0ryd3fvubzCXArcWFWfTHI2cAuj7xfUHCyHPZW53AS5DTgWXry/ZaKqnlic4S2qOd0QmuRtwFXAO9shgOVoX9viUEYfFNNJfgKcDdy+TE/Wz/U9ckdVvVBVPwUeAU5enOEtqrlsi3XArQBVdQ9wSJLXLs7wDijbaZ+bzayfJzMth1DZApyU5PgkK4FLgDtmLPM/+M1fpO8CNi/i+BbTPrdFO+TzWeCCqnp8gDEulr1ui6p6uqqOrqrfqaoTGZ1femdVfW+g8e5Pc3mP/Hfg9wDaB+jJwI8XdZSLYy7b4lHgbQBJTgVevYzPMYU976HfAVwG0PbYdlXVzn01uOQPf9UeboJMsh7YUlVfBTYAX0iyFXic0S/SsjPHbfFx4DXAl9shoEer6qLhRr1/zHFbvGQVlunhr7lsi6q6K8k7kjwAPAf8SVXt7STukjTH34s/Af5zkg8xOml/+Z5bXLqSfBGYAo5K8jPgamAlUFX1uaq6M8n5SX4EPAO8Z07ttsvFJElasOVw+EuSdIAwVCRJ3RgqkqRuDBVJUjeGiiSpG0NFktSNoSJJ6sZQkSR18/8Bkl7fWsVsv4kAAAAASUVORK5CYII=\n",
      "text/plain": [
       "<matplotlib.figure.Figure at 0x7fcdbdf2db38>"
      ]
     },
     "metadata": {},
     "output_type": "display_data"
    }
   ],
   "source": [
    "plt.hist(dataset_train['deal_probability'])\n",
    "plt.show()"
   ]
  },
  {
   "cell_type": "markdown",
   "metadata": {},
   "source": [
    "## Pré-Processamento\n",
    "\n",
    "Alguns modelos de treinamento precisam ser pré-processados para serem normalizados antes de se realizar algum tipo de análise, para que a aplicação dos métodos de classificação não sejam feitos de forma ineficiente, gerando resultados não satisfatórios.\n",
    "\n",
    "Primeiramente os dados de treinamento e os dados de teste serão concatenados e será adicionado uma coluna que possa identificar se os dados presentes no arquivo completo é um dado de treinamento ou de teste, então será criado um novo dataframe que contenha todos eles juntos."
   ]
  },
  {
   "cell_type": "code",
   "execution_count": 11,
   "metadata": {},
   "outputs": [],
   "source": [
    "dataset_train['train'] = True\n",
    "dataset_test['train'] = False\n",
    "\n",
    "dataset_complete = pd.concat([dataset_train, dataset_test], axis = 0)"
   ]
  },
  {
   "cell_type": "markdown",
   "metadata": {},
   "source": [
    "Abaixo será utilizado a técnica de pré-processamento chamada LabelEncoder que transforma cada valor presente nas colunas em números.\n",
    "\n",
    "Será usado, verificado se são colunas abrangendo texto e convertido pelo LabelEncoder para se tornarem números as seguintes colunas: title, region, city, parent_category_name, category_name, param_1, user_type, user_id, param_2, param_3, description, image."
   ]
  },
  {
   "cell_type": "code",
   "execution_count": 13,
   "metadata": {},
   "outputs": [],
   "source": [
    "#Chamandp LabelEncoder\n",
    "lab_enc = LabelEncoder()\n",
    "\n",
    "#Separando as colunas a serem usadas e convertidas pelo LabelEncoder\n",
    "columns = ['title', 'region', 'city', 'parent_category_name', 'category_name', 'param_1', 'user_type', 'user_id', 'param_2', 'param_3', 'description', 'image']\n",
    "for cols in columns:\n",
    "    dataset_complete[cols] = dataset_complete[cols].astype('str')\n",
    "    dataset_complete[cols] = lab_enc.fit_transform(dataset_complete[cols])"
   ]
  },
  {
   "cell_type": "markdown",
   "metadata": {},
   "source": [
    "Serão retirados os campos item_id, activation_date, image_top_1 e user_id para realizar as análises."
   ]
  },
  {
   "cell_type": "code",
   "execution_count": 14,
   "metadata": {},
   "outputs": [],
   "source": [
    "columns_drop = ['item_id', 'activation_date', 'image_top_1', 'user_id']\n",
    "dataset_complete = dataset_complete.drop(columns_drop, axis = 1)"
   ]
  },
  {
   "cell_type": "markdown",
   "metadata": {},
   "source": [
    "Para realizar um filtro nos dados e retirar os valores nulos será utilizado a fillna()."
   ]
  },
  {
   "cell_type": "code",
   "execution_count": 15,
   "metadata": {},
   "outputs": [],
   "source": [
    "dataset_complete = dataset_complete.fillna(0)"
   ]
  },
  {
   "cell_type": "markdown",
   "metadata": {},
   "source": [
    "Após o tratamento dos dados completos, eles serão separados novamente pelos dados de treinamento e dados de teste, sendo identificados através da colunas train, se for true é um dado de treinamento se for false é um dado de teste, eles serão separados e identificados por dataset_train_split e dataset_test_split."
   ]
  },
  {
   "cell_type": "code",
   "execution_count": 16,
   "metadata": {},
   "outputs": [],
   "source": [
    "dataset_train_split = dataset_complete.loc[dataset_complete['train'] == True].drop(['train'], axis = 1)\n",
    "dataset_test_split = dataset_complete.loc[dataset_complete['train'] == False].drop(['train', 'deal_probability'], axis = 1)"
   ]
  },
  {
   "cell_type": "markdown",
   "metadata": {},
   "source": [
    "Será preparado os dados de treinamento e de teste através do train_test_split que divide os arrays e matrizes em subconjuntos aleatórios."
   ]
  },
  {
   "cell_type": "code",
   "execution_count": 17,
   "metadata": {},
   "outputs": [],
   "source": [
    "X_train, X_test, y_train, y_test = train_test_split(dataset_train_split.drop('deal_probability', axis=1), \n",
    "                                                      dataset_train_split['deal_probability'], test_size=0.2)"
   ]
  },
  {
   "cell_type": "markdown",
   "metadata": {},
   "source": [
    "Alguns modelos de classificadores utilizam apenas valores discretos para suas aplicações, e nossos dados são valores contínuos, então será realizado uma conversão para valor discreto, e quando uma aplicação de modelo necessitá-lo ele será usado."
   ]
  },
  {
   "cell_type": "code",
   "execution_count": 20,
   "metadata": {},
   "outputs": [],
   "source": [
    "y_train_discret = LabelEncoder().fit_transform(y_train)"
   ]
  },
  {
   "cell_type": "markdown",
   "metadata": {},
   "source": [
    "## Aplicação dos Classificadores\n",
    "\n",
    "Com o pré-processamento dos dados a serem utilizados, a representação dos documentos agora como uma matriz de frequência de ocorrências, o algoritmo de aprendizado de máquina poderá aplicar classificadores para o treinamento do modelo a ser utilizado.\n",
    "\n",
    "Foram escolhidos para serem utilizados os seguintes classificadores:\n",
    "\n",
    "* Random Forest Regressor\n",
    "\n",
    "### Random Forest Regressor\n",
    "É um classificador onde seu estimador ajusta as árvores de decisão em sub-amostras do conjunto de dados e faz uso da média para melhorar a predição."
   ]
  },
  {
   "cell_type": "code",
   "execution_count": 22,
   "metadata": {},
   "outputs": [
    {
     "name": "stderr",
     "output_type": "stream",
     "text": [
      "[Parallel(n_jobs=1)]: Done  10 out of  10 | elapsed:  2.4min finished\n"
     ]
    },
    {
     "data": {
      "text/plain": [
       "RandomForestRegressor(bootstrap=True, criterion='mse', max_depth=None,\n",
       "           max_features='auto', max_leaf_nodes=None,\n",
       "           min_impurity_decrease=0.0, min_impurity_split=None,\n",
       "           min_samples_leaf=1, min_samples_split=2,\n",
       "           min_weight_fraction_leaf=0.0, n_estimators=10, n_jobs=1,\n",
       "           oob_score=False, random_state=None, verbose=1, warm_start=False)"
      ]
     },
     "execution_count": 22,
     "metadata": {},
     "output_type": "execute_result"
    }
   ],
   "source": [
    "#Iniciando o classificador e realizando o treinamento\n",
    "clf = None\n",
    "clf = RandomForestRegressor(verbose = 1)\n",
    "clf.fit(X_train, y_train)"
   ]
  },
  {
   "cell_type": "code",
   "execution_count": 23,
   "metadata": {},
   "outputs": [
    {
     "name": "stderr",
     "output_type": "stream",
     "text": [
      "[Parallel(n_jobs=1)]: Done  10 out of  10 | elapsed:    3.9s finished\n"
     ]
    },
    {
     "data": {
      "text/plain": [
       "array([0.253365, 0.178006, 0.304372, 0.173042, 0.110438])"
      ]
     },
     "execution_count": 23,
     "metadata": {},
     "output_type": "execute_result"
    }
   ],
   "source": [
    "#Realizando a predição\n",
    "y_hat = clf.predict(dataset_test_split)\n",
    "y_hat[:5]"
   ]
  },
  {
   "cell_type": "code",
   "execution_count": 24,
   "metadata": {},
   "outputs": [],
   "source": [
    "y_hat[y_hat > 1] = 1\n",
    "y_hat[y_hat < 0] = 0"
   ]
  },
  {
   "cell_type": "code",
   "execution_count": 25,
   "metadata": {},
   "outputs": [],
   "source": [
    "item_id = dataset_test['item_id'].values"
   ]
  },
  {
   "cell_type": "code",
   "execution_count": 36,
   "metadata": {},
   "outputs": [
    {
     "name": "stdout",
     "output_type": "stream",
     "text": [
      "             item_id  deal_probability\n",
      "0       6544e41a8817          0.253365\n",
      "1       65b9484d670f          0.178006\n",
      "2       8bab230b2ecd          0.304372\n",
      "3       8e348601fefc          0.173042\n",
      "4       8bd2fe400b89          0.110438\n",
      "5       c63dbd6c657f          0.076786\n",
      "6       6d1a410df86e          0.028522\n",
      "7       e8d3e7922b80          0.006145\n",
      "8       2bc1ab208462          0.057941\n",
      "9       7e05d77a9181          0.176474\n",
      "10      e2ec19a3ca2b          0.118242\n",
      "11      68069bfc06c2          0.020829\n",
      "12      595842ba248a          0.580000\n",
      "13      4130d5cfc5de          0.014689\n",
      "14      c21ede41b256          0.033814\n",
      "15      f56e4684ceda          0.228967\n",
      "16      e7ab88d19965          0.082779\n",
      "17      81c1cd9f4e4e          0.162222\n",
      "18      2c989cea0e97          0.000000\n",
      "19      36a35020ebeb          0.575000\n",
      "20      60b0cc9cf25e          0.084120\n",
      "21      ac0a01acccc2          0.465191\n",
      "22      683c444d6a40          0.266912\n",
      "23      5580ccd3358a          0.092782\n",
      "24      4596527723ec          0.825000\n",
      "25      2e414b752d9f          0.012579\n",
      "26      032e21134f2f          0.086080\n",
      "27      fd6f6a2ed415          0.105288\n",
      "28      44da737c70af          0.080323\n",
      "29      272e2ee33c62          0.340000\n",
      "...              ...               ...\n",
      "508408  df8001ca5897          0.086521\n",
      "508409  0455281c86fb          0.537500\n",
      "508410  482d3253c9f1          0.020725\n",
      "508411  9278e7c14cd0          0.000000\n",
      "508412  9041d0340b49          0.080323\n",
      "508413  872c382ce446          0.000000\n",
      "508414  67448ad8941c          0.291428\n",
      "508415  6ffaf4c20469          0.027307\n",
      "508416  acc46dbda733          0.127090\n",
      "508417  eb33cd6dac70          0.136277\n",
      "508418  f9db673cb425          0.012579\n",
      "508419  32727c2ed7e5          0.033970\n",
      "508420  2e6f289d2676          0.080323\n",
      "508421  58fa2c39f791          0.160871\n",
      "508422  0e1a370c12c7          0.015813\n",
      "508423  cc4f7fd3d2f2          0.178615\n",
      "508424  29a342aa8508          0.157972\n",
      "508425  fce6b0de65f8          0.029539\n",
      "508426  dae17c1850b0          0.150150\n",
      "508427  549b1c9354e3          0.274687\n",
      "508428  0915772bb21c          0.173515\n",
      "508429  d8984ced6639          0.545658\n",
      "508430  e7c68be28a03          0.016479\n",
      "508431  a96a4c5ad75a          0.000000\n",
      "508432  fdcd9910edf3          0.341289\n",
      "508433  9f2200aed300          0.247261\n",
      "508434  70813f518de4          0.123264\n",
      "508435  a22a2eeb5dd2          0.040721\n",
      "508436  ed7fbb0733c1          0.537500\n",
      "508437  d374d332992f          0.033792\n",
      "\n",
      "[508438 rows x 2 columns]\n"
     ]
    }
   ],
   "source": [
    "p = pd.DataFrame({'item_id' : item_id})\n",
    "p['deal_probability'] = y_hat\n",
    "print(p)"
   ]
  },
  {
   "cell_type": "code",
   "execution_count": null,
   "metadata": {},
   "outputs": [],
   "source": []
  }
 ],
 "metadata": {
  "kernelspec": {
   "display_name": "Python 3",
   "language": "python",
   "name": "python3"
  },
  "language_info": {
   "codemirror_mode": {
    "name": "ipython",
    "version": 3
   },
   "file_extension": ".py",
   "mimetype": "text/x-python",
   "name": "python",
   "nbconvert_exporter": "python",
   "pygments_lexer": "ipython3",
   "version": "3.5.2"
  }
 },
 "nbformat": 4,
 "nbformat_minor": 2
}
