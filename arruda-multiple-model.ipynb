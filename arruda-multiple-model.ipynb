{
 "cells": [
  {
   "cell_type": "markdown",
   "metadata": {},
   "source": [
    "# Avito: O que é? "
   ]
  },
  {
   "cell_type": "markdown",
   "metadata": {},
   "source": [
    "# Importando libs"
   ]
  },
  {
   "cell_type": "code",
   "execution_count": 1,
   "metadata": {},
   "outputs": [],
   "source": [
    "%matplotlib inline  \n",
    "import numpy as np\n",
    "import pandas as pd\n",
    "import scipy as sp\n",
    "\n",
    "from sklearn.model_selection import train_test_split\n",
    "from sklearn.metrics import mean_squared_error"
   ]
  },
  {
   "cell_type": "markdown",
   "metadata": {},
   "source": [
    "# Carregando o dataset"
   ]
  },
  {
   "cell_type": "code",
   "execution_count": 2,
   "metadata": {},
   "outputs": [],
   "source": [
    "df_simple = pd.read_csv('train.csv.zip', compression='zip')"
   ]
  },
  {
   "cell_type": "markdown",
   "metadata": {},
   "source": [
    "## Tratamento dos dados"
   ]
  },
  {
   "cell_type": "code",
   "execution_count": 3,
   "metadata": {},
   "outputs": [],
   "source": [
    "# transformando descrições nulas em str vazias\n",
    "df_simple['description'] = df_simple['description'].replace(np.nan, '', regex=True)\n"
   ]
  },
  {
   "cell_type": "code",
   "execution_count": 64,
   "metadata": {},
   "outputs": [],
   "source": [
    "\n",
    "# trocando para que colunas com valores em russo sejam substituidas por valores de 0-N\n",
    "# acho q isso vai facilitar na hora de acessar essas colunas\n",
    "# ao inves de tentar pegar pelos diferentes valores de cada uma\n",
    "def convert_columns_with_russian_values_to_numbers(df, cols):\n",
    "    transform_dict = {}\n",
    "    for col in cols:\n",
    "        cats = pd.Categorical(df[col]).categories\n",
    "        d = {}\n",
    "        for i, cat in enumerate(cats):\n",
    "            d[cat] = f'{i}'\n",
    "        transform_dict[col] = d\n",
    "    inverse_transform_dict = {}\n",
    "    for col, d in transform_dict.items():\n",
    "        inverse_transform_dict[col] = {v:k for k, v in d.items()}\n",
    "        \n",
    "    return df.replace(transform_dict), transform_dict, inverse_transform_dict\n",
    "# Aplica essa função para category_name e region\n",
    "df, transform_dict, inverse_transform_dict = convert_columns_with_russian_values_to_numbers(df_simple, ['category_name', 'region'])\n",
    "\n",
    "# transforma user_type e category_name em diferentes colunas com representações one-hot delas\n",
    "df = pd.get_dummies(df, columns=['user_type','category_name', ])\n"
   ]
  },
  {
   "cell_type": "code",
   "execution_count": 65,
   "metadata": {},
   "outputs": [
    {
     "data": {
      "text/plain": [
       "{'category_name': {'Автомобили': '0',\n",
       "  'Аквариум': '1',\n",
       "  'Аудио и видео': '2',\n",
       "  'Билеты и путешествия': '3',\n",
       "  'Бытовая техника': '4',\n",
       "  'Велосипеды': '5',\n",
       "  'Водный транспорт': '6',\n",
       "  'Гаражи и машиноместа': '7',\n",
       "  'Готовый бизнес': '8',\n",
       "  'Грузовики и спецтехника': '9',\n",
       "  'Детская одежда и обувь': '10',\n",
       "  'Дома, дачи, коттеджи': '11',\n",
       "  'Другие животные': '12',\n",
       "  'Земельные участки': '13',\n",
       "  'Игры, приставки и программы': '14',\n",
       "  'Квартиры': '15',\n",
       "  'Книги и журналы': '16',\n",
       "  'Коллекционирование': '17',\n",
       "  'Коммерческая недвижимость': '18',\n",
       "  'Комнаты': '19',\n",
       "  'Кошки': '20',\n",
       "  'Красота и здоровье': '21',\n",
       "  'Мебель и интерьер': '22',\n",
       "  'Мотоциклы и мототехника': '23',\n",
       "  'Музыкальные инструменты': '24',\n",
       "  'Настольные компьютеры': '25',\n",
       "  'Недвижимость за рубежом': '26',\n",
       "  'Ноутбуки': '27',\n",
       "  'Оборудование для бизнеса': '28',\n",
       "  'Одежда, обувь, аксессуары': '29',\n",
       "  'Оргтехника и расходники': '30',\n",
       "  'Охота и рыбалка': '31',\n",
       "  'Планшеты и электронные книги': '32',\n",
       "  'Посуда и товары для кухни': '33',\n",
       "  'Предложение услуг': '34',\n",
       "  'Продукты питания': '35',\n",
       "  'Птицы': '36',\n",
       "  'Растения': '37',\n",
       "  'Ремонт и строительство': '38',\n",
       "  'Собаки': '39',\n",
       "  'Спорт и отдых': '40',\n",
       "  'Телефоны': '41',\n",
       "  'Товары для детей и игрушки': '42',\n",
       "  'Товары для животных': '43',\n",
       "  'Товары для компьютера': '44',\n",
       "  'Фототехника': '45',\n",
       "  'Часы и украшения': '46'},\n",
       " 'region': {'Алтайский край': '0',\n",
       "  'Башкортостан': '1',\n",
       "  'Белгородская область': '2',\n",
       "  'Владимирская область': '3',\n",
       "  'Волгоградская область': '4',\n",
       "  'Воронежская область': '5',\n",
       "  'Иркутская область': '6',\n",
       "  'Калининградская область': '7',\n",
       "  'Кемеровская область': '8',\n",
       "  'Краснодарский край': '9',\n",
       "  'Красноярский край': '10',\n",
       "  'Нижегородская область': '11',\n",
       "  'Новосибирская область': '12',\n",
       "  'Омская область': '13',\n",
       "  'Оренбургская область': '14',\n",
       "  'Пермский край': '15',\n",
       "  'Ростовская область': '16',\n",
       "  'Самарская область': '17',\n",
       "  'Саратовская область': '18',\n",
       "  'Свердловская область': '19',\n",
       "  'Ставропольский край': '20',\n",
       "  'Татарстан': '21',\n",
       "  'Тульская область': '22',\n",
       "  'Тюменская область': '23',\n",
       "  'Удмуртия': '24',\n",
       "  'Ханты-Мансийский АО': '25',\n",
       "  'Челябинская область': '26',\n",
       "  'Ярославская область': '27'}}"
      ]
     },
     "execution_count": 65,
     "metadata": {},
     "output_type": "execute_result"
    }
   ],
   "source": [
    "transform_dict"
   ]
  },
  {
   "cell_type": "code",
   "execution_count": 5,
   "metadata": {},
   "outputs": [],
   "source": [
    "# add deal_prob_class (low, average ou high)\n",
    "\n",
    "def convert_deal_probability_to_class(value):\n",
    "    classes = [\n",
    "\n",
    "    ]\n",
    "    if value * 100 <= (100 / 3 * 1):\n",
    "        return 'low'\n",
    "    elif value * 100 <= (100 / 3 * 2):\n",
    "        return 'average'\n",
    "    else:\n",
    "        return 'high'\n",
    "\n",
    "df['deal_prob_class'] = df['deal_probability'].apply(convert_deal_probability_to_class)"
   ]
  },
  {
   "cell_type": "markdown",
   "metadata": {},
   "source": [
    "### Bag of words creator"
   ]
  },
  {
   "cell_type": "code",
   "execution_count": 6,
   "metadata": {},
   "outputs": [
    {
     "name": "stdout",
     "output_type": "stream",
     "text": [
      "[nltk_data] Downloading package stopwords to /home/arruda/nltk_data...\n",
      "[nltk_data]   Package stopwords is already up-to-date!\n"
     ]
    }
   ],
   "source": [
    "from sklearn.feature_extraction.text import CountVectorizer\n",
    "import nltk\n",
    "from nltk.corpus import stopwords\n",
    "\n",
    "nltk.download('stopwords')\n",
    "\n",
    "def prepare_vectorizer_and_col(df, col_name):\n",
    "    vectorizer = CountVectorizer(lowercase=True, stop_words=stopwords.words('russian'))\n",
    "    corpus = df[col_name]\n",
    "    col_vectorized = vectorizer.fit_transform(corpus)\n",
    "    return col_vectorized, vectorizer\n",
    "\n",
    "    \n",
    "\n",
    "from rake_nltk import Rake\n",
    "\n",
    "def return_description_reduced(df):\n",
    "    # Uses stopwords for russian from NLTK, and all puntuation characters.\n",
    "    r = Rake(language='russian')\n",
    "    \n",
    "    total = df['description'].shape[0]\n",
    "    \n",
    "    verbose_step_size = int(total/10)\n",
    "    description_reduced = []\n",
    "    for i, description in enumerate(df['description']):\n",
    "        r.extract_keywords_from_text(description)\n",
    "        phrases_and_scores = r.get_ranked_phrases_with_scores()    \n",
    "        mean_score = np.mean([x[0] for x in phrases_and_scores])\n",
    "\n",
    "        highest_phrases = [x[1] for x in phrases_and_scores if x[0] >= mean_score]\n",
    "        reduced_description = ' '.join(highest_phrases)\n",
    "        description_reduced.append(reduced_description)\n",
    "        \n",
    "        \n",
    "        if i % verbose_step_size == 0:\n",
    "            print(f'{int(i/total*100)}') \n",
    "        \n",
    "    return description_reduced\n",
    "\n"
   ]
  },
  {
   "cell_type": "markdown",
   "metadata": {},
   "source": [
    "### Para salvar e carregar os models"
   ]
  },
  {
   "cell_type": "code",
   "execution_count": 7,
   "metadata": {},
   "outputs": [],
   "source": [
    "import pickle\n",
    "def save_description_linear_regression_model(pkl_filename, model):\n",
    "    with open(pkl_filename, 'wb') as f:\n",
    "        pickle.dump(model, f)\n",
    "def load_description_linear_regression_model(pkl_filename):\n",
    "    with open(pkl_filename, 'rb') as f:\n",
    "        pickle_model = pickle.load(f)\n",
    "        return pickle_model"
   ]
  },
  {
   "cell_type": "markdown",
   "metadata": {},
   "source": [
    "## Train-test split (com amostra)"
   ]
  },
  {
   "cell_type": "code",
   "execution_count": 8,
   "metadata": {},
   "outputs": [],
   "source": [
    "# train_frac == 0.34 ~= 510000 ~= total de exemplos no test_csv.zip\n",
    "def get_train_test_samples(df, seed, train_frac=0.34): \n",
    "    train_dfs = []\n",
    "    test_dfs = []\n",
    "    for klass in ['low', 'average', 'high']:\n",
    "        klass_df = df[df['deal_prob_class'] == klass]\n",
    "        klass_train, klass_test = train_test_split(klass_df,  test_size=(1-train_frac), random_state=seed)\n",
    "        train_dfs.append(klass_train)\n",
    "        test_dfs.append(klass_test)\n",
    "        \n",
    "    train_df = pd.concat(train_dfs, ignore_index=True)\n",
    "    test_df = pd.concat(test_dfs, ignore_index=True)\n",
    "    return train_df, test_df\n",
    "\n",
    "seed = np.random.RandomState(seed=123654)\n",
    "train_df, test_df = get_train_test_samples(df, seed, train_frac=0.34)"
   ]
  },
  {
   "cell_type": "code",
   "execution_count": 11,
   "metadata": {},
   "outputs": [
    {
     "data": {
      "text/plain": [
       "511163"
      ]
     },
     "execution_count": 11,
     "metadata": {},
     "output_type": "execute_result"
    },
    {
     "data": {
      "image/png": "[encoded data removed]",
      "text/plain": [
       "<Figure size 432x288 with 1 Axes>"
      ]
     },
     "metadata": {},
     "output_type": "display_data"
    }
   ],
   "source": [
    "train_df.hist('deal_probability')\n",
    "train_df.shape[0]"
   ]
  },
  {
   "cell_type": "markdown",
   "metadata": {},
   "source": [
    "## criando description reduced"
   ]
  },
  {
   "cell_type": "code",
   "execution_count": 55,
   "metadata": {},
   "outputs": [],
   "source": [
    "def load_description_reduced_from_csv(df, filename):\n",
    "    try:\n",
    "        description_df = pd.read_csv(filename, header=None, index_col=0, names=['description_reduced'])\n",
    "        values = description_df['description_reduced'].values\n",
    "    except:\n",
    "        values = return_description_reduced(df)\n",
    "    return values\n"
   ]
  },
  {
   "cell_type": "code",
   "execution_count": null,
   "metadata": {},
   "outputs": [],
   "source": [
    "train_df['description_reduced'] = load_description_reduced_from_csv(train_df, 'train_df_description_reduced.csv')"
   ]
  },
  {
   "cell_type": "code",
   "execution_count": null,
   "metadata": {},
   "outputs": [],
   "source": [
    "description_vectorized, vectorizer_description = prepare_vectorizer_and_col(train_df, 'description_reduced')"
   ]
  },
  {
   "cell_type": "code",
   "execution_count": null,
   "metadata": {
    "scrolled": true
   },
   "outputs": [],
   "source": [
    "test_df['description_reduced'] = load_description_reduced_from_csv(test_df, 'train_test_df_description_reduced.csv')"
   ]
  },
  {
   "cell_type": "code",
   "execution_count": null,
   "metadata": {},
   "outputs": [],
   "source": [
    "description_vectorized_test = vectorizer_description.transform(test_df['description_reduced'])"
   ]
  },
  {
   "cell_type": "markdown",
   "metadata": {},
   "source": [
    "## SVR na descrição reduzida"
   ]
  },
  {
   "cell_type": "code",
   "execution_count": 35,
   "metadata": {},
   "outputs": [],
   "source": [
    "from sklearn.svm import SVR\n",
    "try:\n",
    "    description_reduced_countvec_svr_model = load_description_linear_regression_model(\n",
    "        'description_reduced_countvec_svr_model.pkl')\n",
    "except:\n",
    "    description_reduced_countvec_svr_model = SVR(kernel='poly', verbose=True, cache_size=16000)     \n",
    "    description_reduced_countvec_svr_model.fit(description_vectorized, train_df['deal_probability'])\n"
   ]
  },
  {
   "cell_type": "code",
   "execution_count": 27,
   "metadata": {},
   "outputs": [],
   "source": [
    "# y_predic_train = description_reduced_countvec_svr_model.predict(description_vectorized)\n",
    "try:\n",
    "    y_predict_train = pd.read_csv(\n",
    "        'y_predict_train_svr_desc_reduc.csv', header=0, index_col=0, names=['y_predict_model_svr_desc']).values\n",
    "except:\n",
    "#     y_predic_train = description_reduced_countvec_svr_model.predict(description_vectorized)\n",
    "    pass"
   ]
  },
  {
   "cell_type": "code",
   "execution_count": 31,
   "metadata": {},
   "outputs": [],
   "source": [
    "\n",
    "def limit_value(value):\n",
    "    if value > 1:\n",
    "        value = 1\n",
    "    elif value < 0:\n",
    "        value = 0\n",
    "    return value\n",
    "y_treated_train = np.array(list(map(limit_value, y_predict_train)))"
   ]
  },
  {
   "cell_type": "code",
   "execution_count": 32,
   "metadata": {},
   "outputs": [],
   "source": [
    "# y_predict_train_df = pd.DataFrame(y_predic_train)\n",
    "# y_predict_train_df.to_csv('y_predict_train_svr_desc_reduc.csv')"
   ]
  },
  {
   "cell_type": "markdown",
   "metadata": {},
   "source": [
    "## SVR  nos campos numericos + saida do svr na descrição"
   ]
  },
  {
   "cell_type": "code",
   "execution_count": 37,
   "metadata": {},
   "outputs": [
    {
     "data": {
      "text/plain": [
       "['price',\n",
       " 'item_seq_number',\n",
       " 'user_type_Company',\n",
       " 'user_type_Private',\n",
       " 'user_type_Shop',\n",
       " 'category_name_0',\n",
       " 'category_name_1',\n",
       " 'category_name_10',\n",
       " 'category_name_11',\n",
       " 'category_name_12',\n",
       " 'category_name_13',\n",
       " 'category_name_14',\n",
       " 'category_name_15',\n",
       " 'category_name_16',\n",
       " 'category_name_17',\n",
       " 'category_name_18',\n",
       " 'category_name_19',\n",
       " 'category_name_2',\n",
       " 'category_name_20',\n",
       " 'category_name_21',\n",
       " 'category_name_22',\n",
       " 'category_name_23',\n",
       " 'category_name_24',\n",
       " 'category_name_25',\n",
       " 'category_name_26',\n",
       " 'category_name_27',\n",
       " 'category_name_28',\n",
       " 'category_name_29',\n",
       " 'category_name_3',\n",
       " 'category_name_30',\n",
       " 'category_name_31',\n",
       " 'category_name_32',\n",
       " 'category_name_33',\n",
       " 'category_name_34',\n",
       " 'category_name_35',\n",
       " 'category_name_36',\n",
       " 'category_name_37',\n",
       " 'category_name_38',\n",
       " 'category_name_39',\n",
       " 'category_name_4',\n",
       " 'category_name_40',\n",
       " 'category_name_41',\n",
       " 'category_name_42',\n",
       " 'category_name_43',\n",
       " 'category_name_44',\n",
       " 'category_name_45',\n",
       " 'category_name_46',\n",
       " 'category_name_5',\n",
       " 'category_name_6',\n",
       " 'category_name_7',\n",
       " 'category_name_8',\n",
       " 'category_name_9',\n",
       " 'y_predict_model_svr_desc']"
      ]
     },
     "execution_count": 37,
     "metadata": {},
     "output_type": "execute_result"
    }
   ],
   "source": [
    "train_df['price'] = train_df['price'].fillna(0.0)\n",
    "test_df['price'] = test_df['price'].fillna(0.0)\n",
    "\n",
    "train_df['y_predict_model_svr_desc'] = y_treated_train\n",
    "\n",
    "desc = train_df.describe()\n",
    "colums_name = list(desc.columns.values)\n",
    "colums_name.pop(colums_name.index('image_top_1'))\n",
    "colums_name.pop(colums_name.index('deal_probability'))\n",
    "colums_name"
   ]
  },
  {
   "cell_type": "code",
   "execution_count": 38,
   "metadata": {},
   "outputs": [],
   "source": [
    "numeric_fields_svr_model = SVR(kernel='poly', verbose=True, cache_size=4000)    "
   ]
  },
  {
   "cell_type": "code",
   "execution_count": 39,
   "metadata": {},
   "outputs": [
    {
     "name": "stdout",
     "output_type": "stream",
     "text": [
      "[LibSVM]"
     ]
    },
    {
     "data": {
      "text/plain": [
       "SVR(C=1.0, cache_size=4000, coef0=0.0, degree=3, epsilon=0.1, gamma='auto',\n",
       "  kernel='poly', max_iter=-1, shrinking=True, tol=0.001, verbose=True)"
      ]
     },
     "execution_count": 39,
     "metadata": {},
     "output_type": "execute_result"
    }
   ],
   "source": [
    "numeric_fields_svr_model.fit(train_df[colums_name], train_df['deal_probability'])"
   ]
  },
  {
   "cell_type": "code",
   "execution_count": 41,
   "metadata": {},
   "outputs": [],
   "source": [
    "save_description_linear_regression_model('numeric_fields_and_predic_desc_svr_model.pkl', numeric_fields_svr_model)"
   ]
  },
  {
   "cell_type": "code",
   "execution_count": 28,
   "metadata": {},
   "outputs": [
    {
     "name": "stdout",
     "output_type": "stream",
     "text": [
      "0.08696623321357727\n",
      "0.06911413911149261\n"
     ]
    }
   ],
   "source": [
    "print(mean_squared_error(test_df['deal_probability'], np.zeros(y_predic.shape)))\n",
    "print(mean_squared_error(test_df['deal_probability'], y_treated))"
   ]
  },
  {
   "cell_type": "markdown",
   "metadata": {},
   "source": [
    "# Running on test.csv for submission"
   ]
  },
  {
   "cell_type": "code",
   "execution_count": 61,
   "metadata": {},
   "outputs": [],
   "source": [
    "submission_df = pd.read_csv('test.csv.zip', compression='zip')\n",
    "submission_df['description'] = submission_df['description'].replace(np.nan, '', regex=True)"
   ]
  },
  {
   "cell_type": "code",
   "execution_count": 43,
   "metadata": {},
   "outputs": [
    {
     "name": "stdout",
     "output_type": "stream",
     "text": [
      "0\n"
     ]
    },
    {
     "name": "stderr",
     "output_type": "stream",
     "text": [
      "/home/arruda/.virtualenvs/icd_final-cXF_SA4B/lib/python3.6/site-packages/numpy/core/fromnumeric.py:2957: RuntimeWarning: Mean of empty slice.\n",
      "  out=out, **kwargs)\n",
      "/home/arruda/.virtualenvs/icd_final-cXF_SA4B/lib/python3.6/site-packages/numpy/core/_methods.py:80: RuntimeWarning: invalid value encountered in double_scalars\n",
      "  ret = ret.dtype.type(ret / rcount)\n"
     ]
    },
    {
     "name": "stdout",
     "output_type": "stream",
     "text": [
      "9\n",
      "19\n",
      "29\n",
      "39\n",
      "49\n",
      "59\n",
      "69\n",
      "79\n",
      "89\n",
      "99\n"
     ]
    }
   ],
   "source": [
    "submission_df['description_reduced'] = return_description_reduced(submission_df)"
   ]
  },
  {
   "cell_type": "code",
   "execution_count": 34,
   "metadata": {},
   "outputs": [],
   "source": [
    "description_vectorized_submission = vectorizer_description.transform(submission_df['description_reduced'])"
   ]
  },
  {
   "cell_type": "markdown",
   "metadata": {},
   "source": [
    "### linear regression"
   ]
  },
  {
   "cell_type": "code",
   "execution_count": 46,
   "metadata": {},
   "outputs": [],
   "source": [
    "y_predic = desc_red_countvec_lreg_model.predict(description_vectorized_submission)"
   ]
  },
  {
   "cell_type": "markdown",
   "metadata": {},
   "source": [
    "### svr"
   ]
  },
  {
   "cell_type": "code",
   "execution_count": 35,
   "metadata": {},
   "outputs": [],
   "source": [
    "y_predic = description_reduced_countvec_svr_model.predict(description_vectorized_submission)"
   ]
  },
  {
   "cell_type": "markdown",
   "metadata": {},
   "source": [
    "### svr numeric + svr desc reduced predict"
   ]
  },
  {
   "cell_type": "code",
   "execution_count": 49,
   "metadata": {},
   "outputs": [],
   "source": [
    "# pega o valor já calculado anteriormente em outra submissão\n",
    "y_predict_description_reduced_svr = pd.read_csv('submission_svr.csv', index_col='item_id')['deal_probability'].values"
   ]
  },
  {
   "cell_type": "code",
   "execution_count": 68,
   "metadata": {},
   "outputs": [],
   "source": [
    "\n",
    "# Aplica essa função para category_name e region virarem numeros\n",
    "submission_df = submission_df.replace(transform_dict)\n",
    "\n",
    "# transforma user_type e category_name em diferentes colunas com representações one-hot delas\n",
    "submission_df = pd.get_dummies(submission_df, columns=['user_type','category_name', ])\n"
   ]
  },
  {
   "cell_type": "code",
   "execution_count": 69,
   "metadata": {},
   "outputs": [
    {
     "data": {
      "text/plain": [
       "['price',\n",
       " 'item_seq_number',\n",
       " 'user_type_Company',\n",
       " 'user_type_Private',\n",
       " 'user_type_Shop',\n",
       " 'category_name_0',\n",
       " 'category_name_1',\n",
       " 'category_name_10',\n",
       " 'category_name_11',\n",
       " 'category_name_12',\n",
       " 'category_name_13',\n",
       " 'category_name_14',\n",
       " 'category_name_15',\n",
       " 'category_name_16',\n",
       " 'category_name_17',\n",
       " 'category_name_18',\n",
       " 'category_name_19',\n",
       " 'category_name_2',\n",
       " 'category_name_20',\n",
       " 'category_name_21',\n",
       " 'category_name_22',\n",
       " 'category_name_23',\n",
       " 'category_name_24',\n",
       " 'category_name_25',\n",
       " 'category_name_26',\n",
       " 'category_name_27',\n",
       " 'category_name_28',\n",
       " 'category_name_29',\n",
       " 'category_name_3',\n",
       " 'category_name_30',\n",
       " 'category_name_31',\n",
       " 'category_name_32',\n",
       " 'category_name_33',\n",
       " 'category_name_34',\n",
       " 'category_name_35',\n",
       " 'category_name_36',\n",
       " 'category_name_37',\n",
       " 'category_name_38',\n",
       " 'category_name_39',\n",
       " 'category_name_4',\n",
       " 'category_name_40',\n",
       " 'category_name_41',\n",
       " 'category_name_42',\n",
       " 'category_name_43',\n",
       " 'category_name_44',\n",
       " 'category_name_45',\n",
       " 'category_name_46',\n",
       " 'category_name_5',\n",
       " 'category_name_6',\n",
       " 'category_name_7',\n",
       " 'category_name_8',\n",
       " 'category_name_9',\n",
       " 'y_predict_model_svr_desc']"
      ]
     },
     "execution_count": 69,
     "metadata": {},
     "output_type": "execute_result"
    }
   ],
   "source": [
    "submission_df['price'] = submission_df['price'].fillna(0.0)\n",
    "\n",
    "submission_df['y_predict_model_svr_desc'] = y_predict_description_reduced_svr\n",
    "\n",
    "desc = submission_df.describe()\n",
    "colums_name = list(desc.columns.values)\n",
    "colums_name.pop(colums_name.index('image_top_1'))\n",
    "colums_name.pop(colums_name.index('y_predict_model_svr_desc'))\n",
    "colums_name.append('y_predict_model_svr_desc')\n",
    "colums_name"
   ]
  },
  {
   "cell_type": "code",
   "execution_count": 70,
   "metadata": {},
   "outputs": [],
   "source": [
    "y_predic_numeric_svr_and_desc_reduced_predict = numeric_fields_svr_model.predict(submission_df[colums_name])"
   ]
  },
  {
   "cell_type": "markdown",
   "metadata": {},
   "source": [
    "### post-processing"
   ]
  },
  {
   "cell_type": "code",
   "execution_count": 88,
   "metadata": {},
   "outputs": [],
   "source": [
    "def normalized_predict(y_predict):\n",
    "    min_y_predict = min(y_predict)\n",
    "    \n",
    "    if min_y_predict < 0:\n",
    "        neg_fix = (min_y_predict*-1)\n",
    "        y_predict = y_predict + neg_fix\n",
    "        \n",
    "    max_y_predict = max(y_predict)\n",
    "        \n",
    "    return (y_predict-min_y_predict)/(max_y_predict-min_y_predict)"
   ]
  },
  {
   "cell_type": "code",
   "execution_count": 102,
   "metadata": {},
   "outputs": [],
   "source": [
    "def limit_value(value):\n",
    "    if value > 1:\n",
    "        value = 1\n",
    "    elif value < 0:\n",
    "        value = 0\n",
    "    return value\n",
    "y_predic_numeric_svr_and_desc_reduced_predict_treated = np.array(\n",
    "    list(map(limit_value, y_predic_numeric_svr_and_desc_reduced_predict)))\n"
   ]
  },
  {
   "cell_type": "code",
   "execution_count": 103,
   "metadata": {},
   "outputs": [],
   "source": [
    "submission_prediction_df = pd.DataFrame(\n",
    "    {'deal_probability': y_predic_numeric_svr_and_desc_reduced_predict_treated}, \n",
    "    index=submission_df['item_id'])"
   ]
  },
  {
   "cell_type": "code",
   "execution_count": 104,
   "metadata": {},
   "outputs": [
    {
     "data": {
      "text/html": [
       "<div>\n",
       "<style scoped>\n",
       "    .dataframe tbody tr th:only-of-type {\n",
       "        vertical-align: middle;\n",
       "    }\n",
       "\n",
       "    .dataframe tbody tr th {\n",
       "        vertical-align: top;\n",
       "    }\n",
       "\n",
       "    .dataframe thead th {\n",
       "        text-align: right;\n",
       "    }\n",
       "</style>\n",
       "<table border=\"1\" class=\"dataframe\">\n",
       "  <thead>\n",
       "    <tr style=\"text-align: right;\">\n",
       "      <th></th>\n",
       "      <th>deal_probability</th>\n",
       "    </tr>\n",
       "    <tr>\n",
       "      <th>item_id</th>\n",
       "      <th></th>\n",
       "    </tr>\n",
       "  </thead>\n",
       "  <tbody>\n",
       "    <tr>\n",
       "      <th>6544e41a8817</th>\n",
       "      <td>1</td>\n",
       "    </tr>\n",
       "    <tr>\n",
       "      <th>65b9484d670f</th>\n",
       "      <td>0</td>\n",
       "    </tr>\n",
       "    <tr>\n",
       "      <th>8bab230b2ecd</th>\n",
       "      <td>0</td>\n",
       "    </tr>\n",
       "    <tr>\n",
       "      <th>8e348601fefc</th>\n",
       "      <td>0</td>\n",
       "    </tr>\n",
       "    <tr>\n",
       "      <th>8bd2fe400b89</th>\n",
       "      <td>0</td>\n",
       "    </tr>\n",
       "  </tbody>\n",
       "</table>\n",
       "</div>"
      ],
      "text/plain": [
       "              deal_probability\n",
       "item_id                       \n",
       "6544e41a8817                 1\n",
       "65b9484d670f                 0\n",
       "8bab230b2ecd                 0\n",
       "8e348601fefc                 0\n",
       "8bd2fe400b89                 0"
      ]
     },
     "execution_count": 104,
     "metadata": {},
     "output_type": "execute_result"
    }
   ],
   "source": [
    "submission_prediction_df.head()"
   ]
  },
  {
   "cell_type": "code",
   "execution_count": 105,
   "metadata": {},
   "outputs": [
    {
     "data": {
      "text/plain": [
       "<matplotlib.axes._subplots.AxesSubplot at 0x7fa9c616eb00>"
      ]
     },
     "execution_count": 105,
     "metadata": {},
     "output_type": "execute_result"
    },
    {
     "data": {
      "image/png": "[encoded data removed]",
      "text/plain": [
       "<Figure size 432x288 with 1 Axes>"
      ]
     },
     "metadata": {},
     "output_type": "display_data"
    }
   ],
   "source": [
    "submission_prediction_df['deal_probability'].hist()"
   ]
  },
  {
   "cell_type": "code",
   "execution_count": 106,
   "metadata": {},
   "outputs": [
    {
     "data": {
      "text/plain": [
       "count    508438.000000\n",
       "mean          0.492459\n",
       "std           0.499944\n",
       "min           0.000000\n",
       "25%           0.000000\n",
       "50%           0.000000\n",
       "75%           1.000000\n",
       "max           1.000000\n",
       "Name: deal_probability, dtype: float64"
      ]
     },
     "execution_count": 106,
     "metadata": {},
     "output_type": "execute_result"
    }
   ],
   "source": [
    "submission_prediction_df['deal_probability'].describe()"
   ]
  },
  {
   "cell_type": "code",
   "execution_count": 107,
   "metadata": {},
   "outputs": [],
   "source": [
    "submission_prediction_df.to_csv('submission_svr_number_and_predict_svr_descr_reduc.csv')"
   ]
  },
  {
   "cell_type": "code",
   "execution_count": null,
   "metadata": {},
   "outputs": [],
   "source": []
  }
 ],
 "metadata": {
  "kernelspec": {
   "display_name": "Python 3",
   "language": "python",
   "name": "python3"
  },
  "language_info": {
   "codemirror_mode": {
    "name": "ipython",
    "version": 3
   },
   "file_extension": ".py",
   "mimetype": "text/x-python",
   "name": "python",
   "nbconvert_exporter": "python",
   "pygments_lexer": "ipython3",
   "version": "3.6.5"
  }
 },
 "nbformat": 4,
 "nbformat_minor": 2
}
