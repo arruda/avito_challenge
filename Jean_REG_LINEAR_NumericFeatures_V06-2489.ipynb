{
 "cells": [
  {
   "cell_type": "markdown",
   "metadata": {},
   "source": [
    "# Predicting demand likelihood on Avito's classified advertisements"
   ]
  },
  {
   "cell_type": "markdown",
   "metadata": {},
   "source": [
    "* Score no Kaggle: 0.2489\n",
    "* 7 features\n",
    "* 6 intervalos de probabilidades, que devem ser ajustados "
   ]
  },
  {
   "cell_type": "code",
   "execution_count": 1,
   "metadata": {},
   "outputs": [],
   "source": [
    "import gc\n",
    "import pandas as pd\n",
    "import matplotlib.pyplot as plt\n",
    "import numpy as np\n",
    "import random\n",
    "from sklearn import preprocessing, utils\n",
    "from sklearn.svm import SVC,SVR,LinearSVR\n",
    "from sklearn.feature_extraction.text import CountVectorizer, TfidfVectorizer, TfidfTransformer\n",
    "from nltk.corpus import stopwords\n",
    "from sklearn.naive_bayes import MultinomialNB\n",
    "from sklearn.linear_model import LinearRegression\n",
    "from sklearn.externals import joblib"
   ]
  },
  {
   "cell_type": "code",
   "execution_count": 2,
   "metadata": {},
   "outputs": [],
   "source": [
    "df_train = pd.read_csv('train.csv.zip', compression='zip')\n",
    "#print(df_train.shape)\n",
    "#df_train.head(2)"
   ]
  },
  {
   "cell_type": "code",
   "execution_count": 3,
   "metadata": {},
   "outputs": [],
   "source": [
    "df_test= pd.read_csv('test.csv.zip', compression='zip')\n",
    "#print(df_test.shape)\n",
    "#df_test.head(2)"
   ]
  },
  {
   "cell_type": "code",
   "execution_count": 4,
   "metadata": {},
   "outputs": [],
   "source": [
    "number_of_ads=df_train.shape[0]\n",
    "#round(df_train.isnull().sum()*100/number_of_ads,2)"
   ]
  },
  {
   "cell_type": "code",
   "execution_count": 5,
   "metadata": {},
   "outputs": [],
   "source": [
    "#Eliminar NaN nas colunas dos anúnicos. Aqui usamos apenas a coluna 'price'\n",
    "#df_train_=df_train\n",
    "#df_train_[['price']]=df_train_[['price']].fillna(0.0)\n",
    "df_train['price'] = df_train['price'].replace(np.nan, 0.0, regex=True)\n",
    "df_test['price'] = df_test['price'].replace(np.nan, 0.0, regex=True)\n",
    "#round(df_train.isnull().sum()*100/number_of_ads,2)"
   ]
  },
  {
   "cell_type": "markdown",
   "metadata": {},
   "source": [
    "## Explorando os dados "
   ]
  },
  {
   "cell_type": "markdown",
   "metadata": {},
   "source": [
    "#Regios e seus numeros de anúncios\n",
    "region_ads_number= df_train['region'].value_counts()\n",
    "#Guardar os nomes das regiões\n",
    "regions_names = np.array(region_ads_number.index)\n",
    "#Guardar os números de anuncios por região.\n",
    "ads_numbers= np.array(region_ads_number)\n",
    "#Criar um dataframe com as informações anterios\n",
    "df_region_ads = pd.DataFrame({'region': regions_names, 'number of ads': ads_numbers})\n",
    "rank = np.arange(0, len(df_region_ads))\n",
    "plt.barh(rank, df_region_ads['number of ads'])\n",
    "plt.yticks(rank, df_region_ads['region'])\n",
    "plt.show()"
   ]
  },
  {
   "cell_type": "code",
   "execution_count": 210,
   "metadata": {},
   "outputs": [],
   "source": [
    "#df_train[['category_name','price','deal_probability']].groupby('category_name').describe()\n",
    "#df_train[['category_name','deal_probability']].groupby('category_name').describe()\n",
    "#Probabilidade média por categoria\n",
    "company_mean_grp=df_train[['category_name','deal_probability']].groupby('category_name').mean()"
   ]
  },
  {
   "cell_type": "code",
   "execution_count": 211,
   "metadata": {},
   "outputs": [],
   "source": [
    "#Colocamos as categoria e suas probabilidades médias em um dicionário\n",
    "dic_categories={}\n",
    "\n",
    "for row in company_mean_grp.itertuples():\n",
    "    #Formato ('category_name', deal_probability)\n",
    "    str1=str(row[0]) \n",
    "    #Remover parenteses\n",
    "    str2=str1.replace('(','')\n",
    "    str3=str2.replace(')','')\n",
    "    #Particionar em tokens separados por uma virgula: ,\n",
    "    str4=str3.split(',')\n",
    "    #Primeiro token é category_name\n",
    "    category=str4[0]\n",
    "    #Probabilidade é mais simples de extrair\n",
    "    deal_probability=row.deal_probability\n",
    "    #print(category, ' ',deal_probability) #Para teste\n",
    "    dic_categories[category]=deal_probability\n",
    "#dic_categories #Para teste"
   ]
  },
  {
   "cell_type": "code",
   "execution_count": 212,
   "metadata": {},
   "outputs": [],
   "source": [
    "#Retorna a probabilidade média da categoria\n",
    "def setCategoryProb(row):\n",
    "    key=str(row['category_name'])\n",
    "    prob=0.0\n",
    "    if key in dic_categories.keys():\n",
    "        prob=dic_categories[key]\n",
    "    return prob"
   ]
  },
  {
   "cell_type": "code",
   "execution_count": 213,
   "metadata": {},
   "outputs": [],
   "source": [
    "def setUserTypeProb(row):\n",
    "    mean_prob=0.0\n",
    "    user_type=str(row['user_type'])\n",
    "    if user_type==\"Shop\":\n",
    "        mean_prob=0.062829\n",
    "    elif user_type==\"Private\":\n",
    "        mean_prob=0.149557\n",
    "    elif user_type==\"Company\":\n",
    "        mean_prob=0.124513\n",
    "    return mean_prob"
   ]
  },
  {
   "cell_type": "code",
   "execution_count": 214,
   "metadata": {},
   "outputs": [],
   "source": [
    "def setUserTypeProp(row):\n",
    "    prop=0.0\n",
    "    user_type=str(row['user_type'])\n",
    "    if user_type==\"Shop\":\n",
    "        prop=0.053524\n",
    "    elif user_type==\"Private\":\n",
    "        prop=0.715504\n",
    "    elif user_type==\"Company\":\n",
    "        prop=0.230972\n",
    "    return prop"
   ]
  },
  {
   "cell_type": "code",
   "execution_count": 215,
   "metadata": {},
   "outputs": [],
   "source": [
    "#df_train['user_type_freq']=df_train.apply(setUserTypeProp, axis=1)\n",
    "#df_train['user_type_prob']=df_train.apply(setUserTypeProb, axis=1)\n",
    "#df_train[['user_type','user_type_freq', 'user_type_prob']].head(12) #Para teste"
   ]
  },
  {
   "cell_type": "code",
   "execution_count": 216,
   "metadata": {},
   "outputs": [],
   "source": [
    "#Histograma preços\n",
    "#df_train['price'].describe()"
   ]
  },
  {
   "cell_type": "code",
   "execution_count": 217,
   "metadata": {},
   "outputs": [],
   "source": [
    "#Faixas\n",
    "#Qualidade alta\n",
    "df_train_price_EH=df_train.query(\"price>2.987259e+05\")\n",
    "df_train_price_VH=df_train.query(\"price>6000.0 and price<=2.987259e+05\")\n",
    "df_train_price_H=df_train.query(\"price>1000 and price<=6000\") \n",
    "#Qualidade Media \n",
    "df_train_price_M=df_train.query(\"price>400 and price<=1000\")\n",
    "df_train_price_VM=df_train.query(\"price>300 and price<=400\") \n",
    "#Qualidade Baixa \n",
    "df_train_price_L=df_train.query(\"price>200 and price<=300\")\n",
    "df_train_price_VL=df_train.query(\"price<100 and price<=200\")\n",
    "df_train_price_EL=df_train.query(\"price<=100\")\n",
    "#print('EH:', df_train_price_EH.shape[0] )\n",
    "#print('VH:', df_train_price_VH.shape[0] )\n",
    "#print('H:', df_train_price_H.shape[0] )\n",
    "#print('M:', df_train_price_M.shape[0] )\n",
    "#print('VM:', df_train_price_VM.shape[0] )\n",
    "#print('L:', df_train_price_L.shape[0] )\n",
    "#print('VL:', df_train_price_VL.shape[0] )\n",
    "#print('EL:', df_train_price_EL.shape[0] )"
   ]
  },
  {
   "cell_type": "code",
   "execution_count": 218,
   "metadata": {},
   "outputs": [],
   "source": [
    "mean_EH=df_train_price_EH['deal_probability'].mean()\n",
    "mean_VH=df_train_price_VH['deal_probability'].mean()\n",
    "mean_H=df_train_price_H['deal_probability'].mean()\n",
    "mean_M=df_train_price_M['deal_probability'].mean()\n",
    "mean_VM=df_train_price_VM['deal_probability'].mean()\n",
    "mean_L=df_train_price_L['deal_probability'].mean()\n",
    "mean_VL=df_train_price_VL['deal_probability'].mean()\n",
    "mean_EL=df_train_price_EL['deal_probability'].mean()\n",
    "\n",
    "#print('\\n',mean_EH,'\\n', mean_VH,'\\n', mean_H,'\\n', mean_M,'\\n', mean_VM,\n",
    "#      '\\n', mean_L,'\\n', mean_VL,'\\n', mean_EL)"
   ]
  },
  {
   "cell_type": "code",
   "execution_count": null,
   "metadata": {},
   "outputs": [],
   "source": []
  },
  {
   "cell_type": "code",
   "execution_count": 219,
   "metadata": {},
   "outputs": [],
   "source": [
    "def setPriceRangeProba(row):\n",
    "    proba=0.0\n",
    "    price=row['price']\n",
    "    if price>2.987259e+05:\n",
    "        proba=mean_EH\n",
    "    elif price>6000.0 and price<=2.987259e+05:\n",
    "        proba=mean_VH\n",
    "    elif price>1000 and price<=6000.0:\n",
    "        proba=mean_H\n",
    "    elif price>400 and price<=1000:\n",
    "        proba=mean_M\n",
    "    elif price>300 and price<=400:\n",
    "        proba=mean_VM\n",
    "    elif price>200 and price<=300:\n",
    "        proba=mean_L\n",
    "    elif price<100 and price<=200:\n",
    "        proba=mean_VL\n",
    "    elif price<=100:\n",
    "        proba=mean_EL\n",
    "    return proba"
   ]
  },
  {
   "cell_type": "code",
   "execution_count": 220,
   "metadata": {},
   "outputs": [],
   "source": [
    "#df_train['priceRangeProbability'] = df_train.apply(setPriceRangeProba, axis=1)\n",
    "#df_train[['price','priceRangeProbability']].head() para teste"
   ]
  },
  {
   "cell_type": "markdown",
   "metadata": {},
   "source": [
    "#Reputaçao do anunciante"
   ]
  },
  {
   "cell_type": "code",
   "execution_count": 221,
   "metadata": {},
   "outputs": [],
   "source": [
    "#df_train[['user_id']].describe()"
   ]
  },
  {
   "cell_type": "code",
   "execution_count": 222,
   "metadata": {},
   "outputs": [],
   "source": [
    "grp_user= df_train[['user_id','deal_probability']].groupby('user_id').mean()\n",
    "#grp_user.describe()"
   ]
  },
  {
   "cell_type": "code",
   "execution_count": 223,
   "metadata": {},
   "outputs": [],
   "source": [
    "#Colocamos os anunciantes(user_id) e suas probabilidades médias em um dicionário\n",
    "dic_user_proba={}\n",
    "\n",
    "for row in grp_user.itertuples():\n",
    "    #Formato ('user_id', deal_probability)\n",
    "    str1=str(row[0]) \n",
    "    #Remover parenteses\n",
    "    str2=str1.replace('(','')\n",
    "    str3=str2.replace(')','')\n",
    "    #Particionar em tokens separados por uma virgula: ,\n",
    "    str4=str3.split(',')\n",
    "    #Primeiro token é user_id\n",
    "    user_id=str4[0]\n",
    "    #Probabilidade é mais simples de extrair\n",
    "    dic_user_proba[user_id]=row.deal_probability\n"
   ]
  },
  {
   "cell_type": "code",
   "execution_count": 224,
   "metadata": {},
   "outputs": [],
   "source": [
    "#Retorna a probabilidade média do user\n",
    "def setUserProba(row):\n",
    "    key=str(row['user_id'])\n",
    "    #Se for o primeiro a anuncio do usuario: a probabilidade é 0.5\n",
    "    prob=0.0\n",
    "    if key in dic_user_proba.keys():\n",
    "        prob=dic_user_proba[key]\n",
    "    return prob"
   ]
  },
  {
   "cell_type": "markdown",
   "metadata": {},
   "source": [
    "### Features set up (apply function on DataFrame)\n",
    "> Pode configurar todos os apply uma única vez aqui para facilitar os testes. Alem de aplicao ao train e test ao mesmo tempo."
   ]
  },
  {
   "cell_type": "markdown",
   "metadata": {},
   "source": [
    "Histograma das probabilidades"
   ]
  },
  {
   "cell_type": "code",
   "execution_count": 225,
   "metadata": {},
   "outputs": [
    {
     "data": {
      "text/plain": [
       "<matplotlib.axes._subplots.AxesSubplot at 0xf513d7c2e8>"
      ]
     },
     "execution_count": 225,
     "metadata": {},
     "output_type": "execute_result"
    },
    {
     "data": {
      "image/png": "[encoded data removed]",
      "text/plain": [
       "<matplotlib.figure.Figure at 0xf513d759b0>"
      ]
     },
     "metadata": {},
     "output_type": "display_data"
    }
   ],
   "source": [
    "df_train['deal_probability'].hist()"
   ]
  },
  {
   "cell_type": "markdown",
   "metadata": {},
   "source": [
    "Categorizar as probabilidades"
   ]
  },
  {
   "cell_type": "code",
   "execution_count": 226,
   "metadata": {},
   "outputs": [
    {
     "name": "stdout",
     "output_type": "stream",
     "text": [
      "Qde de rows Qualidade P1..: 163045\n",
      "Qde de rows Qualidade P2..: 9799\n",
      "Qde de rows Qualidade P3..: 9169\n",
      "Qde de rows Qualidade P4..: 21969\n",
      "Qde de rows Qualidade P5..: 79001\n",
      "Qde de rows Qualidade P6..: 1220441\n"
     ]
    },
    {
     "data": {
      "text/plain": [
       "True"
      ]
     },
     "execution_count": 226,
     "metadata": {},
     "output_type": "execute_result"
    }
   ],
   "source": [
    "#Categorias\n",
    "df_train_P1=df_train.query(\"deal_probability>=0.70\") \n",
    "df_train_P2=df_train.query(\"deal_probability>=0.60 and deal_probability<0.70\")\n",
    "df_train_P3=df_train.query(\"deal_probability>=0.50 and deal_probability<0.60\") \n",
    "df_train_P4=df_train.query(\"deal_probability>=0.40 and deal_probability<0.50\") \n",
    "df_train_P5=df_train.query(\"deal_probability>=0.25 and deal_probability<0.4\") \n",
    "df_train_P6=df_train.query(\"deal_probability<0.25\") \n",
    "\n",
    "print('Qde de rows Qualidade P1..:', df_train_P1.shape[0])\n",
    "print('Qde de rows Qualidade P2..:', df_train_P2.shape[0])\n",
    "print('Qde de rows Qualidade P3..:', df_train_P3.shape[0])\n",
    "print('Qde de rows Qualidade P4..:', df_train_P4.shape[0])\n",
    "print('Qde de rows Qualidade P5..:', df_train_P5.shape[0])\n",
    "print('Qde de rows Qualidade P6..:', df_train_P6.shape[0])\n",
    "\n",
    "number_of_ads==df_train_P1.shape[0]+df_train_P2.shape[0]+df_train_P3.shape[0]\\\n",
    "            +df_train_P4.shape[0]+ df_train_P5.shape[0]+ df_train_P6.shape[0]"
   ]
  },
  {
   "cell_type": "code",
   "execution_count": 227,
   "metadata": {},
   "outputs": [
    {
     "name": "stdout",
     "output_type": "stream",
     "text": [
      "0.10844911349027286 - 0.006517788727597803 - 0.006098745264143715 - 0.014612644204163297 - 0.05254738516878805 - 0.8117743231450343\n"
     ]
    }
   ],
   "source": [
    "perc_P1=len(df_train_P1.index)/number_of_ads\n",
    "perc_P2=len(df_train_P2.index)/number_of_ads\n",
    "perc_P3=len(df_train_P3.index)/number_of_ads\n",
    "perc_P4=len(df_train_P4.index)/number_of_ads\n",
    "perc_P5=len(df_train_P5.index)/number_of_ads\n",
    "perc_P6=len(df_train_P6.index)/number_of_ads\n",
    "print(perc_P1, '-',perc_P2,'-', perc_P3,'-', perc_P4, '-',perc_P5, '-',perc_P6)"
   ]
  },
  {
   "cell_type": "markdown",
   "metadata": {},
   "source": [
    "Extraction of 60.000 rows for trains and 20000 for tests"
   ]
  },
  {
   "cell_type": "code",
   "execution_count": 228,
   "metadata": {
    "scrolled": true
   },
   "outputs": [
    {
     "name": "stdout",
     "output_type": "stream",
     "text": [
      "P1 size: 6506 - P2 size:  391 - P3 size :  365 - P4 size :  876 - P5 size :  3152 - P6 size :  48710\n"
     ]
    }
   ],
   "source": [
    "sample_size=60000\n",
    "train_sample_size=int(sample_size * 0.67)\n",
    "test_sample_size=sample_size-train_sample_size\n",
    "\n",
    "P1_sample_size=int(perc_P1*sample_size)\n",
    "P2_sample_size=int(perc_P2*sample_size)\n",
    "P3_sample_size=int(perc_P3*sample_size)\n",
    "P4_sample_size=int(perc_P4*sample_size)\n",
    "P5_sample_size=int(perc_P5*sample_size)\n",
    "P6_sample_size=sample_size-(P1_sample_size+P2_sample_size+P3_sample_size+P4_sample_size+P5_sample_size)\n",
    "print('P1 size:', P1_sample_size, '- P2 size: ', P2_sample_size, '- P3 size : ',P3_sample_size, \n",
    "      '- P4 size : ',P4_sample_size, '- P5 size : ',P5_sample_size, \n",
    "      '- P6 size : ', P6_sample_size)"
   ]
  },
  {
   "cell_type": "code",
   "execution_count": 229,
   "metadata": {},
   "outputs": [
    {
     "name": "stdout",
     "output_type": "stream",
     "text": [
      "P1:  (6506, 18) P2:  (391, 18)  P3: (365, 18)  P4: (876, 18)  P5: (3152, 18)  P6: (48710, 18)\n"
     ]
    }
   ],
   "source": [
    "#Extrair amostra de cada categoria\n",
    "df_P1=df_train_P1.sample(n=P1_sample_size, random_state=random.randint(1,P1_sample_size))\n",
    "df_P2=df_train_P2.sample(n=P2_sample_size, random_state=random.randint(1,P2_sample_size))\n",
    "df_P3=df_train_P3.sample(n=P3_sample_size, random_state=random.randint(1,P3_sample_size))\n",
    "df_P4=df_train_P4.sample(n=P4_sample_size, random_state=random.randint(1,P4_sample_size))\n",
    "df_P5=df_train_P5.sample(n=P5_sample_size, random_state=random.randint(1,P5_sample_size))\n",
    "df_P6=df_train_P6.sample(n=P6_sample_size, random_state=random.randint(1,P6_sample_size))\n",
    "print('P1: ', df_P1.shape, 'P2: ', df_P2.shape,' P3:', df_P3.shape,' P4:', df_P4.shape,\n",
    "      ' P5:', df_P5.shape, ' P6:', df_P6.shape)"
   ]
  },
  {
   "cell_type": "markdown",
   "metadata": {},
   "source": [
    "Unir os conjunto de anúncios em df"
   ]
  },
  {
   "cell_type": "code",
   "execution_count": 230,
   "metadata": {},
   "outputs": [
    {
     "name": "stdout",
     "output_type": "stream",
     "text": [
      "sample size and test size : (60000, 18)\n"
     ]
    }
   ],
   "source": [
    "#5 categorias\n",
    "df_sample=pd.concat([df_P1, df_P2, df_P3, df_P4, df_P5, df_P6], axis=0)\n",
    "print('sample size and test size :', df_sample.shape)"
   ]
  },
  {
   "cell_type": "markdown",
   "metadata": {},
   "source": [
    "#### Features extraction\n",
    "Only numeric data"
   ]
  },
  {
   "cell_type": "code",
   "execution_count": 231,
   "metadata": {},
   "outputs": [],
   "source": [
    "#Funções auxiliadora que se aplicam a qualquer caso: city,region etc\n",
    "def groupByEntityMeanAttr(entity, attribute='deal_probability'):\n",
    "    return df_train[[entity,attribute]].groupby(entity).mean()\n",
    "\n",
    "def getDictEntityMeanByGrp(grp_entity):\n",
    "    dic_entity_proba={}\n",
    "    for row in grp_entity.itertuples():\n",
    "        #Exemplo: Formato ('entity', deal_probability)\n",
    "        str1=str(row[0]) \n",
    "        #Remover parenteses\n",
    "        str2=str1.replace('(','')\n",
    "        str3=str2.replace(')','')\n",
    "        #Particionar em tokens separados por uma virgula: ,\n",
    "        str4=str3.split(',')\n",
    "        #Primeiro token é entity\n",
    "        entity=str4[0]\n",
    "        \n",
    "        #Probabilidade é mais simples de extrair\n",
    "        #dic_entity_proba[entity]=row.deal_probability\n",
    "        #Probabilidade é mais simples de extrair\n",
    "        attribute_value=row[1]\n",
    "        dic_entity_proba[entity]=attribute_value\n",
    "    return dic_entity_proba\n",
    "\n",
    "#Retorna a probabilidade média do user\n",
    "def setCityPrice(row,attribute):\n",
    "    key=str(row['city'])\n",
    "    meanPrice=0.0\n",
    "    if key in dic_city_meanPrice.keys():\n",
    "        meanPrice=dic_city_meanPrice[key]\n",
    "    return meanPrice\n",
    "\n",
    "def setCityProba(row):\n",
    "    #key=str(row['attribute'])\n",
    "    key=str(row['city'])\n",
    "    prob=0.0\n",
    "    if key in dic_city_meanPrice.keys():\n",
    "        prob=dic_city_meanPrice[key]\n",
    "    return prob\n",
    "\n",
    "def setEntityProba(row,entity='o', dic_entity=None):\n",
    "    key=str(row[entity])\n",
    "    prob=0.0\n",
    "    if key in dic_entity.keys():\n",
    "        prob=dic_entity[key]\n",
    "    return prob\n",
    "\n",
    "def setEntityPrice(row,entity='o', dic_entity=None):\n",
    "    key=str(row[entity])\n",
    "    price=0.0\n",
    "    if key in dic_entity.keys():\n",
    "        price=dic_entity[key]\n",
    "    return price\n",
    "\n",
    "def setEntityCondProba(row,entity_1=None, entity_2=None):\n",
    "    return row[entity_1]*row[entity_2]"
   ]
  },
  {
   "cell_type": "code",
   "execution_count": 232,
   "metadata": {},
   "outputs": [],
   "source": [
    "#Testes\n",
    "grp_city_meanPrice=groupByEntityMeanAttr('city', attribute='price')\n",
    "dic_city_meanPrice=getDictEntityMeanByGrp(grp_city_meanPrice)\n",
    "#grp_city_MeanPrice.describe()\n",
    "\n",
    "grp_city_meanProba=groupByEntityMeanAttr('city')\n",
    "dic_city_meanProba=getDictEntityMeanByGrp(grp_city_meanProba)\n",
    "#grp_city_MeanProba.describe()\n",
    "\n",
    "\n",
    "grp_region_meanProba=groupByEntityMeanAttr('region')\n",
    "dic_region_meanProba=getDictEntityMeanByGrp(grp_region_meanProba)\n",
    "#grp_region_MeanPrice.describe()\n",
    "\n",
    "grp_prtCategory_meanProba=groupByEntityMeanAttr('parent_category_name')\n",
    "dic_prtCategory_meanProba=getDictEntityMeanByGrp(grp_prtCategory_meanProba)\n",
    "#grp_prtCategory_MeanProba.describe()"
   ]
  },
  {
   "cell_type": "code",
   "execution_count": 233,
   "metadata": {},
   "outputs": [],
   "source": [
    "#For train\n",
    "df_sample['category_prob']=df_sample.apply(setCategoryProb, axis=1)\n",
    "df_sample['user_type_freq']=df_sample.apply(setUserTypeProp, axis=1)\n",
    "df_sample['user_type_prob']=df_sample.apply(setUserTypeProb, axis=1)\n",
    "\n",
    "df_sample['user_type_condProb']=df_sample.apply(setEntityCondProba,  entity_1='user_type_freq',\\\n",
    "                                                entity_2='user_type_prob',axis=1)\n",
    "\n",
    "df_sample['priceRangeProbability'] = df_sample.apply(setPriceRangeProba, axis=1)\n",
    "\n",
    "df_sample['city_probability'] = df_sample.apply(setEntityProba, entity='city', \n",
    "                                              dic_entity=dic_city_meanProba, axis=1)\n",
    "\n",
    "df_sample['city_price'] = df_sample.apply(setEntityPrice, entity='city', \n",
    "                                              dic_entity=dic_city_meanPrice, axis=1)\n",
    "\n",
    "df_sample['region_probability'] = df_sample.apply(setEntityProba, entity='region', \n",
    "                                              dic_entity=dic_region_meanProba, axis=1)\n",
    "\n",
    "df_sample['prt_category_probability'] = df_sample.apply(setEntityProba, entity='parent_category_name', \n",
    "                                              dic_entity=dic_prtCategory_meanProba, axis=1)"
   ]
  },
  {
   "cell_type": "code",
   "execution_count": 234,
   "metadata": {},
   "outputs": [],
   "source": [
    "#For Submission\n",
    "df_test['category_prob']=df_test.apply(setCategoryProb, axis=1)\n",
    "df_test['user_type_freq']=df_test.apply(setUserTypeProp, axis=1)\n",
    "df_test['user_type_prob']=df_test.apply(setUserTypeProb, axis=1)\n",
    "df_test['user_type_condProb']=df_test.apply(setEntityCondProba,  entity_1='user_type_freq',\\\n",
    "                                                entity_2='user_type_prob',axis=1)\n",
    "\n",
    "df_test['priceRangeProbability'] = df_test.apply(setPriceRangeProba, axis=1)\n",
    "\n",
    "\n",
    "df_test['city_probability'] = df_test.apply(setEntityProba, entity='city', \n",
    "                                              dic_entity=dic_city_meanProba, axis=1)\n",
    "df_test['city_price'] = df_test.apply(setEntityPrice, entity='city', \n",
    "                                              dic_entity=dic_city_meanPrice, axis=1)\n",
    "\n",
    "df_test['region_probability'] = df_test.apply(setEntityProba, entity='region', \n",
    "                                              dic_entity=dic_region_meanProba, axis=1)\n",
    "\n",
    "df_test['prt_category_probability'] = df_test.apply(setEntityProba, entity='parent_category_name', \n",
    "                                              dic_entity=dic_prtCategory_meanProba, axis=1)\n"
   ]
  },
  {
   "cell_type": "code",
   "execution_count": 235,
   "metadata": {},
   "outputs": [
    {
     "data": {
      "text/html": [
       "<div>\n",
       "<style scoped>\n",
       "    .dataframe tbody tr th:only-of-type {\n",
       "        vertical-align: middle;\n",
       "    }\n",
       "\n",
       "    .dataframe tbody tr th {\n",
       "        vertical-align: top;\n",
       "    }\n",
       "\n",
       "    .dataframe thead th {\n",
       "        text-align: right;\n",
       "    }\n",
       "</style>\n",
       "<table border=\"1\" class=\"dataframe\">\n",
       "  <thead>\n",
       "    <tr style=\"text-align: right;\">\n",
       "      <th></th>\n",
       "      <th>user_type_freq</th>\n",
       "      <th>user_type_prob</th>\n",
       "      <th>user_type_condProb</th>\n",
       "      <th>category_prob</th>\n",
       "      <th>priceRangeProbability</th>\n",
       "      <th>price</th>\n",
       "      <th>city_price</th>\n",
       "      <th>city_probability</th>\n",
       "      <th>region_probability</th>\n",
       "      <th>deal_probability</th>\n",
       "    </tr>\n",
       "  </thead>\n",
       "  <tbody>\n",
       "    <tr>\n",
       "      <th>1294223</th>\n",
       "      <td>0.715504</td>\n",
       "      <td>0.149557</td>\n",
       "      <td>0.107009</td>\n",
       "      <td>0.403123</td>\n",
       "      <td>0.197847</td>\n",
       "      <td>0.0</td>\n",
       "      <td>213772.260071</td>\n",
       "      <td>0.158694</td>\n",
       "      <td>0.124193</td>\n",
       "      <td>0.80000</td>\n",
       "    </tr>\n",
       "    <tr>\n",
       "      <th>581771</th>\n",
       "      <td>0.715504</td>\n",
       "      <td>0.149557</td>\n",
       "      <td>0.107009</td>\n",
       "      <td>0.000000</td>\n",
       "      <td>0.154089</td>\n",
       "      <td>3800.0</td>\n",
       "      <td>237922.073887</td>\n",
       "      <td>0.139400</td>\n",
       "      <td>0.136721</td>\n",
       "      <td>0.80323</td>\n",
       "    </tr>\n",
       "  </tbody>\n",
       "</table>\n",
       "</div>"
      ],
      "text/plain": [
       "         user_type_freq  user_type_prob  user_type_condProb  category_prob  \\\n",
       "1294223        0.715504        0.149557            0.107009       0.403123   \n",
       "581771         0.715504        0.149557            0.107009       0.000000   \n",
       "\n",
       "         priceRangeProbability   price     city_price  city_probability  \\\n",
       "1294223               0.197847     0.0  213772.260071          0.158694   \n",
       "581771                0.154089  3800.0  237922.073887          0.139400   \n",
       "\n",
       "         region_probability  deal_probability  \n",
       "1294223            0.124193           0.80000  \n",
       "581771             0.136721           0.80323  "
      ]
     },
     "execution_count": 235,
     "metadata": {},
     "output_type": "execute_result"
    }
   ],
   "source": [
    "#Teste\n",
    "\n",
    "df_sample[['user_type_freq', 'user_type_prob', 'user_type_condProb', 'category_prob', \n",
    "           'priceRangeProbability','price','city_price','city_probability','region_probability',\n",
    "           'prt_category_probability', 'deal_probability']].head(2)\n"
   ]
  },
  {
   "cell_type": "code",
   "execution_count": 236,
   "metadata": {},
   "outputs": [
    {
     "name": "stdout",
     "output_type": "stream",
     "text": [
      "(60000, 7) (508438, 7)\n"
     ]
    }
   ],
   "source": [
    "#USO DE TODAS AS FEATURES\n",
    "\"\"\"\n",
    "X=df_sample[['user_type_freq', 'user_type_prob', 'user_type_condProb','category_prob','user_type_condProb', 'price', 'city_price',\n",
    "             'priceRangeProbability','city_probability','region_probability',\n",
    "             'prt_category_probability']].values\n",
    "#para submission\n",
    "X_submission=df_test[['user_type_freq', 'user_type_prob', 'user_type_condProb','category_prob', 'price', \n",
    "             'priceRangeProbability','city_probability','region_probability',\n",
    "                      'prt_category_probability']].values\n",
    "\"\"\"\n",
    "#USO DE ALGUMAS FEATURES\n",
    "##7features\n",
    "X=df_sample[['user_type_condProb', 'category_prob', 'price', 'city_price',\n",
    "             'priceRangeProbability','city_probability','region_probability'\\\n",
    "            ]].values\n",
    "#para submission\n",
    "X_submission=df_test[['user_type_condProb', 'category_prob', 'price', 'city_price',\n",
    "             'priceRangeProbability','city_probability','region_probability'\\\n",
    "                    ]].values\n",
    "\n",
    "print(X.shape,X_submission.shape)"
   ]
  },
  {
   "cell_type": "code",
   "execution_count": 237,
   "metadata": {},
   "outputs": [
    {
     "data": {
      "text/plain": [
       "(60000,)"
      ]
     },
     "execution_count": 237,
     "metadata": {},
     "output_type": "execute_result"
    }
   ],
   "source": [
    "y=df_sample['deal_probability'].values \n",
    "y.shape"
   ]
  },
  {
   "cell_type": "markdown",
   "metadata": {},
   "source": [
    "Extraimos parte das features e target para o treinamento. E outra parte para os testes"
   ]
  },
  {
   "cell_type": "code",
   "execution_count": 238,
   "metadata": {},
   "outputs": [],
   "source": [
    "#Embaralhar, antes de selecionar\n",
    "seed_=random.randint(1,sample_size)\n",
    "np.random.seed(seed_)\n",
    "np.random.shuffle(X)\n",
    "\n",
    "np.random.seed(seed_)\n",
    "np.random.shuffle(y)\n",
    "\n",
    "n=train_sample_size \n",
    "#features and targets for trains\n",
    "X_train=X[:n]\n",
    "y_train=y[:n]\n",
    "#features and targets for tests\n",
    "X_test=X[n:]\n",
    "y_test=y[n:]"
   ]
  },
  {
   "cell_type": "code",
   "execution_count": 239,
   "metadata": {},
   "outputs": [
    {
     "data": {
      "text/plain": [
       "569"
      ]
     },
     "execution_count": 239,
     "metadata": {},
     "output_type": "execute_result"
    }
   ],
   "source": [
    "#Liberar memoria\n",
    "del dic_user_proba, dic_categories, company_mean_grp\n",
    "del grp_city_meanProba, grp_city_meanPrice, grp_region_meanProba, grp_prtCategory_meanProba\n",
    "del dic_city_meanProba, dic_city_meanPrice, dic_region_meanProba, dic_prtCategory_meanProba\n",
    "gc.collect()"
   ]
  },
  {
   "cell_type": "code",
   "execution_count": 240,
   "metadata": {},
   "outputs": [
    {
     "data": {
      "text/plain": [
       "0"
      ]
     },
     "execution_count": 240,
     "metadata": {},
     "output_type": "execute_result"
    }
   ],
   "source": [
    "#del df_train_P1, df_train_P2, df_train_P3, df_train_P4, df_train_P5\n",
    "del perc_P1, perc_P2, perc_P3, perc_P4, perc_P5\n",
    "del df_P1,df_P2, df_P3,df_P4, df_P5 \n",
    "del perc_P6, df_P6\n",
    "gc.collect()"
   ]
  },
  {
   "cell_type": "markdown",
   "metadata": {},
   "source": [
    "### 1. Previsão usando regressão com SVR"
   ]
  },
  {
   "cell_type": "code",
   "execution_count": 241,
   "metadata": {},
   "outputs": [
    {
     "data": {
      "text/plain": [
       "0"
      ]
     },
     "execution_count": 241,
     "metadata": {},
     "output_type": "execute_result"
    }
   ],
   "source": [
    "gc.collect()"
   ]
  },
  {
   "cell_type": "code",
   "execution_count": 242,
   "metadata": {},
   "outputs": [
    {
     "data": {
      "text/plain": [
       "LinearRegression(copy_X=True, fit_intercept=True, n_jobs=1, normalize=False)"
      ]
     },
     "execution_count": 242,
     "metadata": {},
     "output_type": "execute_result"
    }
   ],
   "source": [
    "#Instanciar e treinar\n",
    "clf=None\n",
    "#clf = joblib.load('lregV06_7feats_26_01.pkl') \n",
    "clf = LinearRegression()\n",
    "clf.fit(X_train, y_train)"
   ]
  },
  {
   "cell_type": "code",
   "execution_count": 243,
   "metadata": {},
   "outputs": [
    {
     "name": "stdout",
     "output_type": "stream",
     "text": [
      "y_hat........: [0.0550291  0.2092595  0.34469688 0.08275404 0.36580469]\n",
      "y_test.......: [0.12579 0.      0.2     0.      0.     ]\n"
     ]
    }
   ],
   "source": [
    "#prever\n",
    "y_hat=clf.predict(X_test)\n",
    "print('y_hat........:', y_hat[:5])\n",
    "print('y_test.......:',y_test[:5])"
   ]
  },
  {
   "cell_type": "markdown",
   "metadata": {},
   "source": [
    "Vamos calcular o erro da previsão com variancia e desvio padrão."
   ]
  },
  {
   "cell_type": "code",
   "execution_count": 244,
   "metadata": {},
   "outputs": [],
   "source": [
    "#Função auxiliar usada para avaliar as técnicas\n",
    "#Calcular a variancia de qualquer probalidade estimada\n",
    "def setVariance(row):\n",
    "    \"\"\"\n",
    "    Entrada:\n",
    "        row:tupla de dataframe\n",
    "    Saída:\n",
    "        variancia:float\n",
    "    \"\"\"\n",
    "    return (row['predicted_deal_probality']-row['expected_deal_probality'])**2"
   ]
  },
  {
   "cell_type": "markdown",
   "metadata": {},
   "source": [
    "* Criar dataframe com as demandas/probabilidades previstas e as estimadas pelo classificador\n",
    "* Aplicar a função em cada tupla para obter a variancia da probabilidade estimada.\n",
    "* calcular a variancia e desvio padrão considerando a media da amostra. \n",
    "* Desvio está baixo?"
   ]
  },
  {
   "cell_type": "code",
   "execution_count": 245,
   "metadata": {},
   "outputs": [
    {
     "name": "stdout",
     "output_type": "stream",
     "text": [
      "Desvio baixo?  desvio    0.241638\n",
      "dtype: float64\n"
     ]
    },
    {
     "data": {
      "text/html": [
       "<div>\n",
       "<style scoped>\n",
       "    .dataframe tbody tr th:only-of-type {\n",
       "        vertical-align: middle;\n",
       "    }\n",
       "\n",
       "    .dataframe tbody tr th {\n",
       "        vertical-align: top;\n",
       "    }\n",
       "\n",
       "    .dataframe thead th {\n",
       "        text-align: right;\n",
       "    }\n",
       "</style>\n",
       "<table border=\"1\" class=\"dataframe\">\n",
       "  <thead>\n",
       "    <tr style=\"text-align: right;\">\n",
       "      <th></th>\n",
       "      <th>expected_deal_probality</th>\n",
       "      <th>predicted_deal_probality</th>\n",
       "      <th>desvio</th>\n",
       "    </tr>\n",
       "  </thead>\n",
       "  <tbody>\n",
       "    <tr>\n",
       "      <th>0</th>\n",
       "      <td>0.12579</td>\n",
       "      <td>0.055029</td>\n",
       "      <td>0.005007</td>\n",
       "    </tr>\n",
       "    <tr>\n",
       "      <th>1</th>\n",
       "      <td>0.00000</td>\n",
       "      <td>0.209259</td>\n",
       "      <td>0.043790</td>\n",
       "    </tr>\n",
       "    <tr>\n",
       "      <th>2</th>\n",
       "      <td>0.20000</td>\n",
       "      <td>0.344697</td>\n",
       "      <td>0.020937</td>\n",
       "    </tr>\n",
       "    <tr>\n",
       "      <th>3</th>\n",
       "      <td>0.00000</td>\n",
       "      <td>0.082754</td>\n",
       "      <td>0.006848</td>\n",
       "    </tr>\n",
       "    <tr>\n",
       "      <th>4</th>\n",
       "      <td>0.00000</td>\n",
       "      <td>0.365805</td>\n",
       "      <td>0.133813</td>\n",
       "    </tr>\n",
       "  </tbody>\n",
       "</table>\n",
       "</div>"
      ],
      "text/plain": [
       "   expected_deal_probality  predicted_deal_probality    desvio\n",
       "0                  0.12579                  0.055029  0.005007\n",
       "1                  0.00000                  0.209259  0.043790\n",
       "2                  0.20000                  0.344697  0.020937\n",
       "3                  0.00000                  0.082754  0.006848\n",
       "4                  0.00000                  0.365805  0.133813"
      ]
     },
     "execution_count": 245,
     "metadata": {},
     "output_type": "execute_result"
    }
   ],
   "source": [
    "#AVALIAR\n",
    "df_proba = pd.DataFrame({'expected_deal_probality': y_test,\n",
    "                         'predicted_deal_probality': y_hat})\n",
    "#Cria-se uma nova coluna no df\n",
    "df_proba['desvio'] = df_proba.apply(setVariance, axis=1)\n",
    "std=np.sqrt(df_proba[['desvio']].sum()/len(df_proba.index))\n",
    "print('Desvio baixo? ', std)\n",
    "df_proba.head()"
   ]
  },
  {
   "cell_type": "code",
   "execution_count": 246,
   "metadata": {},
   "outputs": [],
   "source": [
    "#Limpar a memoria do treino"
   ]
  },
  {
   "cell_type": "code",
   "execution_count": null,
   "metadata": {},
   "outputs": [],
   "source": []
  },
  {
   "cell_type": "markdown",
   "metadata": {},
   "source": [
    "### Prever com base em teste (df_test)"
   ]
  },
  {
   "cell_type": "code",
   "execution_count": 247,
   "metadata": {},
   "outputs": [],
   "source": [
    "# A extração das features das submissions foi feita no mesmo tempo das do treino"
   ]
  },
  {
   "cell_type": "code",
   "execution_count": 248,
   "metadata": {},
   "outputs": [
    {
     "name": "stdout",
     "output_type": "stream",
     "text": [
      "(508438, 7)\n"
     ]
    }
   ],
   "source": [
    "#Verificar o tamanho matriz\n",
    "print(X_submission.shape)"
   ]
  },
  {
   "cell_type": "code",
   "execution_count": 249,
   "metadata": {},
   "outputs": [
    {
     "name": "stdout",
     "output_type": "stream",
     "text": [
      "(508438,)\n"
     ]
    }
   ],
   "source": [
    "#Prever as probabilidades\n",
    "y_submission=clf.predict(X_submission)\n",
    "print(y_submission.shape)"
   ]
  },
  {
   "cell_type": "code",
   "execution_count": 250,
   "metadata": {},
   "outputs": [
    {
     "data": {
      "text/plain": [
       "508438"
      ]
     },
     "execution_count": 250,
     "metadata": {},
     "output_type": "execute_result"
    }
   ],
   "source": [
    "#Pode haver valores fora do dominio: probabilidade<0.0 ou > 1.0\n",
    "\n",
    "y_list=list(y_submission)\n",
    "y_list2=[]\n",
    "\n",
    "for i in range(0,len(y_list)):\n",
    "    proba=y_list[i]\n",
    "    if proba<0.0:\n",
    "        y_list2.append(0.0)\n",
    "    elif proba>1.0:\n",
    "        y_list2.append(1.0)\n",
    "    else:\n",
    "        y_list2.append(proba)\n",
    "#Novo array de y\n",
    "y_submission_=np.array(y_list2)\n",
    "len(y_submission_)"
   ]
  },
  {
   "cell_type": "code",
   "execution_count": 251,
   "metadata": {},
   "outputs": [
    {
     "data": {
      "text/html": [
       "<div>\n",
       "<style scoped>\n",
       "    .dataframe tbody tr th:only-of-type {\n",
       "        vertical-align: middle;\n",
       "    }\n",
       "\n",
       "    .dataframe tbody tr th {\n",
       "        vertical-align: top;\n",
       "    }\n",
       "\n",
       "    .dataframe thead th {\n",
       "        text-align: right;\n",
       "    }\n",
       "</style>\n",
       "<table border=\"1\" class=\"dataframe\">\n",
       "  <thead>\n",
       "    <tr style=\"text-align: right;\">\n",
       "      <th></th>\n",
       "      <th>deal_probability</th>\n",
       "    </tr>\n",
       "    <tr>\n",
       "      <th>item_id</th>\n",
       "      <th></th>\n",
       "    </tr>\n",
       "  </thead>\n",
       "  <tbody>\n",
       "    <tr>\n",
       "      <th>6544e41a8817</th>\n",
       "      <td>0.109296</td>\n",
       "    </tr>\n",
       "    <tr>\n",
       "      <th>65b9484d670f</th>\n",
       "      <td>0.239742</td>\n",
       "    </tr>\n",
       "    <tr>\n",
       "      <th>8bab230b2ecd</th>\n",
       "      <td>0.192901</td>\n",
       "    </tr>\n",
       "    <tr>\n",
       "      <th>8e348601fefc</th>\n",
       "      <td>0.264271</td>\n",
       "    </tr>\n",
       "    <tr>\n",
       "      <th>8bd2fe400b89</th>\n",
       "      <td>0.253230</td>\n",
       "    </tr>\n",
       "  </tbody>\n",
       "</table>\n",
       "</div>"
      ],
      "text/plain": [
       "              deal_probability\n",
       "item_id                       \n",
       "6544e41a8817          0.109296\n",
       "65b9484d670f          0.239742\n",
       "8bab230b2ecd          0.192901\n",
       "8e348601fefc          0.264271\n",
       "8bd2fe400b89          0.253230"
      ]
     },
     "execution_count": 251,
     "metadata": {},
     "output_type": "execute_result"
    }
   ],
   "source": [
    "df_submission= pd.DataFrame(\n",
    "    {'deal_probability': y_submission_}, \n",
    "    index=df_test['item_id'])\n",
    "#sub_7feat_26_alg2V06_2 Teve desvio de 0,2416\n",
    "df_submission.to_csv('sub_7feat_26_alg2V06_2.csv')\n",
    "df_submission.head()"
   ]
  },
  {
   "cell_type": "code",
   "execution_count": 46,
   "metadata": {},
   "outputs": [
    {
     "data": {
      "text/plain": [
       "array([[<matplotlib.axes._subplots.AxesSubplot object at 0x000000F49A41B4A8>]],\n",
       "      dtype=object)"
      ]
     },
     "execution_count": 46,
     "metadata": {},
     "output_type": "execute_result"
    },
    {
     "data": {
      "image/png": "[encoded data removed]",
      "text/plain": [
       "<matplotlib.figure.Figure at 0xf516293278>"
      ]
     },
     "metadata": {},
     "output_type": "display_data"
    }
   ],
   "source": [
    "df_submission.hist()"
   ]
  },
  {
   "cell_type": "code",
   "execution_count": 47,
   "metadata": {},
   "outputs": [
    {
     "data": {
      "text/plain": [
       "<matplotlib.axes._subplots.AxesSubplot at 0xf516293ef0>"
      ]
     },
     "execution_count": 47,
     "metadata": {},
     "output_type": "execute_result"
    },
    {
     "data": {
      "image/png": "[encoded data removed]",
      "text/plain": [
       "<matplotlib.figure.Figure at 0xf5162cfcc0>"
      ]
     },
     "metadata": {},
     "output_type": "display_data"
    }
   ],
   "source": [
    "df_train['deal_probability'].hist()"
   ]
  },
  {
   "cell_type": "code",
   "execution_count": 49,
   "metadata": {},
   "outputs": [
    {
     "data": {
      "text/html": [
       "<div>\n",
       "<style scoped>\n",
       "    .dataframe tbody tr th:only-of-type {\n",
       "        vertical-align: middle;\n",
       "    }\n",
       "\n",
       "    .dataframe tbody tr th {\n",
       "        vertical-align: top;\n",
       "    }\n",
       "\n",
       "    .dataframe thead th {\n",
       "        text-align: right;\n",
       "    }\n",
       "</style>\n",
       "<table border=\"1\" class=\"dataframe\">\n",
       "  <thead>\n",
       "    <tr style=\"text-align: right;\">\n",
       "      <th></th>\n",
       "      <th>deal_probability</th>\n",
       "    </tr>\n",
       "  </thead>\n",
       "  <tbody>\n",
       "    <tr>\n",
       "      <th>count</th>\n",
       "      <td>508438.000000</td>\n",
       "    </tr>\n",
       "    <tr>\n",
       "      <th>mean</th>\n",
       "      <td>0.145158</td>\n",
       "    </tr>\n",
       "    <tr>\n",
       "      <th>std</th>\n",
       "      <td>0.091864</td>\n",
       "    </tr>\n",
       "    <tr>\n",
       "      <th>min</th>\n",
       "      <td>0.000000</td>\n",
       "    </tr>\n",
       "    <tr>\n",
       "      <th>25%</th>\n",
       "      <td>0.071373</td>\n",
       "    </tr>\n",
       "    <tr>\n",
       "      <th>50%</th>\n",
       "      <td>0.132456</td>\n",
       "    </tr>\n",
       "    <tr>\n",
       "      <th>75%</th>\n",
       "      <td>0.206156</td>\n",
       "    </tr>\n",
       "    <tr>\n",
       "      <th>max</th>\n",
       "      <td>0.679359</td>\n",
       "    </tr>\n",
       "  </tbody>\n",
       "</table>\n",
       "</div>"
      ],
      "text/plain": [
       "       deal_probability\n",
       "count     508438.000000\n",
       "mean           0.145158\n",
       "std            0.091864\n",
       "min            0.000000\n",
       "25%            0.071373\n",
       "50%            0.132456\n",
       "75%            0.206156\n",
       "max            0.679359"
      ]
     },
     "execution_count": 49,
     "metadata": {},
     "output_type": "execute_result"
    }
   ],
   "source": [
    "df_submission.describe()"
   ]
  },
  {
   "cell_type": "code",
   "execution_count": 50,
   "metadata": {},
   "outputs": [
    {
     "data": {
      "text/html": [
       "<div>\n",
       "<style scoped>\n",
       "    .dataframe tbody tr th:only-of-type {\n",
       "        vertical-align: middle;\n",
       "    }\n",
       "\n",
       "    .dataframe tbody tr th {\n",
       "        vertical-align: top;\n",
       "    }\n",
       "\n",
       "    .dataframe thead th {\n",
       "        text-align: right;\n",
       "    }\n",
       "</style>\n",
       "<table border=\"1\" class=\"dataframe\">\n",
       "  <thead>\n",
       "    <tr style=\"text-align: right;\">\n",
       "      <th></th>\n",
       "      <th>deal_probability</th>\n",
       "    </tr>\n",
       "  </thead>\n",
       "  <tbody>\n",
       "    <tr>\n",
       "      <th>count</th>\n",
       "      <td>1.503424e+06</td>\n",
       "    </tr>\n",
       "    <tr>\n",
       "      <th>mean</th>\n",
       "      <td>1.391306e-01</td>\n",
       "    </tr>\n",
       "    <tr>\n",
       "      <th>std</th>\n",
       "      <td>2.600785e-01</td>\n",
       "    </tr>\n",
       "    <tr>\n",
       "      <th>min</th>\n",
       "      <td>0.000000e+00</td>\n",
       "    </tr>\n",
       "    <tr>\n",
       "      <th>25%</th>\n",
       "      <td>0.000000e+00</td>\n",
       "    </tr>\n",
       "    <tr>\n",
       "      <th>50%</th>\n",
       "      <td>0.000000e+00</td>\n",
       "    </tr>\n",
       "    <tr>\n",
       "      <th>75%</th>\n",
       "      <td>1.508700e-01</td>\n",
       "    </tr>\n",
       "    <tr>\n",
       "      <th>max</th>\n",
       "      <td>1.000000e+00</td>\n",
       "    </tr>\n",
       "  </tbody>\n",
       "</table>\n",
       "</div>"
      ],
      "text/plain": [
       "       deal_probability\n",
       "count      1.503424e+06\n",
       "mean       1.391306e-01\n",
       "std        2.600785e-01\n",
       "min        0.000000e+00\n",
       "25%        0.000000e+00\n",
       "50%        0.000000e+00\n",
       "75%        1.508700e-01\n",
       "max        1.000000e+00"
      ]
     },
     "execution_count": 50,
     "metadata": {},
     "output_type": "execute_result"
    }
   ],
   "source": [
    "train=df_train[['deal_probability']]\n",
    "train.describe()"
   ]
  },
  {
   "cell_type": "code",
   "execution_count": 51,
   "metadata": {},
   "outputs": [
    {
     "data": {
      "text/plain": [
       "['lregV06_7feats_26_01.pkl']"
      ]
     },
     "execution_count": 51,
     "metadata": {},
     "output_type": "execute_result"
    }
   ],
   "source": [
    "joblib.dump(clf, 'lregV06_7feats_26_01.pkl')\n",
    "#clf_loaded = joblib.load('svr05_26_13h42.pkl') "
   ]
  },
  {
   "cell_type": "code",
   "execution_count": 56,
   "metadata": {},
   "outputs": [],
   "source": [
    "#import pickle\n",
    "#s = pickle.dumps(clf)\n",
    "#clf2 = pickle.loads(s) "
   ]
  },
  {
   "cell_type": "code",
   "execution_count": 57,
   "metadata": {},
   "outputs": [
    {
     "data": {
      "text/plain": [
       "60000"
      ]
     },
     "execution_count": 57,
     "metadata": {},
     "output_type": "execute_result"
    }
   ],
   "source": [
    "X.shape[0]"
   ]
  },
  {
   "cell_type": "code",
   "execution_count": 59,
   "metadata": {},
   "outputs": [
    {
     "data": {
      "text/plain": [
       "1503424"
      ]
     },
     "execution_count": 59,
     "metadata": {},
     "output_type": "execute_result"
    }
   ],
   "source": [
    "df_train.shape[0]"
   ]
  },
  {
   "cell_type": "code",
   "execution_count": null,
   "metadata": {},
   "outputs": [],
   "source": []
  },
  {
   "cell_type": "code",
   "execution_count": null,
   "metadata": {},
   "outputs": [],
   "source": []
  },
  {
   "cell_type": "code",
   "execution_count": null,
   "metadata": {},
   "outputs": [],
   "source": [
    "y_hat_encoded.shape"
   ]
  },
  {
   "cell_type": "code",
   "execution_count": 97,
   "metadata": {},
   "outputs": [],
   "source": [
    "def predict(X_, clf_ ):\n",
    "    #print(df.head())\n",
    "    #print(X_)\n",
    "    return clf_.predict(X_)\n",
    "    \n",
    "def performPrediction(X_submission_,clf_, number=25000):\n",
    "    X_submission_list=[]\n",
    "    min=0\n",
    "    max=number\n",
    "    add=number\n",
    "    \n",
    "    for i in range(0,20):\n",
    "        X_submission_list.append(X_submission_[min:max])\n",
    "        #print('min=',min,'max=', max)\n",
    "        min+=add\n",
    "        max+=add\n",
    "        \n",
    "    \n",
    "    max=X_submission_.shape[0]\n",
    "    #print(min, max)\n",
    "    if min!=max:\n",
    "        X_submission_list.append(X_submission_[min:])\n",
    "        \n",
    "    #print(len(X_submission_list))\n",
    "    \n",
    "    y_hat_encoded_parts=[]\n",
    "    for i in range(0,len(X_submission_list)):\n",
    "        y_hat_encoded_parts.append(pd.Series(predict(X_submission_list[i],clf_)))\n",
    "    \n",
    "    y_hat_encoded=pd.concat((y_hat_encoded_parts[0],y_hat_encoded_parts[1],y_hat_encoded_parts[2],\\\n",
    "                        y_hat_encoded_parts[3],y_hat_encoded_parts[4],y_hat_encoded_parts[5],\\\n",
    "                        y_hat_encoded_parts[6],y_hat_encoded_parts[7],y_hat_encoded_parts[8],\\\n",
    "                        y_hat_encoded_parts[9],y_hat_encoded_parts[10],y_hat_encoded_parts[11],\\\n",
    "                        y_hat_encoded_parts[12],y_hat_encoded_parts[13],y_hat_encoded_parts[14],\\\n",
    "                        y_hat_encoded_parts[15],y_hat_encoded_parts[16],y_hat_encoded_parts[17],\\\n",
    "                        y_hat_encoded_parts[18],y_hat_encoded_parts[19],y_hat_encoded_parts[20],\\\n",
    "                             ),axis=0)\n",
    "    return y_hat_encoded.values"
   ]
  },
  {
   "cell_type": "code",
   "execution_count": 45,
   "metadata": {},
   "outputs": [
    {
     "data": {
      "text/plain": [
       "SVR(C=1.0, cache_size=200, coef0=0.0, degree=3, epsilon=0.1, gamma='auto',\n",
       "  kernel='rbf', max_iter=-1, shrinking=True, tol=0.001, verbose=False)"
      ]
     },
     "execution_count": 45,
     "metadata": {},
     "output_type": "execute_result"
    }
   ],
   "source": [
    "#clf_loaded = joblib.load('svr05_26_13h42.pkl')\n",
    "clf_loaded"
   ]
  },
  {
   "cell_type": "code",
   "execution_count": 98,
   "metadata": {},
   "outputs": [],
   "source": [
    "y_=performPrediction(X_test,clf_loaded, number=600)"
   ]
  },
  {
   "cell_type": "code",
   "execution_count": null,
   "metadata": {},
   "outputs": [],
   "source": []
  }
 ],
 "metadata": {
  "kernelspec": {
   "display_name": "Python 3",
   "language": "python",
   "name": "python3"
  },
  "language_info": {
   "codemirror_mode": {
    "name": "ipython",
    "version": 3
   },
   "file_extension": ".py",
   "mimetype": "text/x-python",
   "name": "python",
   "nbconvert_exporter": "python",
   "pygments_lexer": "ipython3",
   "version": "3.6.4"
  }
 },
 "nbformat": 4,
 "nbformat_minor": 2
}
