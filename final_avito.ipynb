{
 "cells": [
  {
   "cell_type": "markdown",
   "metadata": {
    "colab_type": "text",
    "id": "ycYx9uJE05uK"
   },
   "source": [
    "# Avito Demand Prediction Challenge\n",
    "\n",
    "## Equipe:\n",
    "* Catherine dos Santos Tostes - Aluna de Mestrado PPGI\n",
    "* Felipe Arruda Pontes -  Ouvinte de Mestrado PPGI\n",
    "* Jean Gabriel N. Nguema -  Aluno de Mestrado PPGI\n",
    "\n",
    "No ramo do comércio eletrônico, a venda de produtos através de anúncios classificados em sites conhece um crescimento rápido. No entanto, é comum que anunciantes, indivíduos ou empresas, se frustrem com uma demanda fraca ou inexistente por seus produtos apesar do investimento em propaganda no caso de anunciantes empresariais. Por outro lado, uma demanda alta e persistente por produtos já vendidos causa frustração do anunciante por indicar a venda por um preço a abaixo do preço do mercado. A venda efetiva dos produtos nos sites classificados depende de uma combinação de fatores, que podem fazer uma grande diferença para aumentar o interesse dos consumidores nos produtos. Exemplos desses fatores incluem descrições, imagens, regiões geográficas, etc. Por exemplo, descrições com nuances ou com poucos detalhes e imagens de pouca qualidade podem reduzir o interesse dos consumidores.\n",
    "\n",
    "A AVITO, maior site de anúncios classificados na Rússia, está acostumado com a frustração dos seus anunciantes e busca formas de reduzi-la. Com esse objetivo, ela patrocina uma competição iniciada no mês de maio de 2018 através da Kaggle. A Kaggle é uma empresa, que possui uma plataforma aberta na qual cientistas, pesquisadores e profissionais do mundo inteiro na área de ciência de dados são desafiados a resolver problemas reais e complexos de empresas por meio de competições. \n",
    "\n",
    "A “competição Avito” da Kaggle desafia pesquisadores a predizer a probabilidade da compra de qualquer produto em função das informações fornecidas no anúncio da plataforma da AVITO. Essas informações incluem a descrição (título, detalhes, etc.), o contexto (a cidade onde o anúncio foi emitido e anúncios já postados) e o histórico da demanda para anúncios similares no contexto. O dataset que reúne informações de todos os anúncios classificados possui cerca de 7 GB. A competição já conta com mais de 1000 equipes. Com as previsões, a AVITO espera dar um retorno aos anunciantes sobre como otimizar suas carteiras de produtos, além de fornecer aos anunciantes indicadores sobre o potencial interesse dos consumidores em seus anúncios."
   ]
  },
  {
   "cell_type": "markdown",
   "metadata": {
    "colab_type": "text",
    "id": "AJKB6XKO05uN"
   },
   "source": [
    "## Importando módulos e Bibliotecas\n",
    "\n",
    "Será importado os módulos e bibliotecas que serão necessárias:"
   ]
  },
  {
   "cell_type": "code",
   "execution_count": 1,
   "metadata": {
    "colab": {
     "autoexec": {
      "startup": false,
      "wait_interval": 0
     }
    },
    "colab_type": "code",
    "id": "XAaFBwgR05uO"
   },
   "outputs": [
    {
     "name": "stdout",
     "output_type": "stream",
     "text": [
      "[nltk_data] Downloading package stopwords to /home/arruda/nltk_data...\n",
      "[nltk_data]   Package stopwords is already up-to-date!\n"
     ]
    },
    {
     "data": {
      "text/plain": [
       "True"
      ]
     },
     "execution_count": 1,
     "metadata": {},
     "output_type": "execute_result"
    }
   ],
   "source": [
    "%matplotlib inline  \n",
    "import gc\n",
    "import operator\n",
    "import os\n",
    "import pickle\n",
    "import re\n",
    "import warnings\n",
    "\n",
    "import nltk\n",
    "from nltk.corpus import stopwords\n",
    "import matplotlib.pyplot as plt\n",
    "\n",
    "import numpy as np\n",
    "import pandas as pd\n",
    "import scipy as sp\n",
    "from scipy.sparse import hstack, csr_matrix\n",
    "import scipy.stats as st\n",
    "\n",
    "from sklearn.model_selection import train_test_split\n",
    "from sklearn.metrics import mean_squared_error\n",
    "\n",
    "from xgboost import XGBRegressor, plot_importance\n",
    "\n",
    "\n",
    "from sklearn import preprocessing\n",
    "from sklearn.feature_extraction.text import CountVectorizer, TfidfVectorizer, TfidfTransformer\n",
    "from sklearn.linear_model import LinearRegression\n",
    "from sklearn.neural_network import MLPRegressor\n",
    "from sklearn.svm import SVR\n",
    "from sklearn.pipeline import FeatureUnion\n",
    "from rake_nltk import Rake\n",
    "\n",
    "# from helpers import save_model, load_model, limit_value\n",
    "\n",
    "from sklearn.model_selection import RandomizedSearchCV, cross_validate\n",
    "\n",
    "\n",
    "nltk.download('stopwords')\n"
   ]
  },
  {
   "cell_type": "markdown",
   "metadata": {
    "colab_type": "text",
    "id": "cB-4HGiizC9h"
   },
   "source": [
    "# 1. Carregamento dos datasets  (Train e Test) "
   ]
  },
  {
   "cell_type": "markdown",
   "metadata": {
    "colab_type": "text",
    "id": "U54pF2SlvaSa"
   },
   "source": [
    "\n",
    "Iremos carregar e ler o arquivo de treinamento e o arquivo de teste que estão disponíveis com o nome de train.csv.zip e test.csv.zip respectivamente, será utilizado o DataFrame do Pandas, que é uma biblioteca para auxiliar na análise de dados tabulares bidimensionais."
   ]
  },
  {
   "cell_type": "code",
   "execution_count": 2,
   "metadata": {
    "colab": {
     "autoexec": {
      "startup": false,
      "wait_interval": 0
     }
    },
    "colab_type": "code",
    "id": "T5eLLxNfIkzL"
   },
   "outputs": [],
   "source": [
    "train_complete_df = pd.read_csv('train.csv.zip', compression='zip', index_col = \"item_id\")\n",
    "submission_df = pd.read_csv('test.csv.zip', compression='zip', index_col = \"item_id\")"
   ]
  },
  {
   "cell_type": "markdown",
   "metadata": {
    "colab_type": "text",
    "id": "MeUlNvnMzZBK"
   },
   "source": [
    "# 2. Exploração dos dados\n",
    "Antes de criar modelos de predições vamos explorar os dados para descobri suas caracteristicas, seus significados."
   ]
  },
  {
   "cell_type": "markdown",
   "metadata": {
    "colab_type": "text",
    "id": "rN5UmPEZa1PG"
   },
   "source": [
    "Primeiro vamos verificar a quantidade de anúnicos para:\n",
    "* Treinamento (train) dos modelos\n",
    "* Submissão (submission) das predicões na competição"
   ]
  },
  {
   "cell_type": "code",
   "execution_count": 3,
   "metadata": {
    "colab": {
     "autoexec": {
      "startup": false,
      "wait_interval": 0
     }
    },
    "colab_type": "code",
    "id": "8Hkrcdx9a5lA"
   },
   "outputs": [
    {
     "name": "stdout",
     "output_type": "stream",
     "text": [
      "Train:  1503424 ; Submission:  508438\n"
     ]
    }
   ],
   "source": [
    "print('Train: ',train_complete_df.shape[0], '; Submission: ',submission_df.shape[0])"
   ]
  },
  {
   "cell_type": "markdown",
   "metadata": {
    "colab_type": "text",
    "id": "rnLyKUR7zZWn"
   },
   "source": [
    "* Verificamos campos do dataset de treinamento (train). Podemos notar que os campos estão descritos em russo."
   ]
  },
  {
   "cell_type": "code",
   "execution_count": 4,
   "metadata": {
    "colab": {
     "autoexec": {
      "startup": false,
      "wait_interval": 0
     }
    },
    "colab_type": "code",
    "id": "aI-Mkuz501TX"
   },
   "outputs": [
    {
     "name": "stdout",
     "output_type": "stream",
     "text": [
      "Número de colunas:  17\n"
     ]
    },
    {
     "data": {
      "text/html": [
       "<div>\n",
       "<style scoped>\n",
       "    .dataframe tbody tr th:only-of-type {\n",
       "        vertical-align: middle;\n",
       "    }\n",
       "\n",
       "    .dataframe tbody tr th {\n",
       "        vertical-align: top;\n",
       "    }\n",
       "\n",
       "    .dataframe thead th {\n",
       "        text-align: right;\n",
       "    }\n",
       "</style>\n",
       "<table border=\"1\" class=\"dataframe\">\n",
       "  <thead>\n",
       "    <tr style=\"text-align: right;\">\n",
       "      <th></th>\n",
       "      <th>user_id</th>\n",
       "      <th>region</th>\n",
       "      <th>city</th>\n",
       "      <th>parent_category_name</th>\n",
       "      <th>category_name</th>\n",
       "      <th>param_1</th>\n",
       "      <th>param_2</th>\n",
       "      <th>param_3</th>\n",
       "      <th>title</th>\n",
       "      <th>description</th>\n",
       "      <th>price</th>\n",
       "      <th>item_seq_number</th>\n",
       "      <th>activation_date</th>\n",
       "      <th>user_type</th>\n",
       "      <th>image</th>\n",
       "      <th>image_top_1</th>\n",
       "      <th>deal_probability</th>\n",
       "    </tr>\n",
       "    <tr>\n",
       "      <th>item_id</th>\n",
       "      <th></th>\n",
       "      <th></th>\n",
       "      <th></th>\n",
       "      <th></th>\n",
       "      <th></th>\n",
       "      <th></th>\n",
       "      <th></th>\n",
       "      <th></th>\n",
       "      <th></th>\n",
       "      <th></th>\n",
       "      <th></th>\n",
       "      <th></th>\n",
       "      <th></th>\n",
       "      <th></th>\n",
       "      <th></th>\n",
       "      <th></th>\n",
       "      <th></th>\n",
       "    </tr>\n",
       "  </thead>\n",
       "  <tbody>\n",
       "    <tr>\n",
       "      <th>b912c3c6a6ad</th>\n",
       "      <td>e00f8ff2eaf9</td>\n",
       "      <td>Свердловская область</td>\n",
       "      <td>Екатеринбург</td>\n",
       "      <td>Личные вещи</td>\n",
       "      <td>Товары для детей и игрушки</td>\n",
       "      <td>Постельные принадлежности</td>\n",
       "      <td>NaN</td>\n",
       "      <td>NaN</td>\n",
       "      <td>Кокоби(кокон для сна)</td>\n",
       "      <td>Кокон для сна малыша,пользовались меньше месяц...</td>\n",
       "      <td>400.0</td>\n",
       "      <td>2</td>\n",
       "      <td>2017-03-28</td>\n",
       "      <td>Private</td>\n",
       "      <td>d10c7e016e03247a3bf2d13348fe959fe6f436c1caf64c...</td>\n",
       "      <td>1008.0</td>\n",
       "      <td>0.12789</td>\n",
       "    </tr>\n",
       "    <tr>\n",
       "      <th>2dac0150717d</th>\n",
       "      <td>39aeb48f0017</td>\n",
       "      <td>Самарская область</td>\n",
       "      <td>Самара</td>\n",
       "      <td>Для дома и дачи</td>\n",
       "      <td>Мебель и интерьер</td>\n",
       "      <td>Другое</td>\n",
       "      <td>NaN</td>\n",
       "      <td>NaN</td>\n",
       "      <td>Стойка для Одежды</td>\n",
       "      <td>Стойка для одежды, под вешалки. С бутика.</td>\n",
       "      <td>3000.0</td>\n",
       "      <td>19</td>\n",
       "      <td>2017-03-26</td>\n",
       "      <td>Private</td>\n",
       "      <td>79c9392cc51a9c81c6eb91eceb8e552171db39d7142700...</td>\n",
       "      <td>692.0</td>\n",
       "      <td>0.00000</td>\n",
       "    </tr>\n",
       "    <tr>\n",
       "      <th>ba83aefab5dc</th>\n",
       "      <td>91e2f88dd6e3</td>\n",
       "      <td>Ростовская область</td>\n",
       "      <td>Ростов-на-Дону</td>\n",
       "      <td>Бытовая электроника</td>\n",
       "      <td>Аудио и видео</td>\n",
       "      <td>Видео, DVD и Blu-ray плееры</td>\n",
       "      <td>NaN</td>\n",
       "      <td>NaN</td>\n",
       "      <td>Philips bluray</td>\n",
       "      <td>В хорошем состоянии, домашний кинотеатр с blu ...</td>\n",
       "      <td>4000.0</td>\n",
       "      <td>9</td>\n",
       "      <td>2017-03-20</td>\n",
       "      <td>Private</td>\n",
       "      <td>b7f250ee3f39e1fedd77c141f273703f4a9be59db4b48a...</td>\n",
       "      <td>3032.0</td>\n",
       "      <td>0.43177</td>\n",
       "    </tr>\n",
       "    <tr>\n",
       "      <th>02996f1dd2ea</th>\n",
       "      <td>bf5cccea572d</td>\n",
       "      <td>Татарстан</td>\n",
       "      <td>Набережные Челны</td>\n",
       "      <td>Личные вещи</td>\n",
       "      <td>Товары для детей и игрушки</td>\n",
       "      <td>Автомобильные кресла</td>\n",
       "      <td>NaN</td>\n",
       "      <td>NaN</td>\n",
       "      <td>Автокресло</td>\n",
       "      <td>Продам кресло от0-25кг</td>\n",
       "      <td>2200.0</td>\n",
       "      <td>286</td>\n",
       "      <td>2017-03-25</td>\n",
       "      <td>Company</td>\n",
       "      <td>e6ef97e0725637ea84e3d203e82dadb43ed3cc0a1c8413...</td>\n",
       "      <td>796.0</td>\n",
       "      <td>0.80323</td>\n",
       "    </tr>\n",
       "    <tr>\n",
       "      <th>7c90be56d2ab</th>\n",
       "      <td>ef50846afc0b</td>\n",
       "      <td>Волгоградская область</td>\n",
       "      <td>Волгоград</td>\n",
       "      <td>Транспорт</td>\n",
       "      <td>Автомобили</td>\n",
       "      <td>С пробегом</td>\n",
       "      <td>ВАЗ (LADA)</td>\n",
       "      <td>2110</td>\n",
       "      <td>ВАЗ 2110, 2003</td>\n",
       "      <td>Все вопросы по телефону.</td>\n",
       "      <td>40000.0</td>\n",
       "      <td>3</td>\n",
       "      <td>2017-03-16</td>\n",
       "      <td>Private</td>\n",
       "      <td>54a687a3a0fc1d68aed99bdaaf551c5c70b761b16fd0a2...</td>\n",
       "      <td>2264.0</td>\n",
       "      <td>0.20797</td>\n",
       "    </tr>\n",
       "  </tbody>\n",
       "</table>\n",
       "</div>"
      ],
      "text/plain": [
       "                   user_id                 region              city  \\\n",
       "item_id                                                               \n",
       "b912c3c6a6ad  e00f8ff2eaf9   Свердловская область      Екатеринбург   \n",
       "2dac0150717d  39aeb48f0017      Самарская область            Самара   \n",
       "ba83aefab5dc  91e2f88dd6e3     Ростовская область    Ростов-на-Дону   \n",
       "02996f1dd2ea  bf5cccea572d              Татарстан  Набережные Челны   \n",
       "7c90be56d2ab  ef50846afc0b  Волгоградская область         Волгоград   \n",
       "\n",
       "             parent_category_name               category_name  \\\n",
       "item_id                                                         \n",
       "b912c3c6a6ad          Личные вещи  Товары для детей и игрушки   \n",
       "2dac0150717d      Для дома и дачи           Мебель и интерьер   \n",
       "ba83aefab5dc  Бытовая электроника               Аудио и видео   \n",
       "02996f1dd2ea          Личные вещи  Товары для детей и игрушки   \n",
       "7c90be56d2ab            Транспорт                  Автомобили   \n",
       "\n",
       "                                  param_1     param_2 param_3  \\\n",
       "item_id                                                         \n",
       "b912c3c6a6ad    Постельные принадлежности         NaN     NaN   \n",
       "2dac0150717d                       Другое         NaN     NaN   \n",
       "ba83aefab5dc  Видео, DVD и Blu-ray плееры         NaN     NaN   \n",
       "02996f1dd2ea         Автомобильные кресла         NaN     NaN   \n",
       "7c90be56d2ab                   С пробегом  ВАЗ (LADA)    2110   \n",
       "\n",
       "                              title  \\\n",
       "item_id                               \n",
       "b912c3c6a6ad  Кокоби(кокон для сна)   \n",
       "2dac0150717d      Стойка для Одежды   \n",
       "ba83aefab5dc         Philips bluray   \n",
       "02996f1dd2ea             Автокресло   \n",
       "7c90be56d2ab         ВАЗ 2110, 2003   \n",
       "\n",
       "                                                    description    price  \\\n",
       "item_id                                                                    \n",
       "b912c3c6a6ad  Кокон для сна малыша,пользовались меньше месяц...    400.0   \n",
       "2dac0150717d          Стойка для одежды, под вешалки. С бутика.   3000.0   \n",
       "ba83aefab5dc  В хорошем состоянии, домашний кинотеатр с blu ...   4000.0   \n",
       "02996f1dd2ea                             Продам кресло от0-25кг   2200.0   \n",
       "7c90be56d2ab                           Все вопросы по телефону.  40000.0   \n",
       "\n",
       "              item_seq_number activation_date user_type  \\\n",
       "item_id                                                   \n",
       "b912c3c6a6ad                2      2017-03-28   Private   \n",
       "2dac0150717d               19      2017-03-26   Private   \n",
       "ba83aefab5dc                9      2017-03-20   Private   \n",
       "02996f1dd2ea              286      2017-03-25   Company   \n",
       "7c90be56d2ab                3      2017-03-16   Private   \n",
       "\n",
       "                                                          image  image_top_1  \\\n",
       "item_id                                                                        \n",
       "b912c3c6a6ad  d10c7e016e03247a3bf2d13348fe959fe6f436c1caf64c...       1008.0   \n",
       "2dac0150717d  79c9392cc51a9c81c6eb91eceb8e552171db39d7142700...        692.0   \n",
       "ba83aefab5dc  b7f250ee3f39e1fedd77c141f273703f4a9be59db4b48a...       3032.0   \n",
       "02996f1dd2ea  e6ef97e0725637ea84e3d203e82dadb43ed3cc0a1c8413...        796.0   \n",
       "7c90be56d2ab  54a687a3a0fc1d68aed99bdaaf551c5c70b761b16fd0a2...       2264.0   \n",
       "\n",
       "              deal_probability  \n",
       "item_id                         \n",
       "b912c3c6a6ad           0.12789  \n",
       "2dac0150717d           0.00000  \n",
       "ba83aefab5dc           0.43177  \n",
       "02996f1dd2ea           0.80323  \n",
       "7c90be56d2ab           0.20797  "
      ]
     },
     "execution_count": 4,
     "metadata": {},
     "output_type": "execute_result"
    }
   ],
   "source": [
    "print('Número de colunas: ', train_complete_df.shape[1])\n",
    "train_complete_df.head()"
   ]
  },
  {
   "cell_type": "markdown",
   "metadata": {
    "colab_type": "text",
    "id": "DBHITPHxJORt"
   },
   "source": [
    "* Verificamos abaixo que dataset de submissão tem todos os campos do train com excecão do campo 'deal_probabality' que é justamente o campo das predições."
   ]
  },
  {
   "cell_type": "code",
   "execution_count": 5,
   "metadata": {
    "colab": {
     "autoexec": {
      "startup": false,
      "wait_interval": 0
     }
    },
    "colab_type": "code",
    "id": "ovlosUJbJMwR"
   },
   "outputs": [
    {
     "name": "stdout",
     "output_type": "stream",
     "text": [
      "Número de colunas:  16\n"
     ]
    },
    {
     "data": {
      "text/html": [
       "<div>\n",
       "<style scoped>\n",
       "    .dataframe tbody tr th:only-of-type {\n",
       "        vertical-align: middle;\n",
       "    }\n",
       "\n",
       "    .dataframe tbody tr th {\n",
       "        vertical-align: top;\n",
       "    }\n",
       "\n",
       "    .dataframe thead th {\n",
       "        text-align: right;\n",
       "    }\n",
       "</style>\n",
       "<table border=\"1\" class=\"dataframe\">\n",
       "  <thead>\n",
       "    <tr style=\"text-align: right;\">\n",
       "      <th></th>\n",
       "      <th>user_id</th>\n",
       "      <th>region</th>\n",
       "      <th>city</th>\n",
       "      <th>parent_category_name</th>\n",
       "      <th>category_name</th>\n",
       "      <th>param_1</th>\n",
       "      <th>param_2</th>\n",
       "      <th>param_3</th>\n",
       "      <th>title</th>\n",
       "      <th>description</th>\n",
       "      <th>price</th>\n",
       "      <th>item_seq_number</th>\n",
       "      <th>activation_date</th>\n",
       "      <th>user_type</th>\n",
       "      <th>image</th>\n",
       "      <th>image_top_1</th>\n",
       "    </tr>\n",
       "    <tr>\n",
       "      <th>item_id</th>\n",
       "      <th></th>\n",
       "      <th></th>\n",
       "      <th></th>\n",
       "      <th></th>\n",
       "      <th></th>\n",
       "      <th></th>\n",
       "      <th></th>\n",
       "      <th></th>\n",
       "      <th></th>\n",
       "      <th></th>\n",
       "      <th></th>\n",
       "      <th></th>\n",
       "      <th></th>\n",
       "      <th></th>\n",
       "      <th></th>\n",
       "      <th></th>\n",
       "    </tr>\n",
       "  </thead>\n",
       "  <tbody>\n",
       "    <tr>\n",
       "      <th>6544e41a8817</th>\n",
       "      <td>dbe73ad6e4b5</td>\n",
       "      <td>Волгоградская область</td>\n",
       "      <td>Волгоград</td>\n",
       "      <td>Личные вещи</td>\n",
       "      <td>Детская одежда и обувь</td>\n",
       "      <td>Для мальчиков</td>\n",
       "      <td>Обувь</td>\n",
       "      <td>25</td>\n",
       "      <td>Отдам бесплатно</td>\n",
       "      <td>На ангарском</td>\n",
       "      <td>NaN</td>\n",
       "      <td>66</td>\n",
       "      <td>2017-04-18</td>\n",
       "      <td>Private</td>\n",
       "      <td>a8b57acb5ab304f9c331ac7a074219aed4d349d8aef386...</td>\n",
       "      <td>2020.0</td>\n",
       "    </tr>\n",
       "    <tr>\n",
       "      <th>65b9484d670f</th>\n",
       "      <td>2e11806abe57</td>\n",
       "      <td>Свердловская область</td>\n",
       "      <td>Нижняя Тура</td>\n",
       "      <td>Хобби и отдых</td>\n",
       "      <td>Велосипеды</td>\n",
       "      <td>Дорожные</td>\n",
       "      <td>NaN</td>\n",
       "      <td>NaN</td>\n",
       "      <td>Продам велосипед</td>\n",
       "      <td>Продам велосипед KAMA  F200,в нормальном состо...</td>\n",
       "      <td>3000.0</td>\n",
       "      <td>4</td>\n",
       "      <td>2017-04-16</td>\n",
       "      <td>Private</td>\n",
       "      <td>NaN</td>\n",
       "      <td>NaN</td>\n",
       "    </tr>\n",
       "    <tr>\n",
       "      <th>8bab230b2ecd</th>\n",
       "      <td>0b850bbebb10</td>\n",
       "      <td>Новосибирская область</td>\n",
       "      <td>Бердск</td>\n",
       "      <td>Бытовая электроника</td>\n",
       "      <td>Аудио и видео</td>\n",
       "      <td>Телевизоры и проекторы</td>\n",
       "      <td>NaN</td>\n",
       "      <td>NaN</td>\n",
       "      <td>BBK</td>\n",
       "      <td>Продам новый телевизор BBK  32 диагональ смарт...</td>\n",
       "      <td>15000.0</td>\n",
       "      <td>15</td>\n",
       "      <td>2017-04-17</td>\n",
       "      <td>Private</td>\n",
       "      <td>8c361112cb049745ef2d1b0ae73594fc5c107286b0c942...</td>\n",
       "      <td>2960.0</td>\n",
       "    </tr>\n",
       "    <tr>\n",
       "      <th>8e348601fefc</th>\n",
       "      <td>5f1d5c3ce0da</td>\n",
       "      <td>Саратовская область</td>\n",
       "      <td>Саратов</td>\n",
       "      <td>Для дома и дачи</td>\n",
       "      <td>Бытовая техника</td>\n",
       "      <td>Для кухни</td>\n",
       "      <td>Вытяжки</td>\n",
       "      <td>NaN</td>\n",
       "      <td>Вытяжка Jetair 60</td>\n",
       "      <td>Продам новую вытяжку в упаковке,с документами....</td>\n",
       "      <td>4500.0</td>\n",
       "      <td>70</td>\n",
       "      <td>2017-04-17</td>\n",
       "      <td>Private</td>\n",
       "      <td>NaN</td>\n",
       "      <td>NaN</td>\n",
       "    </tr>\n",
       "    <tr>\n",
       "      <th>8bd2fe400b89</th>\n",
       "      <td>23e2d97bfc7f</td>\n",
       "      <td>Оренбургская область</td>\n",
       "      <td>Бузулук</td>\n",
       "      <td>Личные вещи</td>\n",
       "      <td>Товары для детей и игрушки</td>\n",
       "      <td>Детские коляски</td>\n",
       "      <td>NaN</td>\n",
       "      <td>NaN</td>\n",
       "      <td>Коляска зима-лето</td>\n",
       "      <td>Продам отличную коляску. б/у 1 год. все вопрос...</td>\n",
       "      <td>4900.0</td>\n",
       "      <td>15</td>\n",
       "      <td>2017-04-15</td>\n",
       "      <td>Private</td>\n",
       "      <td>bc3cf6deef10840fc302e38eb48fa7748aa1e28d534f8f...</td>\n",
       "      <td>1002.0</td>\n",
       "    </tr>\n",
       "  </tbody>\n",
       "</table>\n",
       "</div>"
      ],
      "text/plain": [
       "                   user_id                 region         city  \\\n",
       "item_id                                                          \n",
       "6544e41a8817  dbe73ad6e4b5  Волгоградская область    Волгоград   \n",
       "65b9484d670f  2e11806abe57   Свердловская область  Нижняя Тура   \n",
       "8bab230b2ecd  0b850bbebb10  Новосибирская область       Бердск   \n",
       "8e348601fefc  5f1d5c3ce0da    Саратовская область      Саратов   \n",
       "8bd2fe400b89  23e2d97bfc7f   Оренбургская область      Бузулук   \n",
       "\n",
       "             parent_category_name               category_name  \\\n",
       "item_id                                                         \n",
       "6544e41a8817          Личные вещи      Детская одежда и обувь   \n",
       "65b9484d670f        Хобби и отдых                  Велосипеды   \n",
       "8bab230b2ecd  Бытовая электроника               Аудио и видео   \n",
       "8e348601fefc      Для дома и дачи             Бытовая техника   \n",
       "8bd2fe400b89          Личные вещи  Товары для детей и игрушки   \n",
       "\n",
       "                             param_1  param_2 param_3              title  \\\n",
       "item_id                                                                    \n",
       "6544e41a8817           Для мальчиков    Обувь      25    Отдам бесплатно   \n",
       "65b9484d670f                Дорожные      NaN     NaN   Продам велосипед   \n",
       "8bab230b2ecd  Телевизоры и проекторы      NaN     NaN                BBK   \n",
       "8e348601fefc               Для кухни  Вытяжки     NaN  Вытяжка Jetair 60   \n",
       "8bd2fe400b89         Детские коляски      NaN     NaN  Коляска зима-лето   \n",
       "\n",
       "                                                    description    price  \\\n",
       "item_id                                                                    \n",
       "6544e41a8817                                       На ангарском      NaN   \n",
       "65b9484d670f  Продам велосипед KAMA  F200,в нормальном состо...   3000.0   \n",
       "8bab230b2ecd  Продам новый телевизор BBK  32 диагональ смарт...  15000.0   \n",
       "8e348601fefc  Продам новую вытяжку в упаковке,с документами....   4500.0   \n",
       "8bd2fe400b89  Продам отличную коляску. б/у 1 год. все вопрос...   4900.0   \n",
       "\n",
       "              item_seq_number activation_date user_type  \\\n",
       "item_id                                                   \n",
       "6544e41a8817               66      2017-04-18   Private   \n",
       "65b9484d670f                4      2017-04-16   Private   \n",
       "8bab230b2ecd               15      2017-04-17   Private   \n",
       "8e348601fefc               70      2017-04-17   Private   \n",
       "8bd2fe400b89               15      2017-04-15   Private   \n",
       "\n",
       "                                                          image  image_top_1  \n",
       "item_id                                                                       \n",
       "6544e41a8817  a8b57acb5ab304f9c331ac7a074219aed4d349d8aef386...       2020.0  \n",
       "65b9484d670f                                                NaN          NaN  \n",
       "8bab230b2ecd  8c361112cb049745ef2d1b0ae73594fc5c107286b0c942...       2960.0  \n",
       "8e348601fefc                                                NaN          NaN  \n",
       "8bd2fe400b89  bc3cf6deef10840fc302e38eb48fa7748aa1e28d534f8f...       1002.0  "
      ]
     },
     "execution_count": 5,
     "metadata": {},
     "output_type": "execute_result"
    }
   ],
   "source": [
    "print('Número de colunas: ', submission_df.shape[1])\n",
    "submission_df.head()"
   ]
  },
  {
   "cell_type": "markdown",
   "metadata": {
    "colab_type": "text",
    "id": "gCUSUV3BbVQc"
   },
   "source": [
    "Para cada campo do train, vamos verificar o percentual de valores nulos; por exemplo, o percentual de descrições não preenchidas pelos anunciantes no total das descrições. Essas informações servirão para o pre-processamento/tratamento dos dados."
   ]
  },
  {
   "cell_type": "code",
   "execution_count": 6,
   "metadata": {
    "colab": {
     "autoexec": {
      "startup": false,
      "wait_interval": 0
     }
    },
    "colab_type": "code",
    "id": "O_Ot85ApbWtS"
   },
   "outputs": [
    {
     "data": {
      "text/plain": [
       "user_id                  0.00\n",
       "region                   0.00\n",
       "city                     0.00\n",
       "parent_category_name     0.00\n",
       "category_name            0.00\n",
       "param_1                  4.10\n",
       "param_2                 43.54\n",
       "param_3                 57.37\n",
       "title                    0.00\n",
       "description              7.73\n",
       "price                    5.68\n",
       "item_seq_number          0.00\n",
       "activation_date          0.00\n",
       "user_type                0.00\n",
       "image                    7.49\n",
       "image_top_1              7.49\n",
       "deal_probability         0.00\n",
       "dtype: float64"
      ]
     },
     "execution_count": 6,
     "metadata": {},
     "output_type": "execute_result"
    }
   ],
   "source": [
    "round(train_complete_df.isnull().sum()*100/train_complete_df.shape[0],2)"
   ]
  },
  {
   "cell_type": "markdown",
   "metadata": {
    "colab_type": "text",
    "id": "kVlHHJNYKYAo"
   },
   "source": [
    "Tendo essas informações, vamos agora visualizar algumas estatísticas com gráfios.\n",
    "\n",
    "Primeiro definimos algumas funções auxiliadoras utilizadas para gerar as estatísticas"
   ]
  },
  {
   "cell_type": "code",
   "execution_count": 7,
   "metadata": {
    "colab": {
     "autoexec": {
      "startup": false,
      "wait_interval": 0
     }
    },
    "colab_type": "code",
    "id": "9udhtW4PbXmG"
   },
   "outputs": [],
   "source": [
    "def plotPieByColumn(grp_column):\n",
    "    '''Plota um gráfico em pizza para mostrar as proporções em agrupamento por uma coluna.\n",
    "        Entrada:\n",
    "            grp_column: dataframe com agrupamentos, cada um contendo seu número de anúncios\n",
    "        Saída:\n",
    "            Plota um gráfico em pizza para mostrar as proporções em agrupamento por uma coluna.\n",
    "    '''\n",
    "    column_name=grp_column.index.name\n",
    "    \n",
    "    print('Número possível de {0}: {1}'.format(column_name, len(grp_column.index) ))\n",
    "    print('----------------------------------')\n",
    "    dic_column={}\n",
    "    column_values=[]\n",
    "    numbers=[]\n",
    "    \n",
    "    for row in grp_column.itertuples():\n",
    "        grp_column_item=row[0]\n",
    "        column_value=row[1]\n",
    "        dic_column[grp_column_item]=column_value\n",
    "        numbers.append(column_value)\n",
    "    column_values=list(dic_column.keys())\n",
    "    \n",
    "    entity_data = {'{0}'.format(column_name): column_values,'number': numbers}\n",
    "    df_ = pd.DataFrame(entity_data, columns = ['{0}'.format(column_name), 'number'])\n",
    "    \n",
    "    plt.figure(figsize=(16,8))\n",
    "    # plot chart\n",
    "    ax1 = plt.subplot(121, aspect='equal')\n",
    "    df_.plot(kind='pie', y = 'number', ax=ax1,  autopct='%1.1f%%', startangle=90, shadow=False, \n",
    "              labels=df_['{0}'.format(column_name)], legend = False, fontsize=14, \n",
    "             title='Percentual de anúncios por {0}'.format(column_name)\n",
    "             )\n",
    "    ax2 = plt.subplot(122)\n",
    "    plt.axis('off')\n",
    "    \n",
    "    plt.show()"
   ]
  },
  {
   "cell_type": "markdown",
   "metadata": {
    "colab_type": "text",
    "id": "mXpIStyNLmW3"
   },
   "source": [
    "#### Distribução de tipo de anunciante (user_type)"
   ]
  },
  {
   "cell_type": "code",
   "execution_count": 8,
   "metadata": {
    "colab": {
     "autoexec": {
      "startup": false,
      "wait_interval": 0
     }
    },
    "colab_type": "code",
    "id": "nDX02HWubYLd"
   },
   "outputs": [
    {
     "name": "stdout",
     "output_type": "stream",
     "text": [
      "Número possível de user_type: 3\n",
      "----------------------------------\n"
     ]
    },
    {
     "data": {
      "image/png": "[encoded data removed]",
      "text/plain": [
       "<Figure size 1152x576 with 2 Axes>"
      ]
     },
     "metadata": {},
     "output_type": "display_data"
    }
   ],
   "source": [
    "plotPieByColumn(\n",
    "    train_complete_df[['user_type','title']].groupby('user_type').count()\n",
    ")"
   ]
  },
  {
   "cell_type": "markdown",
   "metadata": {
    "colab_type": "text",
    "id": "ys02C--MNtGS"
   },
   "source": [
    "#### Distribução de parent_category _name"
   ]
  },
  {
   "cell_type": "code",
   "execution_count": null,
   "metadata": {
    "colab": {
     "autoexec": {
      "startup": false,
      "wait_interval": 0
     }
    },
    "colab_type": "code",
    "id": "DLkpqMUEN_mJ"
   },
   "outputs": [],
   "source": []
  },
  {
   "cell_type": "markdown",
   "metadata": {
    "colab_type": "text",
    "id": "K1BWB_zIOBMT"
   },
   "source": [
    "#### Distribução de category_name"
   ]
  },
  {
   "cell_type": "code",
   "execution_count": null,
   "metadata": {
    "colab": {
     "autoexec": {
      "startup": false,
      "wait_interval": 0
     }
    },
    "colab_type": "code",
    "id": "OW8Mi-V2OB2Z"
   },
   "outputs": [],
   "source": []
  },
  {
   "cell_type": "markdown",
   "metadata": {
    "colab_type": "text",
    "id": "q0wPlNaeONXz"
   },
   "source": [
    "#### Números de anúncios por região"
   ]
  },
  {
   "cell_type": "code",
   "execution_count": null,
   "metadata": {
    "colab": {
     "autoexec": {
      "startup": false,
      "wait_interval": 0
     }
    },
    "colab_type": "code",
    "id": "EzbDZjGCOjck"
   },
   "outputs": [],
   "source": []
  },
  {
   "cell_type": "markdown",
   "metadata": {
    "colab_type": "text",
    "id": "3Hn017RVOkcW"
   },
   "source": [
    "#### Estatísticas sobre cidades"
   ]
  },
  {
   "cell_type": "code",
   "execution_count": null,
   "metadata": {
    "colab": {
     "autoexec": {
      "startup": false,
      "wait_interval": 0
     }
    },
    "colab_type": "code",
    "id": "O1ZSCmb2PysZ"
   },
   "outputs": [],
   "source": []
  },
  {
   "cell_type": "markdown",
   "metadata": {
    "colab_type": "text",
    "id": "YFb9x6JgPzLY"
   },
   "source": [
    "#### Estatísticas sobre o campo descrição"
   ]
  },
  {
   "cell_type": "code",
   "execution_count": null,
   "metadata": {
    "colab": {
     "autoexec": {
      "startup": false,
      "wait_interval": 0
     }
    },
    "colab_type": "code",
    "id": "oTdE8tKxP0c0"
   },
   "outputs": [],
   "source": []
  },
  {
   "cell_type": "markdown",
   "metadata": {
    "colab_type": "text",
    "id": "ZtlCmxY3HHQy"
   },
   "source": [
    "#### Estatísticas sobre o campo título"
   ]
  },
  {
   "cell_type": "code",
   "execution_count": null,
   "metadata": {
    "colab": {
     "autoexec": {
      "startup": false,
      "wait_interval": 0
     }
    },
    "colab_type": "code",
    "id": "EWOjI3RvHLqJ"
   },
   "outputs": [],
   "source": []
  },
  {
   "cell_type": "markdown",
   "metadata": {
    "colab_type": "text",
    "id": "OeqVpPlMHRAm"
   },
   "source": [
    "#### Estatísticas sobre o preço do anúncio"
   ]
  },
  {
   "cell_type": "code",
   "execution_count": null,
   "metadata": {
    "colab": {
     "autoexec": {
      "startup": false,
      "wait_interval": 0
     }
    },
    "colab_type": "code",
    "id": "m4sVbvDmHT0J"
   },
   "outputs": [],
   "source": []
  },
  {
   "cell_type": "markdown",
   "metadata": {
    "colab_type": "text",
    "id": "AivU7z28Hcnh"
   },
   "source": [
    "#### Distribuição da probabilidade de Venda"
   ]
  },
  {
   "cell_type": "code",
   "execution_count": 9,
   "metadata": {
    "colab": {
     "autoexec": {
      "startup": false,
      "wait_interval": 0
     }
    },
    "colab_type": "code",
    "id": "z8-GYn4xHqlB"
   },
   "outputs": [
    {
     "data": {
      "image/png": "[encoded data removed]",
      "text/plain": [
       "<Figure size 432x288 with 1 Axes>"
      ]
     },
     "metadata": {},
     "output_type": "display_data"
    }
   ],
   "source": [
    "plt.hist(train_complete_df['deal_probability'])\n",
    "plt.xlabel('Deal probability')\n",
    "plt.grid(True)\n",
    "plt.show()"
   ]
  },
  {
   "cell_type": "markdown",
   "metadata": {
    "colab_type": "text",
    "id": "BnO2x4n5HSeC"
   },
   "source": []
  },
  {
   "cell_type": "markdown",
   "metadata": {
    "colab_type": "text",
    "id": "ksJZoKOSfUHc"
   },
   "source": [
    "# Descrição de soluções intermediárias"
   ]
  },
  {
   "cell_type": "markdown",
   "metadata": {
    "colab_type": "text",
    "id": "gELqCoumgN7H"
   },
   "source": [
    "Até chegar à solução final apresentada mais adiante, tivemos várias abordagens que resultaram em scores intermediários no kaggle. Apresentamos aqui uma visão geral sobre as mesmas, e disponizamos seus links para conferência ou acesso aos detalhes."
   ]
  },
  {
   "cell_type": "markdown",
   "metadata": {
    "colab_type": "text",
    "id": "IAoCKACtfzzu"
   },
   "source": [
    "## SVR com Frequencias e Probabilidades???\n",
    "\n",
    "\n",
    "\n",
    "**Score Final:** 0,2489\n",
    "\n",
    "Disponivel em: https://github.com/arruda/avito_challenge/blob/master/Jean_SVR_NumericFeatures_V01.ipynb"
   ]
  },
  {
   "cell_type": "markdown",
   "metadata": {
    "colab_type": "text",
    "id": "H88LoDzZf0jd"
   },
   "source": [
    "## Random Forest Regressor\n",
    "\n",
    "Foi realizado a técnica de pré-processamento LabelEncoder para transformar os valores categóricos das colunas  title, region, city, parent_category_name, category_name, param_1, user_type, user_id, param_2, param_3, description, image em valores numéricos inteiros e aplicado o classificador Random Forest Regressor, onde seu estimador ajusta as árvores de decisão em sub-amostras do conjunto de dados e faz uso da média para melhorar a predição.\n",
    "\n",
    "**Score Final:** 0,2460\n",
    "\n",
    "\n",
    "Disponível em: https://github.com/arruda/avito_challenge/blob/master/Catherine_random_forest_regressor.ipynb\n",
    "\n"
   ]
  },
  {
   "cell_type": "markdown",
   "metadata": {
    "colab_type": "text",
    "id": "gk1jUjvrhUyT"
   },
   "source": [
    "## Analise de sentimento\n",
    "Tentamos aplicar uma analise de sentimento utilizando uma biblioteca em Python própria para a lingua russa ([Sentimental](https://github.com/text-machine-lab/sentimental)). \n",
    "\n",
    "Porém a biblioteca não tinha um bom dicionário Russo para gerar resultados que pudessem ajudar de fato. E dado a disponibilidade de tempo seria impossível traduzir todos os textos para fazer uso de bibliotecas otimizadas para lingua inglesa.\n",
    "\n",
    "**Score Final:** 0.2686\n",
    "\n",
    "Disponívem em: https://github.com/arruda/avito_challenge/blob/master/arruda-xgb-uppercases-and-all-usable-fields-sentiment.ipynb"
   ]
  },
  {
   "cell_type": "markdown",
   "metadata": {
    "colab_type": "text",
    "id": "PhE2cWw-XIgc"
   },
   "source": [
    "# Solução Final\n",
    "Após diversos experimentos com diferentes features e modelos, conseguimos chegar à um bom resultado. Para isso utilizamos o modelo XGBRegressor (para regressões utilizando o XGBoost) e usamos a maioria das features presentes no dataset, além outras derivadas dos campos de texto. \n",
    "\n",
    "Essa abordagem será tratada em detalhes adiante."
   ]
  },
  {
   "cell_type": "markdown",
   "metadata": {
    "colab_type": "text",
    "id": "OxSinRCbFPFL"
   },
   "source": [
    "\n",
    "## Funções de auxilio para leitura e escrita em disco"
   ]
  },
  {
   "cell_type": "code",
   "execution_count": 11,
   "metadata": {
    "colab": {
     "autoexec": {
      "startup": false,
      "wait_interval": 0
     }
    },
    "colab_type": "code",
    "id": "n813w4KOFPFM"
   },
   "outputs": [],
   "source": [
    "def save_to_disk(pkl_filename, data):\n",
    "    '''Salva em disco algum dado.\n",
    "      Util para salvar e recarregar modelos, parametros, \n",
    "      e resultados de algoritmos demorados calculados anteriormente.\n",
    "    \n",
    "    Entrada:\n",
    "        pkl_filename: nome do arquivo onde será salvo o dado.\n",
    "        data: dado à ser salvo.\n",
    "    \n",
    "    '''  \n",
    "    with open(pkl_filename, 'wb') as f:\n",
    "        pickle.dump(data, f)\n",
    "        \n",
    "def load_from_disk(pkl_filename):\n",
    "    '''Carrega do disco algum dado.\n",
    "      Util para salvar e recarregar m odelos, parametros, \n",
    "      e resultados de algoritmos demorados calculados anteriormente.\n",
    "    \n",
    "    Entrada:\n",
    "        pkl_filename: nome do arquivo de onde será carregado o dado.\n",
    "    \n",
    "    Saída:\n",
    "        objeto python carregado em memoria.\n",
    "    '''    \n",
    "    with open(pkl_filename, 'rb') as f:\n",
    "        pickle_data = pickle.load(f)\n",
    "        return pickle_data"
   ]
  },
  {
   "cell_type": "markdown",
   "metadata": {
    "colab_type": "text",
    "id": "gqy2L1HKMxoj"
   },
   "source": [
    "## Tratamento do dataset"
   ]
  },
  {
   "cell_type": "markdown",
   "metadata": {
    "colab_type": "text",
    "id": "bH4UAjiFUT31"
   },
   "source": [
    "Para tornar mais prático o tratamento dos dados, os datasets de treino e de teste  são concatenados. Assim as operações do tratamento das features serão executadas apenas uma vez.  Posteriormente os datasets serão novamente separados."
   ]
  },
  {
   "cell_type": "markdown",
   "metadata": {
    "colab_type": "text",
    "id": "bTUDT_hsX5YU"
   },
   "source": [
    "Salva os indices dos datasets de treino e de teste, posteriormente esses indices serão usados para separar o que é parte do dataset de treino e o que é parte do dataset de teste."
   ]
  },
  {
   "cell_type": "code",
   "execution_count": 12,
   "metadata": {
    "colab": {
     "autoexec": {
      "startup": false,
      "wait_interval": 0
     }
    },
    "colab_type": "code",
    "id": "f_LeiRbnUT32"
   },
   "outputs": [],
   "source": [
    "train_complete_index = train_complete_df.index\n",
    "submission_index = submission_df.index"
   ]
  },
  {
   "cell_type": "markdown",
   "metadata": {
    "colab_type": "text",
    "id": "jSnFKjCMUXs1"
   },
   "source": [
    "Salva a solução (*deal_probability*) do dataset de treino em uma variável *y* que será utilizada mais para frente. "
   ]
  },
  {
   "cell_type": "code",
   "execution_count": 13,
   "metadata": {
    "colab": {
     "autoexec": {
      "startup": false,
      "wait_interval": 0
     }
    },
    "colab_type": "code",
    "id": "Hj4OaKzvUXs2"
   },
   "outputs": [],
   "source": [
    "y = train_complete_df['deal_probability'].copy()"
   ]
  },
  {
   "cell_type": "markdown",
   "metadata": {
    "colab_type": "text",
    "id": "yWJ3RjgyUXs3"
   },
   "source": [
    "Em seguida remove essa coluna do dataset de treino. Isso é necessário para que possamos concatenar os datasets de treino e de teste.\n"
   ]
  },
  {
   "cell_type": "code",
   "execution_count": 14,
   "metadata": {
    "colab": {
     "autoexec": {
      "startup": false,
      "wait_interval": 0
     }
    },
    "colab_type": "code",
    "id": "gArn5K3EUXs3"
   },
   "outputs": [],
   "source": [
    "train_complete_df.drop(\"deal_probability\",axis=1, inplace=True)\n",
    "full_df = pd.concat([train_complete_df,submission_df], axis=0)"
   ]
  },
  {
   "cell_type": "markdown",
   "metadata": {
    "colab_type": "text",
    "id": "vvTjAxOYYAkE"
   },
   "source": [
    "Remove os datasets de treino e de teste, uma vez que agora temos um dataset completo com os dois.\n",
    "\n",
    "Isso é necessário para liberar o espaço em memoria usado por essas variaveis, que é consideravel."
   ]
  },
  {
   "cell_type": "code",
   "execution_count": 15,
   "metadata": {
    "colab": {
     "autoexec": {
      "startup": false,
      "wait_interval": 0
     }
    },
    "colab_type": "code",
    "id": "xBcSZkI6YFs8"
   },
   "outputs": [],
   "source": [
    "del train_complete_df, submission_df"
   ]
  },
  {
   "cell_type": "markdown",
   "metadata": {
    "colab_type": "text",
    "id": "F2VSW6u5Y9M9"
   },
   "source": [
    "### Tratamento nos campos de texto"
   ]
  },
  {
   "cell_type": "markdown",
   "metadata": {
    "colab_type": "text",
    "id": "1Hn7sTulywNk"
   },
   "source": [
    "#### Funções auxiliares para tratamento dos campos de texto"
   ]
  },
  {
   "cell_type": "code",
   "execution_count": 16,
   "metadata": {
    "colab": {
     "autoexec": {
      "startup": false,
      "wait_interval": 0
     }
    },
    "colab_type": "code",
    "id": "dTiY0C49yyB0"
   },
   "outputs": [],
   "source": [
    "def apply_uppercases_and_num_words(df, col_name):\n",
    "    '''Gera novas colunas, uma com a proporção de caracteres em caixa alta nos\n",
    "    textos de uma coluna expecifica do dataset (`col_name`), \n",
    "    além de outra com a quantidade de palavras. \n",
    "    O nome das novas colunas segue o padrão `perc_upper_cases_<nome_da_coluna>`\n",
    "    e `num_words_<nome_da_coluna>`.\n",
    "    \n",
    "    Entrada:\n",
    "        df: dataset onde sera gerado as novas colunas\n",
    "        col_name: Nome da coluna de onde serão analisados os textos\n",
    "        \n",
    "    Saída:\n",
    "        dataset com as novas colunas\n",
    "    \n",
    "    '''\n",
    "    uppercases = []\n",
    "    perc_uppercases = []\n",
    "    total_num_words = []\n",
    "    for text in df[col_name]:\n",
    "        text = str(text)\n",
    "        # remove numeros\n",
    "        text = re.sub('[0-9]+', '', text)\n",
    "        \n",
    "        total_uppers = sum(1 for c in text if c.isupper())\n",
    "        uppercases.append(total_uppers)\n",
    "        total = len(text)\n",
    "        if total == 0:\n",
    "            perc = 0.0\n",
    "        else:\n",
    "            perc = total_uppers/total\n",
    "        num_words = len(text.split(' '))\n",
    "        total_num_words.append(num_words)\n",
    "\n",
    "        perc_uppercases.append(perc)\n",
    "    \n",
    "    df[f'perc_uppercases_{col_name}'] = perc_uppercases\n",
    "    df[f'num_words_{col_name}'] = total_num_words\n",
    "    return df\n",
    "\n",
    "def return_text_cols_reduced(df):\n",
    "    '''Para cada texto na coluna `description` do dataset passado, aplica\n",
    "        o algoritmo RAKE (Rapid Automatic Keyword Extraction) \n",
    "        para determinar quais as palavras-chave mais importantes do texto.\n",
    "        Por fim seleciona apenas aquelas palavras que tem o rank maior ou igual\n",
    "        ao rank medio de todas as palavras-chave do texto.\n",
    "        \n",
    "        Carrega os dados em disco, caso os mesmos já tenham \n",
    "        sido executados anteriomente.\n",
    "    \n",
    "    Entrada:\n",
    "        df: dataset onde será aplicado o RAKE\n",
    "        \n",
    "    Saída:\n",
    "        vetor com descrições reduzidas, utilizando apenas as palavras-chave \n",
    "        mais importantes.\n",
    "    \n",
    "    '''\n",
    "    try:\n",
    "        description_reduced = load_from_disk('description_reduced.pkl')\n",
    "    except:\n",
    "        r = Rake(language='russian')\n",
    "\n",
    "        total = df['description'].shape[0]\n",
    "\n",
    "        verbose_step_size = int(total/10)\n",
    "        description_reduced = []\n",
    "        for i, description in enumerate(df['description']):\n",
    "            r.extract_keywords_from_text(description)\n",
    "            phrases_and_scores = r.get_ranked_phrases_with_scores()  \n",
    "            if len(phrases_and_scores) <= 1:\n",
    "                description_reduced.append(description)\n",
    "                continue\n",
    "            mean_score = np.mean([x[0] for x in phrases_and_scores])\n",
    "\n",
    "            highest_phrases = [x[1] for x in phrases_and_scores if x[0] >= mean_score]\n",
    "            reduced_description = ' '.join(highest_phrases)\n",
    "            description_reduced.append(reduced_description)\n",
    "\n",
    "            if i % verbose_step_size == 0:\n",
    "                print(f'{int(i/total*100)}') \n",
    "        save_to_disk('description_reduced.pkl', description_reduced)\n",
    "                \n",
    "        \n",
    "    return description_reduced\n",
    "\n",
    "def vectorized_texts_and_features(df):\n",
    "    '''Gera um vectorizer dos campos `description_reduced` e `title`.\n",
    "    Para tal utiliza o TfidfVectorizer em ambos os campos,\n",
    "    mas limitando o numero de features no campo `description_reduced`.\n",
    "    \n",
    "    Entrada:\n",
    "        df: dataset usado como origem para o vectorizer\n",
    "        \n",
    "    Saída:\n",
    "        Matriz de features TF-IDF.\n",
    "    \n",
    "    '''  \n",
    "    stop_words = stopwords.words('russian')\n",
    "\n",
    "    tfidf_params = {\n",
    "        \"token_pattern\": r'\\w{1,}',\n",
    "        \"analyzer\": 'word',\n",
    "        \"sublinear_tf\": True,\n",
    "        \"dtype\": np.float32,\n",
    "        \"norm\": 'l2',\n",
    "        \"stop_words\": stop_words,\n",
    "        \"smooth_idf\":False\n",
    "    }\n",
    "\n",
    "    vectorizer = FeatureUnion([\n",
    "        ('description_reduced',TfidfVectorizer(\n",
    "            ngram_range=(1, 2),\n",
    "            max_features=16000,\n",
    "            **tfidf_params,\n",
    "            preprocessor=lambda x: x['description_reduced'])),\n",
    "        ('title',TfidfVectorizer(\n",
    "            ngram_range=(1, 2),\n",
    "            **tfidf_params,\n",
    "            preprocessor=lambda x: x['title']))\n",
    "    ])\n",
    "\n",
    "\n",
    "    vectorizer.fit(df[['description_reduced', 'title']].to_dict('records'))\n",
    "    return vectorizer\n",
    "\n",
    "    \n",
    "def get_text_transformed_and_features_name(df):\n",
    "    '''Transforma os dados das colunas de `description_reduced` e `title` em uma \n",
    "    document-term matrix utilizando o TF-IDF.\n",
    "    \n",
    "        Carrega os dados em disco, caso os mesmos já tenham \n",
    "        sido executados anteriomente.\n",
    "    Entrada:\n",
    "        df: dataset usado como base para as operações.\n",
    "        \n",
    "    Saída:\n",
    "        (text_transformed, tfidf_features_name): Tupla onde o primeiro elemento\n",
    "         é a document-term matrix das colunas `description_reduced` e `title` \n",
    "        e o segundo elemento é o vetor com os nomes das features geradas.\n",
    "    \n",
    "    '''  \n",
    "    try:\n",
    "        text_transformed = load_from_disk('text_transformed.pkl')\n",
    "        tfidf_features_name = load_from_disk('tfidf_features_name.pkl')\n",
    "    except:\n",
    "        vectorizer = vectorized_texts_and_features(df)\n",
    "        text_transformed = vectorizer.transform(df.to_dict('records'))\n",
    "        tfidf_features_name = vectorizer.get_feature_names()\n",
    "        save_to_disk('text_transformed.pkl', text_transformed)\n",
    "        save_to_disk('tfidf_features_name.pkl', tfidf_features_name)\n",
    "    return text_transformed, tfidf_features_name\n"
   ]
  },
  {
   "cell_type": "markdown",
   "metadata": {
    "colab_type": "text",
    "id": "OYZy4ddQy8LP"
   },
   "source": [
    "Com essas funções auxiliares podemos agora tratar as features de texto do dataset."
   ]
  },
  {
   "cell_type": "markdown",
   "metadata": {
    "colab_type": "text",
    "id": "M_DaH2qNzN64"
   },
   "source": [
    "Primeiro trocamos os valores de descrição que são nulos por string vazias"
   ]
  },
  {
   "cell_type": "code",
   "execution_count": 17,
   "metadata": {
    "colab": {
     "autoexec": {
      "startup": false,
      "wait_interval": 0
     }
    },
    "colab_type": "code",
    "id": "vJ8Q6MUmzZak"
   },
   "outputs": [],
   "source": [
    "full_df['description'] = full_df['description'].replace(np.nan, '', regex=True)"
   ]
  },
  {
   "cell_type": "markdown",
   "metadata": {
    "colab_type": "text",
    "id": "St26FJjazZtE"
   },
   "source": [
    "Em seguida criamos as novas features com a porcentagem de caracteres em caixa alta e com o numero de palavras tanto para os textos de *description* quanto para os textos de *title*."
   ]
  },
  {
   "cell_type": "code",
   "execution_count": 18,
   "metadata": {
    "colab": {
     "autoexec": {
      "startup": false,
      "wait_interval": 0
     }
    },
    "colab_type": "code",
    "id": "54qZuPiMZDlM"
   },
   "outputs": [],
   "source": [
    "full_df = apply_uppercases_and_num_words(full_df, 'description')\n",
    "full_df = apply_uppercases_and_num_words(full_df, 'title')"
   ]
  },
  {
   "cell_type": "markdown",
   "metadata": {
    "colab_type": "text",
    "id": "_y7d7ORDz-Td"
   },
   "source": [
    "Utilizamos o algoritmo RAKE e geramos uma nova feature chamada *description_reduced* representando os campos *description* mas apenas com as palavras-chave mais importantes. \n",
    "\n",
    "Isso é importante pois utilizar toda a descrição acabou sendo inviável em termos de uso de memoria ao gerar o document-term matrix das features de  texto."
   ]
  },
  {
   "cell_type": "code",
   "execution_count": 19,
   "metadata": {
    "colab": {
     "autoexec": {
      "startup": false,
      "wait_interval": 0
     }
    },
    "colab_type": "code",
    "id": "S2I20xZ-z7zM"
   },
   "outputs": [],
   "source": [
    "full_df['description_reduced'] = return_text_cols_reduced(full_df)\n"
   ]
  },
  {
   "cell_type": "markdown",
   "metadata": {
    "colab_type": "text",
    "id": "Z5RSMMhV1Zd1"
   },
   "source": [
    "Transformamos então os dados das colunas de *description_reduced* e *title* em uma  document-term matrix utilizando o TF-IDF.\n",
    "\n",
    "salvamos também o nome das features representando cada coluna dessa matrix, pois mais à frente vamos usar esses dados."
   ]
  },
  {
   "cell_type": "code",
   "execution_count": 20,
   "metadata": {
    "colab": {
     "autoexec": {
      "startup": false,
      "wait_interval": 0
     }
    },
    "colab_type": "code",
    "id": "_M18WpDt1aqF"
   },
   "outputs": [],
   "source": [
    "text_transformed, tfidf_features_name = get_text_transformed_and_features_name(full_df)"
   ]
  },
  {
   "cell_type": "markdown",
   "metadata": {
    "colab_type": "text",
    "id": "-b1as7-oiR0H"
   },
   "source": [
    "### Tratamento nos campos numericos"
   ]
  },
  {
   "cell_type": "markdown",
   "metadata": {
    "colab_type": "text",
    "id": "ERa23agnwSRU"
   },
   "source": [
    "A ideia é preencher os campos de *price* e *image_top_1* com valores negativo no lugar dos valores nulos.\n",
    "\n",
    "Além disso é aplicado uma função de log no preço para fique numa escala logaritmica. "
   ]
  },
  {
   "cell_type": "code",
   "execution_count": 21,
   "metadata": {
    "colab": {
     "autoexec": {
      "startup": false,
      "wait_interval": 0
     }
    },
    "colab_type": "code",
    "id": "eYOF3kuTwMC7"
   },
   "outputs": [],
   "source": [
    "full_df['price'] = np.log(full_df['price']+0.001)\n",
    "full_df['price'].fillna(-999,inplace=True)\n",
    "full_df['image_top_1'].fillna(-999,inplace=True)"
   ]
  },
  {
   "cell_type": "markdown",
   "metadata": {
    "colab_type": "text",
    "id": "qrsQ0FKLw3ZD"
   },
   "source": [
    "### Tratamento nos campos de categorias "
   ]
  },
  {
   "cell_type": "markdown",
   "metadata": {
    "colab_type": "text",
    "id": "48pyoQdbxLi8"
   },
   "source": [
    "Todos os campos que são um tipo de categoria serão processados usando um LabelEncoder, como estes os campos:\n",
    "\n",
    "*image_top_1*, *city*, *region*, *parent_category_name*, *category_name*, *user_type*, *param_1*.\n"
   ]
  },
  {
   "cell_type": "code",
   "execution_count": 22,
   "metadata": {
    "colab": {
     "autoexec": {
      "startup": false,
      "wait_interval": 0
     }
    },
    "colab_type": "code",
    "id": "u7-pU1rS05ua"
   },
   "outputs": [
    {
     "name": "stdout",
     "output_type": "stream",
     "text": [
      "encode image_top_1\n",
      "encode city\n",
      "encode region\n",
      "encode parent_category_name\n",
      "encode category_name\n",
      "encode user_type\n",
      "encode param_1\n"
     ]
    }
   ],
   "source": [
    "label_encoder = preprocessing.LabelEncoder()\n",
    "cat_features = [\n",
    "    'image_top_1',\n",
    "    'city',\n",
    "    'region',\n",
    "    'parent_category_name',\n",
    "    'category_name',\n",
    "    'user_type',\n",
    "    'param_1'\n",
    "]\n",
    "for feature_name in cat_features:\n",
    "    print(f'encode {feature_name}')\n",
    "    full_df[feature_name] = label_encoder.fit_transform(full_df[feature_name].astype(str))"
   ]
  },
  {
   "cell_type": "markdown",
   "metadata": {
    "colab_type": "text",
    "id": "h2Em6DMsxzWe"
   },
   "source": [
    "Terminado os tratamentos necessários, podemos novamente separar o que era parte do dataset de treinamento e o que era parte do dataset de teste (utilizando os indices salvos anteriormente)"
   ]
  },
  {
   "cell_type": "code",
   "execution_count": 23,
   "metadata": {
    "colab": {
     "autoexec": {
      "startup": false,
      "wait_interval": 0
     }
    },
    "colab_type": "code",
    "id": "6gpiLx_0xxRs"
   },
   "outputs": [],
   "source": [
    "train_complete_df = full_df.loc[train_complete_index,:].copy()\n",
    "submission_df = full_df.loc[submission_index,:].copy()"
   ]
  },
  {
   "cell_type": "markdown",
   "metadata": {
    "colab_type": "text",
    "id": "AQQIZCsyyLf0"
   },
   "source": [
    "Feito isso podemos remover o dataset intermediario (*full_df*) e utilizar o garbage collector do python para garantir que teremos mais memoria disponivel para o restante das operações"
   ]
  },
  {
   "cell_type": "code",
   "execution_count": 24,
   "metadata": {
    "colab": {
     "autoexec": {
      "startup": false,
      "wait_interval": 0
     }
    },
    "colab_type": "code",
    "id": "mUDlUl5_yK5u"
   },
   "outputs": [
    {
     "data": {
      "text/plain": [
       "5952"
      ]
     },
     "execution_count": 24,
     "metadata": {},
     "output_type": "execute_result"
    }
   ],
   "source": [
    "del full_df\n",
    "gc.collect()"
   ]
  },
  {
   "cell_type": "markdown",
   "metadata": {
    "colab_type": "text",
    "id": "Nt6FrJnX05uc"
   },
   "source": [
    "## Definição das features"
   ]
  },
  {
   "cell_type": "markdown",
   "metadata": {
    "colab_type": "text",
    "id": "IyjPHMpv2OZH"
   },
   "source": [
    "Começamos defindo algumas das features já conhecidas no dataset:"
   ]
  },
  {
   "cell_type": "code",
   "execution_count": 25,
   "metadata": {
    "colab": {
     "autoexec": {
      "startup": false,
      "wait_interval": 0
     }
    },
    "colab_type": "code",
    "id": "AIZFPZqI05ud"
   },
   "outputs": [],
   "source": [
    "features = [\n",
    "    'price', \n",
    "    'item_seq_number', \n",
    "    'image_top_1', \n",
    "    'city',\n",
    "    'region',\n",
    "    'parent_category_name',\n",
    "    'category_name',\n",
    "    'user_type',\n",
    "    'param_1'\n",
    "]"
   ]
  },
  {
   "cell_type": "markdown",
   "metadata": {
    "colab_type": "text",
    "id": "kuNVrpgK2VM9"
   },
   "source": [
    "Vamos usar também as features de porcentagem de caixas altas e numero de palavras geradas para o *titulo* e *descrição*"
   ]
  },
  {
   "cell_type": "code",
   "execution_count": 26,
   "metadata": {
    "colab": {
     "autoexec": {
      "startup": false,
      "wait_interval": 0
     }
    },
    "colab_type": "code",
    "id": "khwsIGNr2Vc1"
   },
   "outputs": [],
   "source": [
    "features.extend([\n",
    "    'perc_uppercases_description',\n",
    "    'perc_uppercases_title',\n",
    "    'num_words_description',\n",
    "    'num_words_title',\n",
    "])\n",
    "\n",
    "# lista com o nome de todas as features que serão usadas no modelo\n",
    "final_features_list = features + tfidf_features_name"
   ]
  },
  {
   "cell_type": "markdown",
   "metadata": {
    "colab_type": "text",
    "id": "m7VluusY05uf"
   },
   "source": [
    "### Junção das features do dataset com as features de texto vetorizadas"
   ]
  },
  {
   "cell_type": "markdown",
   "metadata": {
    "colab_type": "text",
    "id": "bYowj9l_2rAO"
   },
   "source": [
    "Em seguida montamos uma estrutura de dados que junta os dados das features definidas anteriormente com as features geradas a partir dos dados textuais.\n",
    "\n",
    "Novamente, para separar as features textuais originarias do dataset de treino e do dataset de teste, usamos os indices destes dataset definidos quando estes foram carregados."
   ]
  },
  {
   "cell_type": "code",
   "execution_count": 27,
   "metadata": {
    "colab": {
     "autoexec": {
      "startup": false,
      "wait_interval": 0
     }
    },
    "colab_type": "code",
    "id": "3w9pSTch05uf"
   },
   "outputs": [],
   "source": [
    "X = hstack([\n",
    "    csr_matrix(train_complete_df[features].values),  # pega as features do dataset de treino\n",
    "    text_transformed[0:train_complete_index.shape[0]] # pega as features de texto do dataset de treino\n",
    "])\n",
    "\n",
    "# mesma coisa para o dataset de teste\n",
    "submission_X = hstack([csr_matrix(submission_df[features].values), text_transformed[train_complete_index.shape[0]:]])\n"
   ]
  },
  {
   "cell_type": "markdown",
   "metadata": {
    "colab_type": "text",
    "id": "KxA4zVgJ05uh"
   },
   "source": [
    "### Separação entre train/test"
   ]
  },
  {
   "cell_type": "markdown",
   "metadata": {
    "colab_type": "text",
    "id": "bGZhfZRlc6r4"
   },
   "source": [
    "Foi realizada a separação dos dados do dataset completo de treino através do train_test_split que divide os arrays e/ou matrizes em subconjuntos de dados aleatórios.\n",
    "\n",
    "Foi dividido entre 80% à ser usado como treino dos modelos, e 20% para validação dos mesmos.\n",
    "\n",
    "Definimos um random_state para que o experimento fosse reprodutivel com os mesmos resultados."
   ]
  },
  {
   "cell_type": "code",
   "execution_count": 28,
   "metadata": {
    "colab": {
     "autoexec": {
      "startup": false,
      "wait_interval": 0
     }
    },
    "colab_type": "code",
    "id": "Y85sTXkB05ui"
   },
   "outputs": [],
   "source": [
    "X_train, X_test, y_train, y_test = train_test_split(\n",
    "    X, y, test_size=0.2, random_state=123654)"
   ]
  },
  {
   "cell_type": "markdown",
   "metadata": {
    "colab_type": "text",
    "id": "CSZICeOm05uk"
   },
   "source": [
    "## Comparativo entre modelos"
   ]
  },
  {
   "cell_type": "markdown",
   "metadata": {
    "colab_type": "text",
    "id": "KKiIzwxI6Qvu"
   },
   "source": [
    "Para facilitar a criação, a execução e a plotagem dos scores dos modelos, utilizamos algumas das funções definidas neste notebook como base (https://nbviewer.jupyter.org/gist/VictorGarritano/2aa620c41d0990bc36bbc4f76dc9434f#), com apenas algumas poucas alterações."
   ]
  },
  {
   "cell_type": "code",
   "execution_count": 30,
   "metadata": {
    "colab": {
     "autoexec": {
      "startup": false,
      "wait_interval": 0
     }
    },
    "colab_type": "code",
    "id": "nK4djQ9B6Pjn"
   },
   "outputs": [],
   "source": [
    "def create_model(klass, **params):\n",
    "    '''Inicializa o model, com os argumentos que são passados opcionalmente\n",
    "    \n",
    "    Entrada:\n",
    "        klass: Classe do modelo\n",
    "        **params: Parâmetros a serem passados para o modelo, no momento da inicialização\n",
    "        \n",
    "    Saída:\n",
    "        O modelo inicializado\n",
    "    '''\n",
    "    c = klass()\n",
    "    c.set_params(**params)\n",
    "    return c\n",
    "  \n",
    "def compute_score(klass, X_train, y_train, k=10, \n",
    "                scoring=['neg_mean_squared_error'], rt_train=False):\n",
    "    '''Realiza o treinamento e a validação, utilizando o cross-validation, e calcula as métricas desejadas\n",
    "\n",
    "    Entrada:\n",
    "        klass: modelo a ser treinado\n",
    "        X_train: Conjunto de dados de treinamento\n",
    "        y_train: resultados de cada exemplo do conjunto de dados\n",
    "        k: Quantidade de folds a serem usados na cross-validation; a cada iteração (k-1) folds \n",
    "            são usados para treino e o fold remanescente é utilizado para validação\n",
    "        scoring: Lista de métricas a serem calculadas para cada iteração da cross-validation\n",
    "        rt_train: Decide se as métricas calculadas para o conjunto de treinamento são retornadas ou não\n",
    "\n",
    "    Saída:\n",
    "        scores: Dicionário contendo as métricas de cada iteração da cross-validation\n",
    "\n",
    "    '''\n",
    "    scores = cross_validate(klass, X_train, y_train, cv=k, scoring=scoring, return_train_score=rt_train)        \n",
    "    return scores\n",
    "  \n",
    "def plot_metric(clf_scores, metrics):\n",
    "    '''Plota métricas específicas para os diversos modelos empregados.\n",
    "\n",
    "    Entrada:\n",
    "      clf_scores: Dicionário com as métricas dos modelos\n",
    "      metrics: Métricas a serem plotadas\n",
    "\n",
    "    Saída:\n",
    "      Gráfico com as métricas exibido na célula de saída\n",
    "    '''\n",
    "    warnings.filterwarnings('ignore')\n",
    "    for i, metric in enumerate(metrics):\n",
    "        plt.figure(figsize=(12,6))\n",
    "        for score in clf_scores:\n",
    "            x = range( len( clf_scores[score][metric]) )\n",
    "            y = clf_scores[score][metric]\n",
    "            plt.subplot(len(metrics),1,i+1)\n",
    "            plt.plot(x, y, alpha=0.3)\n",
    "            plt.scatter(x, y, label='{0}, média: {1}'.format(score, round(y.mean(),3)))\n",
    "            plt.xticks(x)\n",
    "            plt.xlabel('iteração', fontsize='large')\n",
    "            plt.title('{0} na validação'.format(metric.split('_')[1]),  fontsize='large')\n",
    "            plt.legend(loc='best', fontsize='large')\n",
    "            plt.grid('on')\n",
    "    plt.savefig('foo.png')\n",
    "    plt.show()\n",
    "    warnings.filterwarnings('default')\n"
   ]
  },
  {
   "cell_type": "markdown",
   "metadata": {
    "colab_type": "text",
    "id": "A3bVchj97fxG"
   },
   "source": [
    "Para salvar os scores definimos um dicionario que irá guardar os resultados de cada modelo analisado."
   ]
  },
  {
   "cell_type": "code",
   "execution_count": 34,
   "metadata": {
    "colab": {
     "autoexec": {
      "startup": false,
      "wait_interval": 0
     }
    },
    "colab_type": "code",
    "id": "fib5y3i005uk"
   },
   "outputs": [],
   "source": [
    "scores = {}"
   ]
  },
  {
   "cell_type": "markdown",
   "metadata": {
    "colab_type": "text",
    "id": "anrjFck905um"
   },
   "source": [
    "### SVM\n",
    "A aplicação do SVM (Support Vector Machine) foi inviável pelo tempo de processamento se muito extenso, ocorrer erros de memória (Memory Error) e causar travamentos na máquina onde foi executada."
   ]
  },
  {
   "cell_type": "code",
   "execution_count": 32,
   "metadata": {
    "colab": {
     "autoexec": {
      "startup": false,
      "wait_interval": 0
     }
    },
    "colab_type": "code",
    "id": "YVk07xh905un"
   },
   "outputs": [],
   "source": [
    "# svm_params = {'kernel':'rbf', 'cache_size': 4000}\n",
    "# svm = create_model(SVR, **svm_params)\n",
    "\n",
    "# svm_scores = compute_score(svm, X_train, y_train)\n",
    "# scores['svm'] = svm_scores"
   ]
  },
  {
   "cell_type": "markdown",
   "metadata": {
    "colab_type": "text",
    "id": "WQQcLj6M4Jy3"
   },
   "source": [
    "### Neural Network\n",
    "O uso de uma rede neural com essas features também se mostrou inviável, pois muitas vezes faltou memoria para fazer o fit do modelo,  e em outras o tempo se mostrou inviavel (demorando mais de dois dias sem terminar de executar)."
   ]
  },
  {
   "cell_type": "code",
   "execution_count": 33,
   "metadata": {
    "colab": {
     "autoexec": {
      "startup": false,
      "wait_interval": 0
     }
    },
    "colab_type": "code",
    "id": "D8YWQSff4Jy4"
   },
   "outputs": [],
   "source": [
    "# nn_params = {'hidden_layer_sizes': (100, 100, 100), 'activation': 'logistic', 'tol': 0.00001}\n",
    "# nn = create_model(MLPRegressor, **nn_params)\n",
    "\n",
    "\n",
    "# nn_scores = compute_score(nn, X_train, y_train)\n",
    "# scores['nn'] = nn_scores"
   ]
  },
  {
   "cell_type": "markdown",
   "metadata": {
    "colab_type": "text",
    "id": "rXKbWfvy05up"
   },
   "source": [
    "### Linear regression"
   ]
  },
  {
   "cell_type": "markdown",
   "metadata": {
    "colab_type": "text",
    "id": "nL6_-SWT4hpv"
   },
   "source": [
    "Vamos utilizar uma regressão linear simples para ter uma base.\n",
    "\n",
    "A vantagem do LinearRegression é que este ocupa pouca memora em disco em comparação com o MLPRegressor, portanto estamos utilizando 6 jobs simultaneos para que o fit não demore muito. "
   ]
  },
  {
   "cell_type": "code",
   "execution_count": 0,
   "metadata": {
    "colab": {
     "autoexec": {
      "startup": false,
      "wait_interval": 0
     }
    },
    "colab_type": "code",
    "id": "AxhsMPXU05uq"
   },
   "outputs": [],
   "source": [
    "lr = create_model(LinearRegression, **{'n_jobs':6})\n",
    "\n",
    "lr_scores = compute_score(lr, X_train, y_train)\n",
    "scores['lr'] = lr_scores\n",
    "save_to_disk('scores_lr.pkl', lr_scores)"
   ]
  },
  {
   "cell_type": "markdown",
   "metadata": {
    "colab_type": "text",
    "id": "H7UcyFsK05uv"
   },
   "source": [
    "### XGBoost"
   ]
  },
  {
   "cell_type": "markdown",
   "metadata": {
    "colab_type": "text",
    "id": "3jfyg5XU8V_v"
   },
   "source": [
    "Vamos utilizar agora o XGBRegressor, porem vamos tunar seus parametros para que ele tenha um uso adeguado ao nosso problema.\n",
    "\n",
    "Esses parametros foram em parte copiados de diversos foruns na internet, com dicas sobre como tunar os parametros deste modelo em especifico."
   ]
  },
  {
   "cell_type": "markdown",
   "metadata": {
    "colab_type": "text",
    "id": "lp52Xkao8xQv"
   },
   "source": [
    "Usamos o RandomizedSearchCV definindo alguns alguns parametros (`params`) que serão randomizados e tunados de acordo com os intervalos definidos para estes.\n"
   ]
  },
  {
   "cell_type": "markdown",
   "metadata": {
    "colab_type": "text",
    "id": "Y14LU1Gy9X_q"
   },
   "source": [
    "Como o modelo do XGBRegressor está configurado para utilizar 6 jobs paralelos, devemos apenas utilizar 1 job para executar o RandomizedSearchCV.\n"
   ]
  },
  {
   "cell_type": "code",
   "execution_count": 0,
   "metadata": {
    "colab": {
     "autoexec": {
      "startup": false,
      "wait_interval": 0
     }
    },
    "colab_type": "code",
    "id": "H5SN9wpv05uw"
   },
   "outputs": [],
   "source": [
    "one_to_left = st.beta(10, 1)  \n",
    "from_zero_positive = st.expon(0, 50)\n",
    "\n",
    "params = {  \n",
    "    \"n_estimators\": st.randint(3, 40),\n",
    "    \"max_depth\": st.randint(3, 40),\n",
    "    \"learning_rate\": st.uniform(0.05, 0.4),\n",
    "    \"colsample_bytree\": one_to_left,\n",
    "    \"subsample\": one_to_left,\n",
    "    \"gamma\": st.uniform(0, 10),\n",
    "    'reg_alpha': from_zero_positive,\n",
    "    \"min_child_weight\": from_zero_positive,\n",
    "}\n",
    "\n",
    "xgb_reg = create_model(XGBRegressor, **{'reg_lambda':0, 'n_jobs':6}) \n",
    "\n",
    "gs = RandomizedSearchCV(xgb_reg, params, n_jobs=1)  \n",
    "gs.fit(X_train, y_train) \n",
    "xgb_reg_best = gs.best_estimator_"
   ]
  },
  {
   "cell_type": "markdown",
   "metadata": {
    "colab_type": "text",
    "id": "7t5Vhv5j9zGn"
   },
   "source": [
    "Em seguida utilizamos o melhor modelo gerado pelo RandomizedSearchCV e computamos seu score."
   ]
  },
  {
   "cell_type": "code",
   "execution_count": 0,
   "metadata": {
    "colab": {
     "autoexec": {
      "startup": false,
      "wait_interval": 0
     }
    },
    "colab_type": "code",
    "id": "xgaa2RuM05uy"
   },
   "outputs": [],
   "source": [
    "xgb_reg_best = gs.best_estimator_\n",
    "xgb_scores = compute_score(xgb_reg_best, X_train, y_train)\n",
    "\n",
    "scores['xbg'] = xgb_scores\n",
    "\n",
    "save_to_disk('scores_xgb.pkl', xgb_scores)\n",
    "save_to_disk('scores_xgb_lr.pkl', scores)"
   ]
  },
  {
   "cell_type": "markdown",
   "metadata": {
    "colab_type": "text",
    "id": "xSL8t4g4-F4G"
   },
   "source": [
    "#### Importancia das Features no modelo\n",
    "Com o codigo à seguir conseguimos plotar a importancia de cada uma das features analisadas pelo XGBoost."
   ]
  },
  {
   "cell_type": "markdown",
   "metadata": {
    "colab_type": "text",
    "id": "syq1zyzr-iXK"
   },
   "source": [
    "Neste momento usamos a lista de todas as features (do dataset e as geradas pelo TF-IDF) para serem exibidas na legenda deste grafico."
   ]
  },
  {
   "cell_type": "code",
   "execution_count": 37,
   "metadata": {
    "colab": {
     "autoexec": {
      "startup": false,
      "wait_interval": 0
     }
    },
    "colab_type": "code",
    "id": "HjX_9KSxu-5x"
   },
   "outputs": [
    {
     "data": {
      "image/png": "[encoded data removed]",
      "text/plain": [
       "<Figure size 432x288 with 1 Axes>"
      ]
     },
     "metadata": {},
     "output_type": "display_data"
    }
   ],
   "source": [
    "def show_features_importance(xgb):\n",
    "    '''Essa função complicada é necessária pois ao salvar o modelo do XGBoost\n",
    "    em disco ele não retem os dados dos nomes das features.\n",
    "    Assim é necessario realizar um mapeamento dos nomes automaticos gerados pelo \n",
    "    modelo para os nomes das features originais.\n",
    "      \n",
    "    '''\n",
    "    final_features_list = features + tfidf_features_name\n",
    "    feature_map = {'f{}'.format(i): fname for i,fname in zip(range(len(final_features_list)), final_features_list)}\n",
    "    feature_map_values = {'f{}'.format(i): value for i,value in zip(range(len(final_features_list)), xgb.feature_importances_)}\n",
    "    sorted_feature_map_values = sorted(feature_map_values.items(), key=operator.itemgetter(1), reverse=True)\n",
    "    top_10_features_codes = [x[0] for x in sorted_feature_map_values[:10]]\n",
    "    \n",
    "    top_10_features_legend = ['{}: {}'.format(fcode, feature_map[fcode]) for fcode in top_10_features_codes]\n",
    "    \n",
    "    importance_plt = plot_importance(xgb, max_num_features=10)\n",
    "    for i, legend in enumerate(top_10_features_legend):\n",
    "        plt.text(500, 10-i, legend)\n",
    "    plt.show()\n",
    "\n",
    "show_features_importance(xgb_reg_best)"
   ]
  },
  {
   "cell_type": "markdown",
   "metadata": {
    "colab_type": "text",
    "id": "baCHq9F8_HEX"
   },
   "source": [
    "### Comparativo final dos scores"
   ]
  },
  {
   "cell_type": "code",
   "execution_count": 38,
   "metadata": {
    "colab": {
     "autoexec": {
      "startup": false,
      "wait_interval": 0
     }
    },
    "colab_type": "code",
    "id": "sQppIKHS05u0",
    "outputId": "8042003d-e0af-43ce-d57d-742d79967218"
   },
   "outputs": [
    {
     "data": {
      "image/png": "[encoded data removed]",
      "text/plain": [
       "<Figure size 864x432 with 1 Axes>"
      ]
     },
     "metadata": {},
     "output_type": "display_data"
    }
   ],
   "source": [
    "plot_metric(scores, ['test_neg_mean_squared_error'])"
   ]
  },
  {
   "cell_type": "markdown",
   "metadata": {
    "colab_type": "text",
    "id": "XPAegmwxhoVi"
   },
   "source": [
    "Como podemos ver o XGBRegressor teve um resultado muito melhor que o LinearRegressor em todos os folds da cross validation."
   ]
  },
  {
   "cell_type": "markdown",
   "metadata": {
    "colab_type": "text",
    "id": "CrKE3-pph1V6"
   },
   "source": [
    "### Visualizando os resultados do predict na validação"
   ]
  },
  {
   "cell_type": "markdown",
   "metadata": {
    "colab_type": "text",
    "id": "aFhv7h-DiG4R"
   },
   "source": [
    "Vamos gerar um dataset utilizando os dados previstos para o dataset de validação do treino e vamos comparar a distribuição dos resultados em relação ao resultado esperado. "
   ]
  },
  {
   "cell_type": "markdown",
   "metadata": {
    "colab_type": "text",
    "id": "aWOjrjnDiZoZ"
   },
   "source": [
    "Devemos também limitar os resultados previstos entre 0 e 1. \n",
    "\n",
    "Assim qualquer valor negativo vira 0, e qualquer valor acima de 1 é transformado em 1."
   ]
  },
  {
   "cell_type": "code",
   "execution_count": 40,
   "metadata": {
    "colab": {
     "autoexec": {
      "startup": false,
      "wait_interval": 0
     }
    },
    "colab_type": "code",
    "id": "42n0yJPrIgkH"
   },
   "outputs": [
    {
     "data": {
      "image/png": "[encoded data removed]",
      "text/plain": [
       "<Figure size 432x288 with 2 Axes>"
      ]
     },
     "metadata": {},
     "output_type": "display_data"
    }
   ],
   "source": [
    "def limit_value(value):\n",
    "    \"\"\"Limita um valor entre 0 e 1.\n",
    "    caso seja maior que 1, transforma em 1, e caso seja menor que 0\n",
    "    transforma em 0\n",
    "    \"\"\"\n",
    "    if value > 1:\n",
    "        value = 1\n",
    "    elif value < 0:\n",
    "        value = 0\n",
    "    return value\n",
    "\n",
    "  \n",
    "y_test_predict = xgb_reg_best.predict(X_test)\n",
    "y_test_predict_treated = np.array(list(map(limit_value, y_test_predict)))\n",
    "\n",
    "prediction_test_df = pd.DataFrame(\n",
    "    {'predicted_probability': y_test_predict_treated, 'deal_probability': y_test}, \n",
    ")\n",
    "prediction_test_df[['predicted_probability', 'deal_probability']].hist()\n",
    "plt.show()"
   ]
  },
  {
   "cell_type": "markdown",
   "metadata": {
    "colab_type": "text",
    "id": "geve29NKjdkD"
   },
   "source": [
    "E vemos mais detalhes utilizando o describe."
   ]
  },
  {
   "cell_type": "code",
   "execution_count": 41,
   "metadata": {
    "colab": {
     "autoexec": {
      "startup": false,
      "wait_interval": 0
     }
    },
    "colab_type": "code",
    "id": "Mf4LCbgtf83i"
   },
   "outputs": [
    {
     "data": {
      "text/html": [
       "<div>\n",
       "<style scoped>\n",
       "    .dataframe tbody tr th:only-of-type {\n",
       "        vertical-align: middle;\n",
       "    }\n",
       "\n",
       "    .dataframe tbody tr th {\n",
       "        vertical-align: top;\n",
       "    }\n",
       "\n",
       "    .dataframe thead th {\n",
       "        text-align: right;\n",
       "    }\n",
       "</style>\n",
       "<table border=\"1\" class=\"dataframe\">\n",
       "  <thead>\n",
       "    <tr style=\"text-align: right;\">\n",
       "      <th></th>\n",
       "      <th>predicted_probability</th>\n",
       "      <th>deal_probability</th>\n",
       "    </tr>\n",
       "  </thead>\n",
       "  <tbody>\n",
       "    <tr>\n",
       "      <th>count</th>\n",
       "      <td>300685.000000</td>\n",
       "      <td>300685.000000</td>\n",
       "    </tr>\n",
       "    <tr>\n",
       "      <th>mean</th>\n",
       "      <td>0.141679</td>\n",
       "      <td>0.139493</td>\n",
       "    </tr>\n",
       "    <tr>\n",
       "      <th>std</th>\n",
       "      <td>0.116530</td>\n",
       "      <td>0.260449</td>\n",
       "    </tr>\n",
       "    <tr>\n",
       "      <th>min</th>\n",
       "      <td>0.000000</td>\n",
       "      <td>0.000000</td>\n",
       "    </tr>\n",
       "    <tr>\n",
       "      <th>25%</th>\n",
       "      <td>0.053452</td>\n",
       "      <td>0.000000</td>\n",
       "    </tr>\n",
       "    <tr>\n",
       "      <th>50%</th>\n",
       "      <td>0.101444</td>\n",
       "      <td>0.000000</td>\n",
       "    </tr>\n",
       "    <tr>\n",
       "      <th>75%</th>\n",
       "      <td>0.193051</td>\n",
       "      <td>0.151780</td>\n",
       "    </tr>\n",
       "    <tr>\n",
       "      <th>max</th>\n",
       "      <td>0.733150</td>\n",
       "      <td>1.000000</td>\n",
       "    </tr>\n",
       "  </tbody>\n",
       "</table>\n",
       "</div>"
      ],
      "text/plain": [
       "       predicted_probability  deal_probability\n",
       "count          300685.000000     300685.000000\n",
       "mean                0.141679          0.139493\n",
       "std                 0.116530          0.260449\n",
       "min                 0.000000          0.000000\n",
       "25%                 0.053452          0.000000\n",
       "50%                 0.101444          0.000000\n",
       "75%                 0.193051          0.151780\n",
       "max                 0.733150          1.000000"
      ]
     },
     "execution_count": 41,
     "metadata": {},
     "output_type": "execute_result"
    }
   ],
   "source": [
    "prediction_test_df.describe()"
   ]
  },
  {
   "cell_type": "markdown",
   "metadata": {
    "colab_type": "text",
    "id": "5_wJer2Hj0FD"
   },
   "source": [
    "## Submissão\n",
    "Por fim iremos rodar o modelo escolhido no dataset que será utilizado para a submissão ao kaggle.\n",
    "\n",
    "Neste ponto as features de entrada já estão prontas para serem utilizadas.\n",
    "\n",
    "Novamente restringimos os valores do resultado para ficarem entre 0 e 1."
   ]
  },
  {
   "cell_type": "code",
   "execution_count": 42,
   "metadata": {
    "colab": {
     "autoexec": {
      "startup": false,
      "wait_interval": 0
     }
    },
    "colab_type": "code",
    "id": "s4yNWd-wgcsQ"
   },
   "outputs": [],
   "source": [
    "y_submission_predict = xgb_reg_best.predict(submission_X)\n",
    "y_submission_predict_treated = np.array(list(map(limit_value, y_submission_predict)))"
   ]
  },
  {
   "cell_type": "markdown",
   "metadata": {
    "colab_type": "text",
    "id": "Vh5XKOxLkYZj"
   },
   "source": [
    "Podemos olhar como ficou a aparencia dos resultados previstos, e comparar com outros histogramas realizados em experimentos anteriores."
   ]
  },
  {
   "cell_type": "code",
   "execution_count": 43,
   "metadata": {
    "colab": {
     "autoexec": {
      "startup": false,
      "wait_interval": 0
     }
    },
    "colab_type": "code",
    "id": "Fe56BS4Ggbhh"
   },
   "outputs": [
    {
     "data": {
      "image/png": "[encoded data removed]",
      "text/plain": [
       "<Figure size 432x288 with 1 Axes>"
      ]
     },
     "metadata": {},
     "output_type": "display_data"
    }
   ],
   "source": [
    "submission_prediction_df = pd.DataFrame(\n",
    "    {'deal_probability': y_submission_predict_treated}, \n",
    "    index=submission_df.index)\n",
    "submission_prediction_df['deal_probability'].hist()\n",
    "plt.show()"
   ]
  },
  {
   "cell_type": "markdown",
   "metadata": {
    "colab_type": "text",
    "id": "qZAT5SDsksDB"
   },
   "source": [
    "Analisamos também mais detalhes do resultado, inclusive para conferir se de fato nenhum valor fora do intervalo esperado foi gerado."
   ]
  },
  {
   "cell_type": "code",
   "execution_count": 44,
   "metadata": {
    "colab": {
     "autoexec": {
      "startup": false,
      "wait_interval": 0
     }
    },
    "colab_type": "code",
    "id": "d3cuV5KNgkUb"
   },
   "outputs": [
    {
     "data": {
      "text/plain": [
       "count    508438.000000\n",
       "mean          0.150341\n",
       "std           0.119854\n",
       "min           0.000000\n",
       "25%           0.057571\n",
       "50%           0.110739\n",
       "75%           0.206599\n",
       "max           0.723558\n",
       "Name: deal_probability, dtype: float64"
      ]
     },
     "execution_count": 44,
     "metadata": {},
     "output_type": "execute_result"
    }
   ],
   "source": [
    "submission_prediction_df['deal_probability'].describe()"
   ]
  },
  {
   "cell_type": "markdown",
   "metadata": {
    "colab_type": "text",
    "id": "QZMJtLjCk4q0"
   },
   "source": [
    "Novamente por segurança confirmamos que nenhum resultado está maior que 1 ou menor q zero, e que o tamanho da saida é exatamente do tamanho esperado"
   ]
  },
  {
   "cell_type": "code",
   "execution_count": 45,
   "metadata": {
    "colab": {
     "autoexec": {
      "startup": false,
      "wait_interval": 0
     }
    },
    "colab_type": "code",
    "id": "fLyZYIBQgr0o"
   },
   "outputs": [],
   "source": [
    "assert submission_prediction_df['deal_probability'].min() >= 0\n",
    "assert submission_prediction_df['deal_probability'].max() <= 1\n",
    "assert submission_prediction_df['deal_probability'].shape[0] == 508438"
   ]
  },
  {
   "cell_type": "markdown",
   "metadata": {
    "colab_type": "text",
    "id": "7a484q1ElQXZ"
   },
   "source": [
    "Geramos o CSV da submissão e então enviamos para o kaggle para uma avalialçao final."
   ]
  },
  {
   "cell_type": "code",
   "execution_count": 0,
   "metadata": {
    "colab": {
     "autoexec": {
      "startup": false,
      "wait_interval": 0
     }
    },
    "colab_type": "code",
    "id": "Fr6jLeqSgxi5"
   },
   "outputs": [],
   "source": [
    "submission_prediction_df.to_csv(\n",
    "    'submission_xgb.csv'\n",
    ")"
   ]
  },
  {
   "cell_type": "markdown",
   "metadata": {
    "colab_type": "text",
    "id": "n7xVFxwVrJfy"
   },
   "source": [
    "Onde obtivemos como score 0.2316 e a colocação 1182 (Ver imagem abaixo)"
   ]
  },
  {
   "cell_type": "markdown",
   "metadata": {
    "colab_type": "text",
    "id": "otpnuzR_npE1"
   },
   "source": [
    "![alt text][logo]\n",
    "\n",
    "[logo]: https://raw.githubusercontent.com/arruda/avito_challenge/master/score.png \"Logo Title Text 2\"\n"
   ]
  }
 ],
 "metadata": {
  "colab": {
   "collapsed_sections": [],
   "default_view": {},
   "name": "final_avito.ipynb",
   "provenance": [
    {
     "file_id": "https://github.com/arruda/avito_challenge/blob/master/final.ipynb",
     "timestamp": 1528334388986
    }
   ],
   "version": "0.3.2",
   "views": {}
  },
  "kernelspec": {
   "display_name": "Python 3",
   "language": "python",
   "name": "python3"
  },
  "language_info": {
   "codemirror_mode": {
    "name": "ipython",
    "version": 3
   },
   "file_extension": ".py",
   "mimetype": "text/x-python",
   "name": "python",
   "nbconvert_exporter": "python",
   "pygments_lexer": "ipython3",
   "version": "3.6.2"
  }
 },
 "nbformat": 4,
 "nbformat_minor": 1
}
